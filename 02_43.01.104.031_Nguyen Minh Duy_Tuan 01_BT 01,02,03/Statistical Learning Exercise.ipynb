{
 "cells": [
  {
   "cell_type": "code",
   "execution_count": 111,
   "metadata": {
    "_execution_state": "idle",
    "_uuid": "051d70d956493feee0c6d64651c6a088724dca2a"
   },
   "outputs": [
    {
     "data": {
      "text/html": [],
      "text/latex": [],
      "text/markdown": [],
      "text/plain": [
       "character(0)"
      ]
     },
     "metadata": {},
     "output_type": "display_data"
    }
   ],
   "source": [
    "## Importing packages\n",
    "\n",
    "# This R environment comes with all of CRAN and many other helpful packages preinstalled.\n",
    "# You can see which packages are installed by checking out the kaggle/rstats docker image: \n",
    "# https://github.com/kaggle/docker-rstats\n",
    "\n",
    "library(tidyverse) # metapackage with lots of helpful functions\n",
    "\n",
    "## Running code\n",
    "\n",
    "# In a notebook, you can run a single code cell by clicking in the cell and then hitting \n",
    "# the blue arrow to the left, or by clicking in the cell and pressing Shift+Enter. In a script, \n",
    "# you can run code by highlighting the code you want to run and then clicking the blue arrow\n",
    "# at the bottom of this window.\n",
    "\n",
    "## Reading in files\n",
    "\n",
    "# You can access files from datasets you've added to this kernel in the \"../input/\" directory.\n",
    "# You can see the files added to this kernel by running the code below. \n",
    "\n",
    "list.files(path = \"../input\")\n",
    "\n",
    "## Saving data\n",
    "\n",
    "# If you save any files or images, these will be put in the \"output\" directory. You \n",
    "# can see the output directory by committing and running your kernel (using the \n",
    "# Commit & Run button) and then checking out the compiled version of your kernel."
   ]
  },
  {
   "cell_type": "markdown",
   "metadata": {},
   "source": [
    "# Basic Commands"
   ]
  },
  {
   "cell_type": "markdown",
   "metadata": {},
   "source": [
    "**+ Function**"
   ]
  },
  {
   "cell_type": "code",
   "execution_count": 112,
   "metadata": {},
   "outputs": [
    {
     "name": "stderr",
     "output_type": "stream",
     "text": [
      "Your code contains a unicode char which cannot be displayed in your\n",
      "current locale and R will silently convert it to an escaped form when the\n",
      "R kernel executes this code. This can lead to subtle errors if you use\n",
      "such chars to do comparisons. For more information, please see\n",
      "https://github.com/IRkernel/repr/wiki/Problems-with-unicode-on-windows"
     ]
    }
   ],
   "source": [
    "plus_func <- function(input1, input2) {\n",
    "  res <- input1+input2\n",
    "  return(res)\n",
    "}\n",
    "# Ví dụ function"
   ]
  },
  {
   "cell_type": "code",
   "execution_count": 113,
   "metadata": {},
   "outputs": [
    {
     "name": "stderr",
     "output_type": "stream",
     "text": [
      "Your code contains a unicode char which cannot be displayed in your\n",
      "current locale and R will silently convert it to an escaped form when the\n",
      "R kernel executes this code. This can lead to subtle errors if you use\n",
      "such chars to do comparisons. For more information, please see\n",
      "https://github.com/IRkernel/repr/wiki/Problems-with-unicode-on-windows"
     ]
    }
   ],
   "source": [
    "?plus_func\n",
    "# Hiên document, thông tin về function sau ?"
   ]
  },
  {
   "cell_type": "code",
   "execution_count": 114,
   "metadata": {},
   "outputs": [
    {
     "name": "stderr",
     "output_type": "stream",
     "text": [
      "Your code contains a unicode char which cannot be displayed in your\n",
      "current locale and R will silently convert it to an escaped form when the\n",
      "R kernel executes this code. This can lead to subtle errors if you use\n",
      "such chars to do comparisons. For more information, please see\n",
      "https://github.com/IRkernel/repr/wiki/Problems-with-unicode-on-windows"
     ]
    }
   ],
   "source": [
    "?list.files\n",
    "# Ví dụ hiện thông tin của hàm list.files"
   ]
  },
  {
   "cell_type": "markdown",
   "metadata": {},
   "source": [
    "****+ Vector****"
   ]
  },
  {
   "cell_type": "code",
   "execution_count": 115,
   "metadata": {},
   "outputs": [
    {
     "name": "stderr",
     "output_type": "stream",
     "text": [
      "Your code contains a unicode char which cannot be displayed in your\n",
      "current locale and R will silently convert it to an escaped form when the\n",
      "R kernel executes this code. This can lead to subtle errors if you use\n",
      "such chars to do comparisons. For more information, please see\n",
      "https://github.com/IRkernel/repr/wiki/Problems-with-unicode-on-windows"
     ]
    }
   ],
   "source": [
    "a = c(1,3,5,7)\n",
    "b = c(2,4,6,8)\n",
    "# Tạo vector với hàm c(...)"
   ]
  },
  {
   "cell_type": "code",
   "execution_count": 116,
   "metadata": {},
   "outputs": [
    {
     "name": "stderr",
     "output_type": "stream",
     "text": [
      "Your code contains a unicode char which cannot be displayed in your\n",
      "current locale and R will silently convert it to an escaped form when the\n",
      "R kernel executes this code. This can lead to subtle errors if you use\n",
      "such chars to do comparisons. For more information, please see\n",
      "https://github.com/IRkernel/repr/wiki/Problems-with-unicode-on-windows"
     ]
    },
    {
     "name": "stdout",
     "output_type": "stream",
     "text": [
      "Vector a: [ 1 3 5 7 ] and length is 4"
     ]
    }
   ],
   "source": [
    "cat(\"Vector a: [\", a,'] and length is', length(a))\n",
    "# Hàm cat để xuất output, hàm length(vector) sẽ cho biết độ dài(số phần tử) của vector"
   ]
  },
  {
   "cell_type": "code",
   "execution_count": 117,
   "metadata": {},
   "outputs": [
    {
     "name": "stdout",
     "output_type": "stream",
     "text": [
      "Vector b: [ 2 4 6 8 ] and length is 4"
     ]
    }
   ],
   "source": [
    "cat(\"Vector b: [\", b,'] and length is', length(b))"
   ]
  },
  {
   "cell_type": "code",
   "execution_count": 118,
   "metadata": {},
   "outputs": [
    {
     "name": "stdout",
     "output_type": "stream",
     "text": [
      "vector a + b : 3 7 11 15"
     ]
    }
   ],
   "source": [
    "cat('vector a + b :', a+b)"
   ]
  },
  {
   "cell_type": "markdown",
   "metadata": {},
   "source": [
    "**ls() and rm()**"
   ]
  },
  {
   "cell_type": "code",
   "execution_count": 119,
   "metadata": {},
   "outputs": [
    {
     "name": "stderr",
     "output_type": "stream",
     "text": [
      "Your code contains a unicode char which cannot be displayed in your\n",
      "current locale and R will silently convert it to an escaped form when the\n",
      "R kernel executes this code. This can lead to subtle errors if you use\n",
      "such chars to do comparisons. For more information, please see\n",
      "https://github.com/IRkernel/repr/wiki/Problems-with-unicode-on-windows"
     ]
    },
    {
     "data": {
      "text/html": [
       "<ol class=list-inline>\n",
       "\t<li>'a'</li>\n",
       "\t<li>'b'</li>\n",
       "\t<li>'plus_func'</li>\n",
       "</ol>\n"
      ],
      "text/latex": [
       "\\begin{enumerate*}\n",
       "\\item 'a'\n",
       "\\item 'b'\n",
       "\\item 'plus\\_func'\n",
       "\\end{enumerate*}\n"
      ],
      "text/markdown": [
       "1. 'a'\n",
       "2. 'b'\n",
       "3. 'plus_func'\n",
       "\n",
       "\n"
      ],
      "text/plain": [
       "[1] \"a\"         \"b\"         \"plus_func\""
      ]
     },
     "metadata": {},
     "output_type": "display_data"
    }
   ],
   "source": [
    "ls()\n",
    "# Hàm trả về 1 vector gồm các tên biến đã dùng"
   ]
  },
  {
   "cell_type": "code",
   "execution_count": 120,
   "metadata": {},
   "outputs": [
    {
     "name": "stderr",
     "output_type": "stream",
     "text": [
      "Your code contains a unicode char which cannot be displayed in your\n",
      "current locale and R will silently convert it to an escaped form when the\n",
      "R kernel executes this code. This can lead to subtle errors if you use\n",
      "such chars to do comparisons. For more information, please see\n",
      "https://github.com/IRkernel/repr/wiki/Problems-with-unicode-on-windows"
     ]
    }
   ],
   "source": [
    "rm(list=ls())\n",
    "# Xóa đi với hàm rm()"
   ]
  },
  {
   "cell_type": "code",
   "execution_count": 121,
   "metadata": {},
   "outputs": [
    {
     "data": {
      "text/html": [],
      "text/latex": [],
      "text/markdown": [],
      "text/plain": [
       "character(0)"
      ]
     },
     "metadata": {},
     "output_type": "display_data"
    }
   ],
   "source": [
    "ls()"
   ]
  },
  {
   "cell_type": "markdown",
   "metadata": {},
   "source": [
    "**Matrix**"
   ]
  },
  {
   "cell_type": "code",
   "execution_count": 122,
   "metadata": {},
   "outputs": [
    {
     "name": "stderr",
     "output_type": "stream",
     "text": [
      "Your code contains a unicode char which cannot be displayed in your\n",
      "current locale and R will silently convert it to an escaped form when the\n",
      "R kernel executes this code. This can lead to subtle errors if you use\n",
      "such chars to do comparisons. For more information, please see\n",
      "https://github.com/IRkernel/repr/wiki/Problems-with-unicode-on-windows"
     ]
    },
    {
     "name": "stdout",
     "output_type": "stream",
     "text": [
      "     [,1] [,2] [,3] [,4]\n",
      "[1,]    1    3    5    7\n",
      "[2,]    2    4    6    8\n"
     ]
    },
    {
     "data": {
      "text/html": [
       "<table>\n",
       "<tbody>\n",
       "\t<tr><td>1</td><td>3</td><td>5</td><td>7</td></tr>\n",
       "\t<tr><td>2</td><td>4</td><td>6</td><td>8</td></tr>\n",
       "</tbody>\n",
       "</table>\n"
      ],
      "text/latex": [
       "\\begin{tabular}{llll}\n",
       "\t 1 & 3 & 5 & 7\\\\\n",
       "\t 2 & 4 & 6 & 8\\\\\n",
       "\\end{tabular}\n"
      ],
      "text/markdown": [
       "\n",
       "| 1 | 3 | 5 | 7 |\n",
       "| 2 | 4 | 6 | 8 |\n",
       "\n"
      ],
      "text/plain": [
       "     [,1] [,2] [,3] [,4]\n",
       "[1,] 1    3    5    7   \n",
       "[2,] 2    4    6    8   "
      ]
     },
     "metadata": {},
     "output_type": "display_data"
    }
   ],
   "source": [
    "x = matrix(data=c(1,2,3,4,5,6,7,8),nrow=2,ncol=4)\n",
    "print(x)\n",
    "x\n",
    "# Tạo ma trận từ 1 vector kèm số dòng, số cột và xuất ra"
   ]
  },
  {
   "cell_type": "code",
   "execution_count": 123,
   "metadata": {},
   "outputs": [
    {
     "name": "stdout",
     "output_type": "stream",
     "text": [
      "     [,1] [,2]\n",
      "[1,]    1    5\n",
      "[2,]    2    6\n",
      "[3,]    3    7\n",
      "[4,]    4    8\n"
     ]
    },
    {
     "data": {
      "text/html": [
       "<table>\n",
       "<tbody>\n",
       "\t<tr><td>1</td><td>5</td></tr>\n",
       "\t<tr><td>2</td><td>6</td></tr>\n",
       "\t<tr><td>3</td><td>7</td></tr>\n",
       "\t<tr><td>4</td><td>8</td></tr>\n",
       "</tbody>\n",
       "</table>\n"
      ],
      "text/latex": [
       "\\begin{tabular}{ll}\n",
       "\t 1 & 5\\\\\n",
       "\t 2 & 6\\\\\n",
       "\t 3 & 7\\\\\n",
       "\t 4 & 8\\\\\n",
       "\\end{tabular}\n"
      ],
      "text/markdown": [
       "\n",
       "| 1 | 5 |\n",
       "| 2 | 6 |\n",
       "| 3 | 7 |\n",
       "| 4 | 8 |\n",
       "\n"
      ],
      "text/plain": [
       "     [,1] [,2]\n",
       "[1,] 1    5   \n",
       "[2,] 2    6   \n",
       "[3,] 3    7   \n",
       "[4,] 4    8   "
      ]
     },
     "metadata": {},
     "output_type": "display_data"
    }
   ],
   "source": [
    "x1 = matrix(c(1,2,3,4,5,6,7,8),4,2)\n",
    "print(x1)\n",
    "x1"
   ]
  },
  {
   "cell_type": "code",
   "execution_count": 124,
   "metadata": {},
   "outputs": [
    {
     "name": "stderr",
     "output_type": "stream",
     "text": [
      "Your code contains a unicode char which cannot be displayed in your\n",
      "current locale and R will silently convert it to an escaped form when the\n",
      "R kernel executes this code. This can lead to subtle errors if you use\n",
      "such chars to do comparisons. For more information, please see\n",
      "https://github.com/IRkernel/repr/wiki/Problems-with-unicode-on-windows"
     ]
    },
    {
     "data": {
      "text/html": [
       "<table>\n",
       "<tbody>\n",
       "\t<tr><td>1</td><td>3</td><td>5</td><td>7</td></tr>\n",
       "\t<tr><td>2</td><td>4</td><td>6</td><td>8</td></tr>\n",
       "</tbody>\n",
       "</table>\n"
      ],
      "text/latex": [
       "\\begin{tabular}{llll}\n",
       "\t 1 & 3 & 5 & 7\\\\\n",
       "\t 2 & 4 & 6 & 8\\\\\n",
       "\\end{tabular}\n"
      ],
      "text/markdown": [
       "\n",
       "| 1 | 3 | 5 | 7 |\n",
       "| 2 | 4 | 6 | 8 |\n",
       "\n"
      ],
      "text/plain": [
       "     [,1] [,2] [,3] [,4]\n",
       "[1,] 1    3    5    7   \n",
       "[2,] 2    4    6    8   "
      ]
     },
     "metadata": {},
     "output_type": "display_data"
    },
    {
     "data": {
      "text/html": [
       "<table>\n",
       "<tbody>\n",
       "\t<tr><td>1.000000</td><td>1.732051</td><td>2.236068</td><td>2.645751</td></tr>\n",
       "\t<tr><td>1.414214</td><td>2.000000</td><td>2.449490</td><td>2.828427</td></tr>\n",
       "</tbody>\n",
       "</table>\n"
      ],
      "text/latex": [
       "\\begin{tabular}{llll}\n",
       "\t 1.000000 & 1.732051 & 2.236068 & 2.645751\\\\\n",
       "\t 1.414214 & 2.000000 & 2.449490 & 2.828427\\\\\n",
       "\\end{tabular}\n"
      ],
      "text/markdown": [
       "\n",
       "| 1.000000 | 1.732051 | 2.236068 | 2.645751 |\n",
       "| 1.414214 | 2.000000 | 2.449490 | 2.828427 |\n",
       "\n"
      ],
      "text/plain": [
       "     [,1]     [,2]     [,3]     [,4]    \n",
       "[1,] 1.000000 1.732051 2.236068 2.645751\n",
       "[2,] 1.414214 2.000000 2.449490 2.828427"
      ]
     },
     "metadata": {},
     "output_type": "display_data"
    }
   ],
   "source": [
    "x\n",
    "sqrt(x)\n",
    "# Hàm lấy căn bậc 2 cho tất cả các giá trị trong ma trận"
   ]
  },
  {
   "cell_type": "code",
   "execution_count": 125,
   "metadata": {},
   "outputs": [
    {
     "name": "stderr",
     "output_type": "stream",
     "text": [
      "Your code contains a unicode char which cannot be displayed in your\n",
      "current locale and R will silently convert it to an escaped form when the\n",
      "R kernel executes this code. This can lead to subtle errors if you use\n",
      "such chars to do comparisons. For more information, please see\n",
      "https://github.com/IRkernel/repr/wiki/Problems-with-unicode-on-windows"
     ]
    },
    {
     "data": {
      "text/html": [
       "<table>\n",
       "<tbody>\n",
       "\t<tr><td>1 </td><td> 9</td><td>25</td><td>49</td></tr>\n",
       "\t<tr><td>4 </td><td>16</td><td>36</td><td>64</td></tr>\n",
       "</tbody>\n",
       "</table>\n"
      ],
      "text/latex": [
       "\\begin{tabular}{llll}\n",
       "\t 1  &  9 & 25 & 49\\\\\n",
       "\t 4  & 16 & 36 & 64\\\\\n",
       "\\end{tabular}\n"
      ],
      "text/markdown": [
       "\n",
       "| 1  |  9 | 25 | 49 |\n",
       "| 4  | 16 | 36 | 64 |\n",
       "\n"
      ],
      "text/plain": [
       "     [,1] [,2] [,3] [,4]\n",
       "[1,] 1     9   25   49  \n",
       "[2,] 4    16   36   64  "
      ]
     },
     "metadata": {},
     "output_type": "display_data"
    }
   ],
   "source": [
    "x^2\n",
    "# Lấy bình phương cho tất cả các giá trị trong ma trận"
   ]
  },
  {
   "cell_type": "markdown",
   "metadata": {},
   "source": [
    "to compute the correlation: cor(x,y)"
   ]
  },
  {
   "cell_type": "code",
   "execution_count": 126,
   "metadata": {},
   "outputs": [
    {
     "data": {
      "text/html": [
       "0.588455865670019"
      ],
      "text/latex": [
       "0.588455865670019"
      ],
      "text/markdown": [
       "0.588455865670019"
      ],
      "text/plain": [
       "[1] 0.5884559"
      ]
     },
     "metadata": {},
     "output_type": "display_data"
    }
   ],
   "source": [
    "x2 = rnorm(50)\n",
    "y = x2 + rnorm(50,mean=50,sd=1)\n",
    "cor(x2,y)"
   ]
  },
  {
   "cell_type": "markdown",
   "metadata": {},
   "source": [
    "to reproduce the exact same set of random\n",
    "numbers: set.seed()"
   ]
  },
  {
   "cell_type": "code",
   "execution_count": 127,
   "metadata": {},
   "outputs": [
    {
     "data": {
      "text/html": [
       "<ol class=list-inline>\n",
       "\t<li>-1.14397631447974</li>\n",
       "\t<li>1.34212936561501</li>\n",
       "\t<li>2.18539047574276</li>\n",
       "\t<li>0.536392517923731</li>\n",
       "\t<li>0.0631929664685468</li>\n",
       "\t<li>0.502234482468979</li>\n",
       "\t<li>-0.000416724686432643</li>\n",
       "\t<li>0.565819840539162</li>\n",
       "\t<li>-0.572522688962623</li>\n",
       "\t<li>-1.11022500727696</li>\n",
       "</ol>\n"
      ],
      "text/latex": [
       "\\begin{enumerate*}\n",
       "\\item -1.14397631447974\n",
       "\\item 1.34212936561501\n",
       "\\item 2.18539047574276\n",
       "\\item 0.536392517923731\n",
       "\\item 0.0631929664685468\n",
       "\\item 0.502234482468979\n",
       "\\item -0.000416724686432643\n",
       "\\item 0.565819840539162\n",
       "\\item -0.572522688962623\n",
       "\\item -1.11022500727696\n",
       "\\end{enumerate*}\n"
      ],
      "text/markdown": [
       "1. -1.14397631447974\n",
       "2. 1.34212936561501\n",
       "3. 2.18539047574276\n",
       "4. 0.536392517923731\n",
       "5. 0.0631929664685468\n",
       "6. 0.502234482468979\n",
       "7. -0.000416724686432643\n",
       "8. 0.565819840539162\n",
       "9. -0.572522688962623\n",
       "10. -1.11022500727696\n",
       "\n",
       "\n"
      ],
      "text/plain": [
       " [1] -1.1439763145  1.3421293656  2.1853904757  0.5363925179  0.0631929665\n",
       " [6]  0.5022344825 -0.0004167247  0.5658198405 -0.5725226890 -1.1102250073"
      ]
     },
     "metadata": {},
     "output_type": "display_data"
    },
    {
     "data": {
      "text/html": [
       "<ol class=list-inline>\n",
       "\t<li>-1.14397631447974</li>\n",
       "\t<li>1.34212936561501</li>\n",
       "\t<li>2.18539047574276</li>\n",
       "\t<li>0.536392517923731</li>\n",
       "\t<li>0.0631929664685468</li>\n",
       "\t<li>0.502234482468979</li>\n",
       "\t<li>-0.000416724686432643</li>\n",
       "\t<li>0.565819840539162</li>\n",
       "\t<li>-0.572522688962623</li>\n",
       "\t<li>-1.11022500727696</li>\n",
       "</ol>\n"
      ],
      "text/latex": [
       "\\begin{enumerate*}\n",
       "\\item -1.14397631447974\n",
       "\\item 1.34212936561501\n",
       "\\item 2.18539047574276\n",
       "\\item 0.536392517923731\n",
       "\\item 0.0631929664685468\n",
       "\\item 0.502234482468979\n",
       "\\item -0.000416724686432643\n",
       "\\item 0.565819840539162\n",
       "\\item -0.572522688962623\n",
       "\\item -1.11022500727696\n",
       "\\end{enumerate*}\n"
      ],
      "text/markdown": [
       "1. -1.14397631447974\n",
       "2. 1.34212936561501\n",
       "3. 2.18539047574276\n",
       "4. 0.536392517923731\n",
       "5. 0.0631929664685468\n",
       "6. 0.502234482468979\n",
       "7. -0.000416724686432643\n",
       "8. 0.565819840539162\n",
       "9. -0.572522688962623\n",
       "10. -1.11022500727696\n",
       "\n",
       "\n"
      ],
      "text/plain": [
       " [1] -1.1439763145  1.3421293656  2.1853904757  0.5363925179  0.0631929665\n",
       " [6]  0.5022344825 -0.0004167247  0.5658198405 -0.5725226890 -1.1102250073"
      ]
     },
     "metadata": {},
     "output_type": "display_data"
    },
    {
     "data": {
      "text/html": [
       "<ol class=list-inline>\n",
       "\t<li>-0.862100044330149</li>\n",
       "\t<li>0.226838958933279</li>\n",
       "\t<li>0.371346864427161</li>\n",
       "\t<li>-0.0660952454782729</li>\n",
       "\t<li>0.537830724771065</li>\n",
       "\t<li>-0.193753834070539</li>\n",
       "\t<li>-2.31328105572831</li>\n",
       "\t<li>0.966627838158619</li>\n",
       "\t<li>1.56318716328868</li>\n",
       "\t<li>1.71502509683622</li>\n",
       "</ol>\n"
      ],
      "text/latex": [
       "\\begin{enumerate*}\n",
       "\\item -0.862100044330149\n",
       "\\item 0.226838958933279\n",
       "\\item 0.371346864427161\n",
       "\\item -0.0660952454782729\n",
       "\\item 0.537830724771065\n",
       "\\item -0.193753834070539\n",
       "\\item -2.31328105572831\n",
       "\\item 0.966627838158619\n",
       "\\item 1.56318716328868\n",
       "\\item 1.71502509683622\n",
       "\\end{enumerate*}\n"
      ],
      "text/markdown": [
       "1. -0.862100044330149\n",
       "2. 0.226838958933279\n",
       "3. 0.371346864427161\n",
       "4. -0.0660952454782729\n",
       "5. 0.537830724771065\n",
       "6. -0.193753834070539\n",
       "7. -2.31328105572831\n",
       "8. 0.966627838158619\n",
       "9. 1.56318716328868\n",
       "10. 1.71502509683622\n",
       "\n",
       "\n"
      ],
      "text/plain": [
       " [1] -0.86210004  0.22683896  0.37134686 -0.06609525  0.53783072 -0.19375383\n",
       " [7] -2.31328106  0.96662784  1.56318716  1.71502510"
      ]
     },
     "metadata": {},
     "output_type": "display_data"
    },
    {
     "data": {
      "text/html": [
       "<ol class=list-inline>\n",
       "\t<li>0.358055813438534</li>\n",
       "\t<li>0.0971563284702763</li>\n",
       "\t<li>0.601596146503389</li>\n",
       "\t<li>0.688797392141993</li>\n",
       "\t<li>0.189885831205319</li>\n",
       "\t<li>-1.14378934780547</li>\n",
       "\t<li>-0.692440325962102</li>\n",
       "\t<li>-2.2745641091686</li>\n",
       "\t<li>0.703967061346805</li>\n",
       "\t<li>-0.920307085812932</li>\n",
       "</ol>\n"
      ],
      "text/latex": [
       "\\begin{enumerate*}\n",
       "\\item 0.358055813438534\n",
       "\\item 0.0971563284702763\n",
       "\\item 0.601596146503389\n",
       "\\item 0.688797392141993\n",
       "\\item 0.189885831205319\n",
       "\\item -1.14378934780547\n",
       "\\item -0.692440325962102\n",
       "\\item -2.2745641091686\n",
       "\\item 0.703967061346805\n",
       "\\item -0.920307085812932\n",
       "\\end{enumerate*}\n"
      ],
      "text/markdown": [
       "1. 0.358055813438534\n",
       "2. 0.0971563284702763\n",
       "3. 0.601596146503389\n",
       "4. 0.688797392141993\n",
       "5. 0.189885831205319\n",
       "6. -1.14378934780547\n",
       "7. -0.692440325962102\n",
       "8. -2.2745641091686\n",
       "9. 0.703967061346805\n",
       "10. -0.920307085812932\n",
       "\n",
       "\n"
      ],
      "text/plain": [
       " [1]  0.35805581  0.09715633  0.60159615  0.68879739  0.18988583 -1.14378935\n",
       " [7] -0.69244033 -2.27456411  0.70396706 -0.92030709"
      ]
     },
     "metadata": {},
     "output_type": "display_data"
    },
    {
     "data": {
      "text/html": [
       "-0.239164229564278"
      ],
      "text/latex": [
       "-0.239164229564278"
      ],
      "text/markdown": [
       "-0.239164229564278"
      ],
      "text/plain": [
       "[1] -0.2391642"
      ]
     },
     "metadata": {},
     "output_type": "display_data"
    },
    {
     "data": {
      "text/html": [
       "0.971329861113168"
      ],
      "text/latex": [
       "0.971329861113168"
      ],
      "text/markdown": [
       "0.971329861113168"
      ],
      "text/plain": [
       "[1] 0.9713299"
      ]
     },
     "metadata": {},
     "output_type": "display_data"
    },
    {
     "data": {
      "text/html": [
       "0.985560683627938"
      ],
      "text/latex": [
       "0.985560683627938"
      ],
      "text/markdown": [
       "0.985560683627938"
      ],
      "text/plain": [
       "[1] 0.9855607"
      ]
     },
     "metadata": {},
     "output_type": "display_data"
    }
   ],
   "source": [
    "set.seed(1303)\n",
    "rnorm(10)\n",
    "set.seed(1303)\n",
    "rnorm(10)\n",
    "set.seed(1304)\n",
    "rnorm(10)\n",
    "set.seed(1305)\n",
    "x = rnorm(10)\n",
    "x\n",
    "mean(x)\n",
    "var(x)\n",
    "sd(x)"
   ]
  },
  {
   "cell_type": "markdown",
   "metadata": {},
   "source": [
    "# **Graphics**"
   ]
  },
  {
   "cell_type": "code",
   "execution_count": 128,
   "metadata": {},
   "outputs": [
    {
     "data": {
      "text/html": [
       "<ol class=list-inline>\n",
       "\t<li>'x'</li>\n",
       "\t<li>'x1'</li>\n",
       "\t<li>'x2'</li>\n",
       "\t<li>'y'</li>\n",
       "</ol>\n"
      ],
      "text/latex": [
       "\\begin{enumerate*}\n",
       "\\item 'x'\n",
       "\\item 'x1'\n",
       "\\item 'x2'\n",
       "\\item 'y'\n",
       "\\end{enumerate*}\n"
      ],
      "text/markdown": [
       "1. 'x'\n",
       "2. 'x1'\n",
       "3. 'x2'\n",
       "4. 'y'\n",
       "\n",
       "\n"
      ],
      "text/plain": [
       "[1] \"x\"  \"x1\" \"x2\" \"y\" "
      ]
     },
     "metadata": {},
     "output_type": "display_data"
    },
    {
     "data": {
      "text/html": [],
      "text/latex": [],
      "text/markdown": [],
      "text/plain": [
       "character(0)"
      ]
     },
     "metadata": {},
     "output_type": "display_data"
    }
   ],
   "source": [
    "ls()\n",
    "rm(list=ls())\n",
    "ls()"
   ]
  },
  {
   "cell_type": "code",
   "execution_count": 129,
   "metadata": {},
   "outputs": [
    {
     "data": {
      "text/html": [
       "<ol class=list-inline>\n",
       "\t<li>1.91291652641442</li>\n",
       "\t<li>-0.301361767091754</li>\n",
       "\t<li>0.139878591028877</li>\n",
       "\t<li>-0.582630061282704</li>\n",
       "\t<li>-0.34196746375515</li>\n",
       "\t<li>-0.581582881767701</li>\n",
       "\t<li>0.723069918694106</li>\n",
       "\t<li>0.361569992020703</li>\n",
       "\t<li>-0.322106943161924</li>\n",
       "\t<li>1.19567191094605</li>\n",
       "</ol>\n"
      ],
      "text/latex": [
       "\\begin{enumerate*}\n",
       "\\item 1.91291652641442\n",
       "\\item -0.301361767091754\n",
       "\\item 0.139878591028877\n",
       "\\item -0.582630061282704\n",
       "\\item -0.34196746375515\n",
       "\\item -0.581582881767701\n",
       "\\item 0.723069918694106\n",
       "\\item 0.361569992020703\n",
       "\\item -0.322106943161924\n",
       "\\item 1.19567191094605\n",
       "\\end{enumerate*}\n"
      ],
      "text/markdown": [
       "1. 1.91291652641442\n",
       "2. -0.301361767091754\n",
       "3. 0.139878591028877\n",
       "4. -0.582630061282704\n",
       "5. -0.34196746375515\n",
       "6. -0.581582881767701\n",
       "7. 0.723069918694106\n",
       "8. 0.361569992020703\n",
       "9. -0.322106943161924\n",
       "10. 1.19567191094605\n",
       "\n",
       "\n"
      ],
      "text/plain": [
       " [1]  1.9129165 -0.3013618  0.1398786 -0.5826301 -0.3419675 -0.5815829\n",
       " [7]  0.7230699  0.3615700 -0.3221069  1.1956719"
      ]
     },
     "metadata": {},
     "output_type": "display_data"
    },
    {
     "data": {
      "text/html": [
       "<ol class=list-inline>\n",
       "\t<li>-0.814789897281981</li>\n",
       "\t<li>-2.00734327992132</li>\n",
       "\t<li>-1.00624256719572</li>\n",
       "\t<li>1.0091671255995</li>\n",
       "\t<li>1.30395334772627</li>\n",
       "\t<li>1.30471222216153</li>\n",
       "\t<li>-0.781479102502172</li>\n",
       "\t<li>-0.950242461118694</li>\n",
       "\t<li>2.34643740378622</li>\n",
       "\t<li>0.482705829975941</li>\n",
       "</ol>\n"
      ],
      "text/latex": [
       "\\begin{enumerate*}\n",
       "\\item -0.814789897281981\n",
       "\\item -2.00734327992132\n",
       "\\item -1.00624256719572\n",
       "\\item 1.0091671255995\n",
       "\\item 1.30395334772627\n",
       "\\item 1.30471222216153\n",
       "\\item -0.781479102502172\n",
       "\\item -0.950242461118694\n",
       "\\item 2.34643740378622\n",
       "\\item 0.482705829975941\n",
       "\\end{enumerate*}\n"
      ],
      "text/markdown": [
       "1. -0.814789897281981\n",
       "2. -2.00734327992132\n",
       "3. -1.00624256719572\n",
       "4. 1.0091671255995\n",
       "5. 1.30395334772627\n",
       "6. 1.30471222216153\n",
       "7. -0.781479102502172\n",
       "8. -0.950242461118694\n",
       "9. 2.34643740378622\n",
       "10. 0.482705829975941\n",
       "\n",
       "\n"
      ],
      "text/plain": [
       " [1] -0.8147899 -2.0073433 -1.0062426  1.0091671  1.3039533  1.3047122\n",
       " [7] -0.7814791 -0.9502425  2.3464374  0.4827058"
      ]
     },
     "metadata": {},
     "output_type": "display_data"
    },
    {
     "data": {
      "image/png": "[encoded data removed]",
      "text/plain": [
       "plot without title"
      ]
     },
     "metadata": {},
     "output_type": "display_data"
    }
   ],
   "source": [
    "x=rnorm(10)\n",
    "y=rnorm(10)\n",
    "x\n",
    "y\n",
    "plot(x,y)\n",
    "# Generic function for plotting of R objects"
   ]
  },
  {
   "cell_type": "markdown",
   "metadata": {},
   "source": [
    "**plot**(x,y) produces a scatterplot of the\n",
    "numbers in x versus the numbers in y"
   ]
  },
  {
   "cell_type": "code",
   "execution_count": 130,
   "metadata": {},
   "outputs": [
    {
     "data": {
      "image/png": "[encoded data removed]",
      "text/plain": [
       "Plot with title \"Plot of X vs Y\""
      ]
     },
     "metadata": {},
     "output_type": "display_data"
    }
   ],
   "source": [
    "plot(x,y,xlab=\"this is the x-axis\", ylab=\"this is the y-axis\",main=\"Plot of X vs Y\")\n"
   ]
  },
  {
   "cell_type": "markdown",
   "metadata": {},
   "source": [
    "dev.off() indicates to R that we are done\n",
    "creating the plot"
   ]
  },
  {
   "cell_type": "code",
   "execution_count": 131,
   "metadata": {},
   "outputs": [
    {
     "data": {
      "text/html": [
       "<strong>png:</strong> 2"
      ],
      "text/latex": [
       "\\textbf{png:} 2"
      ],
      "text/markdown": [
       "**png:** 2"
      ],
      "text/plain": [
       "png \n",
       "  2 "
      ]
     },
     "metadata": {},
     "output_type": "display_data"
    }
   ],
   "source": [
    "pdf(\"Figure.pdf\")\n",
    "plot(x, y, col=\"green\")\n",
    "dev.off() \n",
    "# null device\n",
    "# da co file 'Figure.pdf' o output va file anh"
   ]
  },
  {
   "cell_type": "markdown",
   "metadata": {},
   "source": [
    "**seq**() can be used to create a sequence of\n",
    "numbers"
   ]
  },
  {
   "cell_type": "code",
   "execution_count": 132,
   "metadata": {},
   "outputs": [
    {
     "data": {
      "text/html": [
       "<ol class=list-inline>\n",
       "\t<li>1</li>\n",
       "\t<li>2</li>\n",
       "\t<li>3</li>\n",
       "\t<li>4</li>\n",
       "\t<li>5</li>\n",
       "\t<li>6</li>\n",
       "\t<li>7</li>\n",
       "\t<li>8</li>\n",
       "\t<li>9</li>\n",
       "\t<li>10</li>\n",
       "</ol>\n"
      ],
      "text/latex": [
       "\\begin{enumerate*}\n",
       "\\item 1\n",
       "\\item 2\n",
       "\\item 3\n",
       "\\item 4\n",
       "\\item 5\n",
       "\\item 6\n",
       "\\item 7\n",
       "\\item 8\n",
       "\\item 9\n",
       "\\item 10\n",
       "\\end{enumerate*}\n"
      ],
      "text/markdown": [
       "1. 1\n",
       "2. 2\n",
       "3. 3\n",
       "4. 4\n",
       "5. 5\n",
       "6. 6\n",
       "7. 7\n",
       "8. 8\n",
       "9. 9\n",
       "10. 10\n",
       "\n",
       "\n"
      ],
      "text/plain": [
       " [1]  1  2  3  4  5  6  7  8  9 10"
      ]
     },
     "metadata": {},
     "output_type": "display_data"
    },
    {
     "data": {
      "text/html": [
       "<ol class=list-inline>\n",
       "\t<li>1</li>\n",
       "\t<li>2</li>\n",
       "\t<li>3</li>\n",
       "\t<li>4</li>\n",
       "\t<li>5</li>\n",
       "\t<li>6</li>\n",
       "\t<li>7</li>\n",
       "\t<li>8</li>\n",
       "\t<li>9</li>\n",
       "\t<li>10</li>\n",
       "</ol>\n"
      ],
      "text/latex": [
       "\\begin{enumerate*}\n",
       "\\item 1\n",
       "\\item 2\n",
       "\\item 3\n",
       "\\item 4\n",
       "\\item 5\n",
       "\\item 6\n",
       "\\item 7\n",
       "\\item 8\n",
       "\\item 9\n",
       "\\item 10\n",
       "\\end{enumerate*}\n"
      ],
      "text/markdown": [
       "1. 1\n",
       "2. 2\n",
       "3. 3\n",
       "4. 4\n",
       "5. 5\n",
       "6. 6\n",
       "7. 7\n",
       "8. 8\n",
       "9. 9\n",
       "10. 10\n",
       "\n",
       "\n"
      ],
      "text/plain": [
       " [1]  1  2  3  4  5  6  7  8  9 10"
      ]
     },
     "metadata": {},
     "output_type": "display_data"
    },
    {
     "data": {
      "text/html": [
       "<ol class=list-inline>\n",
       "\t<li>-3.14159265358979</li>\n",
       "\t<li>-3.0133643820147</li>\n",
       "\t<li>-2.88513611043961</li>\n",
       "\t<li>-2.75690783886451</li>\n",
       "\t<li>-2.62867956728942</li>\n",
       "\t<li>-2.50045129571433</li>\n",
       "\t<li>-2.37222302413923</li>\n",
       "\t<li>-2.24399475256414</li>\n",
       "\t<li>-2.11576648098904</li>\n",
       "\t<li>-1.98753820941395</li>\n",
       "\t<li>-1.85930993783886</li>\n",
       "\t<li>-1.73108166626376</li>\n",
       "\t<li>-1.60285339468867</li>\n",
       "\t<li>-1.47462512311358</li>\n",
       "\t<li>-1.34639685153848</li>\n",
       "\t<li>-1.21816857996339</li>\n",
       "\t<li>-1.0899403083883</li>\n",
       "\t<li>-0.961712036813202</li>\n",
       "\t<li>-0.833483765238109</li>\n",
       "\t<li>-0.705255493663015</li>\n",
       "\t<li>-0.577027222087922</li>\n",
       "\t<li>-0.448798950512828</li>\n",
       "\t<li>-0.320570678937734</li>\n",
       "\t<li>-0.192342407362641</li>\n",
       "\t<li>-0.064114135787547</li>\n",
       "\t<li>0.0641141357875465</li>\n",
       "\t<li>0.19234240736264</li>\n",
       "\t<li>0.320570678937734</li>\n",
       "\t<li>0.448798950512828</li>\n",
       "\t<li>0.577027222087921</li>\n",
       "\t<li>0.705255493663015</li>\n",
       "\t<li>0.833483765238108</li>\n",
       "\t<li>0.961712036813202</li>\n",
       "\t<li>1.0899403083883</li>\n",
       "\t<li>1.21816857996339</li>\n",
       "\t<li>1.34639685153848</li>\n",
       "\t<li>1.47462512311358</li>\n",
       "\t<li>1.60285339468867</li>\n",
       "\t<li>1.73108166626376</li>\n",
       "\t<li>1.85930993783886</li>\n",
       "\t<li>1.98753820941395</li>\n",
       "\t<li>2.11576648098904</li>\n",
       "\t<li>2.24399475256414</li>\n",
       "\t<li>2.37222302413923</li>\n",
       "\t<li>2.50045129571433</li>\n",
       "\t<li>2.62867956728942</li>\n",
       "\t<li>2.75690783886451</li>\n",
       "\t<li>2.88513611043961</li>\n",
       "\t<li>3.0133643820147</li>\n",
       "\t<li>3.14159265358979</li>\n",
       "</ol>\n"
      ],
      "text/latex": [
       "\\begin{enumerate*}\n",
       "\\item -3.14159265358979\n",
       "\\item -3.0133643820147\n",
       "\\item -2.88513611043961\n",
       "\\item -2.75690783886451\n",
       "\\item -2.62867956728942\n",
       "\\item -2.50045129571433\n",
       "\\item -2.37222302413923\n",
       "\\item -2.24399475256414\n",
       "\\item -2.11576648098904\n",
       "\\item -1.98753820941395\n",
       "\\item -1.85930993783886\n",
       "\\item -1.73108166626376\n",
       "\\item -1.60285339468867\n",
       "\\item -1.47462512311358\n",
       "\\item -1.34639685153848\n",
       "\\item -1.21816857996339\n",
       "\\item -1.0899403083883\n",
       "\\item -0.961712036813202\n",
       "\\item -0.833483765238109\n",
       "\\item -0.705255493663015\n",
       "\\item -0.577027222087922\n",
       "\\item -0.448798950512828\n",
       "\\item -0.320570678937734\n",
       "\\item -0.192342407362641\n",
       "\\item -0.064114135787547\n",
       "\\item 0.0641141357875465\n",
       "\\item 0.19234240736264\n",
       "\\item 0.320570678937734\n",
       "\\item 0.448798950512828\n",
       "\\item 0.577027222087921\n",
       "\\item 0.705255493663015\n",
       "\\item 0.833483765238108\n",
       "\\item 0.961712036813202\n",
       "\\item 1.0899403083883\n",
       "\\item 1.21816857996339\n",
       "\\item 1.34639685153848\n",
       "\\item 1.47462512311358\n",
       "\\item 1.60285339468867\n",
       "\\item 1.73108166626376\n",
       "\\item 1.85930993783886\n",
       "\\item 1.98753820941395\n",
       "\\item 2.11576648098904\n",
       "\\item 2.24399475256414\n",
       "\\item 2.37222302413923\n",
       "\\item 2.50045129571433\n",
       "\\item 2.62867956728942\n",
       "\\item 2.75690783886451\n",
       "\\item 2.88513611043961\n",
       "\\item 3.0133643820147\n",
       "\\item 3.14159265358979\n",
       "\\end{enumerate*}\n"
      ],
      "text/markdown": [
       "1. -3.14159265358979\n",
       "2. -3.0133643820147\n",
       "3. -2.88513611043961\n",
       "4. -2.75690783886451\n",
       "5. -2.62867956728942\n",
       "6. -2.50045129571433\n",
       "7. -2.37222302413923\n",
       "8. -2.24399475256414\n",
       "9. -2.11576648098904\n",
       "10. -1.98753820941395\n",
       "11. -1.85930993783886\n",
       "12. -1.73108166626376\n",
       "13. -1.60285339468867\n",
       "14. -1.47462512311358\n",
       "15. -1.34639685153848\n",
       "16. -1.21816857996339\n",
       "17. -1.0899403083883\n",
       "18. -0.961712036813202\n",
       "19. -0.833483765238109\n",
       "20. -0.705255493663015\n",
       "21. -0.577027222087922\n",
       "22. -0.448798950512828\n",
       "23. -0.320570678937734\n",
       "24. -0.192342407362641\n",
       "25. -0.064114135787547\n",
       "26. 0.0641141357875465\n",
       "27. 0.19234240736264\n",
       "28. 0.320570678937734\n",
       "29. 0.448798950512828\n",
       "30. 0.577027222087921\n",
       "31. 0.705255493663015\n",
       "32. 0.833483765238108\n",
       "33. 0.961712036813202\n",
       "34. 1.0899403083883\n",
       "35. 1.21816857996339\n",
       "36. 1.34639685153848\n",
       "37. 1.47462512311358\n",
       "38. 1.60285339468867\n",
       "39. 1.73108166626376\n",
       "40. 1.85930993783886\n",
       "41. 1.98753820941395\n",
       "42. 2.11576648098904\n",
       "43. 2.24399475256414\n",
       "44. 2.37222302413923\n",
       "45. 2.50045129571433\n",
       "46. 2.62867956728942\n",
       "47. 2.75690783886451\n",
       "48. 2.88513611043961\n",
       "49. 3.0133643820147\n",
       "50. 3.14159265358979\n",
       "\n",
       "\n"
      ],
      "text/plain": [
       " [1] -3.14159265 -3.01336438 -2.88513611 -2.75690784 -2.62867957 -2.50045130\n",
       " [7] -2.37222302 -2.24399475 -2.11576648 -1.98753821 -1.85930994 -1.73108167\n",
       "[13] -1.60285339 -1.47462512 -1.34639685 -1.21816858 -1.08994031 -0.96171204\n",
       "[19] -0.83348377 -0.70525549 -0.57702722 -0.44879895 -0.32057068 -0.19234241\n",
       "[25] -0.06411414  0.06411414  0.19234241  0.32057068  0.44879895  0.57702722\n",
       "[31]  0.70525549  0.83348377  0.96171204  1.08994031  1.21816858  1.34639685\n",
       "[37]  1.47462512  1.60285339  1.73108167  1.85930994  1.98753821  2.11576648\n",
       "[43]  2.24399475  2.37222302  2.50045130  2.62867957  2.75690784  2.88513611\n",
       "[49]  3.01336438  3.14159265"
      ]
     },
     "metadata": {},
     "output_type": "display_data"
    }
   ],
   "source": [
    "x = seq(1,10)\n",
    "x\n",
    "x = 1:10\n",
    "x\n",
    "x = seq(-pi,pi,length=50)\n",
    "x"
   ]
  },
  {
   "cell_type": "markdown",
   "metadata": {},
   "source": [
    "**contour**() function produces a contour plot in order to represent three-dimensional data\n",
    "1. A vector of the x values (the first dimension),\n",
    "2. A vector of the y values (the second dimension)\n",
    "3. A matrix whose elements correspond to the z value (the third\n",
    "dimension) for each pair of (x,y) coordinates."
   ]
  },
  {
   "cell_type": "code",
   "execution_count": 133,
   "metadata": {},
   "outputs": [
    {
     "data": {
      "image/png": "[encoded data removed]",
      "text/plain": [
       "plot without title"
      ]
     },
     "metadata": {},
     "output_type": "display_data"
    },
    {
     "data": {
      "image/png": "[encoded data removed]",
      "text/plain": [
       "plot without title"
      ]
     },
     "metadata": {},
     "output_type": "display_data"
    }
   ],
   "source": [
    "y = x\n",
    "f = outer(x, y, function(x,y)cos (y)/(1+x^2))\n",
    "contour(x,y,f)\n",
    "contour(x,y,f,nlevels =45, add=T)\n",
    "fa=(f-t(f))/2\n",
    "contour(x, y, fa,nlevels = 15)"
   ]
  },
  {
   "cell_type": "markdown",
   "metadata": {},
   "source": [
    "**persp**() can be used to produce a threedimensional plot"
   ]
  },
  {
   "cell_type": "code",
   "execution_count": 134,
   "metadata": {},
   "outputs": [
    {
     "data": {
      "image/png": "[encoded data removed]",
      "text/plain": [
       "plot without title"
      ]
     },
     "metadata": {},
     "output_type": "display_data"
    },
    {
     "data": {
      "image/png": "[encoded data removed]",
      "text/plain": [
       "plot without title"
      ]
     },
     "metadata": {},
     "output_type": "display_data"
    },
    {
     "data": {
      "image/png": "[encoded data removed]",
      "text/plain": [
       "plot without title"
      ]
     },
     "metadata": {},
     "output_type": "display_data"
    },
    {
     "data": {
      "image/png": "[encoded data removed]",
      "text/plain": [
       "plot without title"
      ]
     },
     "metadata": {},
     "output_type": "display_data"
    },
    {
     "data": {
      "image/png": "[encoded data removed]",
      "text/plain": [
       "plot without title"
      ]
     },
     "metadata": {},
     "output_type": "display_data"
    },
    {
     "data": {
      "image/png": "[encoded data removed]",
      "text/plain": [
       "plot without title"
      ]
     },
     "metadata": {},
     "output_type": "display_data"
    }
   ],
   "source": [
    "image (x, y,fa)\n",
    "persp(x,y,fa)\n",
    "persp(x, y, fa, theta = 30)\n",
    "persp (x, y, fa, theta=30, phi=20)\n",
    "persp (x, y, fa, theta=30, phi=70)\n",
    "persp(x, y, fa, theta=30, phi=40)\n"
   ]
  },
  {
   "cell_type": "markdown",
   "metadata": {},
   "source": [
    "Matrix index\n",
    "\n",
    "get sub matrix: matrix[hàng đàu : hàng cuối, cột đầu: cột cuối]"
   ]
  },
  {
   "cell_type": "code",
   "execution_count": 135,
   "metadata": {},
   "outputs": [
    {
     "data": {
      "text/html": [
       "<table>\n",
       "<tbody>\n",
       "\t<tr><td>1 </td><td>5 </td><td> 9</td><td>13</td></tr>\n",
       "\t<tr><td>2 </td><td>6 </td><td>10</td><td>14</td></tr>\n",
       "\t<tr><td>3 </td><td>7 </td><td>11</td><td>15</td></tr>\n",
       "\t<tr><td>4 </td><td>8 </td><td>12</td><td>16</td></tr>\n",
       "</tbody>\n",
       "</table>\n"
      ],
      "text/latex": [
       "\\begin{tabular}{llll}\n",
       "\t 1  & 5  &  9 & 13\\\\\n",
       "\t 2  & 6  & 10 & 14\\\\\n",
       "\t 3  & 7  & 11 & 15\\\\\n",
       "\t 4  & 8  & 12 & 16\\\\\n",
       "\\end{tabular}\n"
      ],
      "text/markdown": [
       "\n",
       "| 1  | 5  |  9 | 13 |\n",
       "| 2  | 6  | 10 | 14 |\n",
       "| 3  | 7  | 11 | 15 |\n",
       "| 4  | 8  | 12 | 16 |\n",
       "\n"
      ],
      "text/plain": [
       "     [,1] [,2] [,3] [,4]\n",
       "[1,] 1    5     9   13  \n",
       "[2,] 2    6    10   14  \n",
       "[3,] 3    7    11   15  \n",
       "[4,] 4    8    12   16  "
      ]
     },
     "metadata": {},
     "output_type": "display_data"
    },
    {
     "name": "stdout",
     "output_type": "stream",
     "text": [
      "phan tu hang 3 cot 2 la : 7\n",
      "hang thu 2 la : 2 6 10 14\n",
      "cot thu 3 la : 9 10 11 12"
     ]
    }
   ],
   "source": [
    "a = matrix(1:16,4,4)\n",
    "a\n",
    "cat('phan tu hang 3 cot 2 la :', a[3,2])\n",
    "cat('\\nhang thu 2 la :', a[2,])\n",
    "cat('\\ncot thu 3 la :', a[,3])"
   ]
  },
  {
   "cell_type": "code",
   "execution_count": 136,
   "metadata": {},
   "outputs": [
    {
     "data": {
      "text/html": [
       "<table>\n",
       "<tbody>\n",
       "\t<tr><td>5 </td><td>13</td></tr>\n",
       "\t<tr><td>7 </td><td>15</td></tr>\n",
       "</tbody>\n",
       "</table>\n"
      ],
      "text/latex": [
       "\\begin{tabular}{ll}\n",
       "\t 5  & 13\\\\\n",
       "\t 7  & 15\\\\\n",
       "\\end{tabular}\n"
      ],
      "text/markdown": [
       "\n",
       "| 5  | 13 |\n",
       "| 7  | 15 |\n",
       "\n"
      ],
      "text/plain": [
       "     [,1] [,2]\n",
       "[1,] 5    13  \n",
       "[2,] 7    15  "
      ]
     },
     "metadata": {},
     "output_type": "display_data"
    }
   ],
   "source": [
    "a[c(1,3),c(2,4)]"
   ]
  },
  {
   "cell_type": "code",
   "execution_count": 137,
   "metadata": {},
   "outputs": [
    {
     "data": {
      "text/html": [
       "<table>\n",
       "<tbody>\n",
       "\t<tr><td>5 </td><td> 9</td><td>13</td></tr>\n",
       "\t<tr><td>6 </td><td>10</td><td>14</td></tr>\n",
       "\t<tr><td>7 </td><td>11</td><td>15</td></tr>\n",
       "</tbody>\n",
       "</table>\n"
      ],
      "text/latex": [
       "\\begin{tabular}{lll}\n",
       "\t 5  &  9 & 13\\\\\n",
       "\t 6  & 10 & 14\\\\\n",
       "\t 7  & 11 & 15\\\\\n",
       "\\end{tabular}\n"
      ],
      "text/markdown": [
       "\n",
       "| 5  |  9 | 13 |\n",
       "| 6  | 10 | 14 |\n",
       "| 7  | 11 | 15 |\n",
       "\n"
      ],
      "text/plain": [
       "     [,1] [,2] [,3]\n",
       "[1,] 5     9   13  \n",
       "[2,] 6    10   14  \n",
       "[3,] 7    11   15  "
      ]
     },
     "metadata": {},
     "output_type": "display_data"
    }
   ],
   "source": [
    "a[1:3,2:4]"
   ]
  },
  {
   "cell_type": "code",
   "execution_count": 138,
   "metadata": {},
   "outputs": [
    {
     "data": {
      "text/html": [
       "<ol class=list-inline>\n",
       "\t<li>1</li>\n",
       "\t<li>5</li>\n",
       "\t<li>9</li>\n",
       "\t<li>13</li>\n",
       "</ol>\n"
      ],
      "text/latex": [
       "\\begin{enumerate*}\n",
       "\\item 1\n",
       "\\item 5\n",
       "\\item 9\n",
       "\\item 13\n",
       "\\end{enumerate*}\n"
      ],
      "text/markdown": [
       "1. 1\n",
       "2. 5\n",
       "3. 9\n",
       "4. 13\n",
       "\n",
       "\n"
      ],
      "text/plain": [
       "[1]  1  5  9 13"
      ]
     },
     "metadata": {},
     "output_type": "display_data"
    },
    {
     "data": {
      "text/html": [
       "<table>\n",
       "<tbody>\n",
       "\t<tr><td>1 </td><td>5 </td><td> 9</td></tr>\n",
       "\t<tr><td>2 </td><td>6 </td><td>10</td></tr>\n",
       "\t<tr><td>3 </td><td>7 </td><td>11</td></tr>\n",
       "\t<tr><td>4 </td><td>8 </td><td>12</td></tr>\n",
       "</tbody>\n",
       "</table>\n"
      ],
      "text/latex": [
       "\\begin{tabular}{lll}\n",
       "\t 1  & 5  &  9\\\\\n",
       "\t 2  & 6  & 10\\\\\n",
       "\t 3  & 7  & 11\\\\\n",
       "\t 4  & 8  & 12\\\\\n",
       "\\end{tabular}\n"
      ],
      "text/markdown": [
       "\n",
       "| 1  | 5  |  9 |\n",
       "| 2  | 6  | 10 |\n",
       "| 3  | 7  | 11 |\n",
       "| 4  | 8  | 12 |\n",
       "\n"
      ],
      "text/plain": [
       "     [,1] [,2] [,3]\n",
       "[1,] 1    5     9  \n",
       "[2,] 2    6    10  \n",
       "[3,] 3    7    11  \n",
       "[4,] 4    8    12  "
      ]
     },
     "metadata": {},
     "output_type": "display_data"
    }
   ],
   "source": [
    "a[1,]\n",
    "a[,1:3]"
   ]
  },
  {
   "cell_type": "code",
   "execution_count": 139,
   "metadata": {},
   "outputs": [
    {
     "name": "stderr",
     "output_type": "stream",
     "text": [
      "Your code contains a unicode char which cannot be displayed in your\n",
      "current locale and R will silently convert it to an escaped form when the\n",
      "R kernel executes this code. This can lead to subtle errors if you use\n",
      "such chars to do comparisons. For more information, please see\n",
      "https://github.com/IRkernel/repr/wiki/Problems-with-unicode-on-windows"
     ]
    },
    {
     "data": {
      "text/html": [
       "<table>\n",
       "<tbody>\n",
       "\t<tr><td>2 </td><td>6 </td><td>10</td><td>14</td></tr>\n",
       "\t<tr><td>4 </td><td>8 </td><td>12</td><td>16</td></tr>\n",
       "</tbody>\n",
       "</table>\n"
      ],
      "text/latex": [
       "\\begin{tabular}{llll}\n",
       "\t 2  & 6  & 10 & 14\\\\\n",
       "\t 4  & 8  & 12 & 16\\\\\n",
       "\\end{tabular}\n"
      ],
      "text/markdown": [
       "\n",
       "| 2  | 6  | 10 | 14 |\n",
       "| 4  | 8  | 12 | 16 |\n",
       "\n"
      ],
      "text/plain": [
       "     [,1] [,2] [,3] [,4]\n",
       "[1,] 2    6    10   14  \n",
       "[2,] 4    8    12   16  "
      ]
     },
     "metadata": {},
     "output_type": "display_data"
    },
    {
     "data": {
      "text/html": [
       "<ol class=list-inline>\n",
       "\t<li>6</li>\n",
       "\t<li>8</li>\n",
       "</ol>\n"
      ],
      "text/latex": [
       "\\begin{enumerate*}\n",
       "\\item 6\n",
       "\\item 8\n",
       "\\end{enumerate*}\n"
      ],
      "text/markdown": [
       "1. 6\n",
       "2. 8\n",
       "\n",
       "\n"
      ],
      "text/plain": [
       "[1] 6 8"
      ]
     },
     "metadata": {},
     "output_type": "display_data"
    },
    {
     "data": {
      "text/html": [
       "<ol class=list-inline>\n",
       "\t<li>4</li>\n",
       "\t<li>4</li>\n",
       "</ol>\n"
      ],
      "text/latex": [
       "\\begin{enumerate*}\n",
       "\\item 4\n",
       "\\item 4\n",
       "\\end{enumerate*}\n"
      ],
      "text/markdown": [
       "1. 4\n",
       "2. 4\n",
       "\n",
       "\n"
      ],
      "text/plain": [
       "[1] 4 4"
      ]
     },
     "metadata": {},
     "output_type": "display_data"
    }
   ],
   "source": [
    "a[-c(1,3),]\n",
    "a[-c(1,3),-c(1,3,4)]\n",
    "dim(a) # số chiều ma trận"
   ]
  },
  {
   "cell_type": "markdown",
   "metadata": {},
   "source": [
    "**Loading Data**\n",
    "+ read.table()    # Đọc dữ liệu từ file lưu vào bảng\n",
    "+ write.table()   # Xuất bảng dữ liệu\n",
    "+ fix()           # Hiện bảng dữ liệu ở 1 cửa sổ ngoài"
   ]
  },
  {
   "cell_type": "code",
   "execution_count": 140,
   "metadata": {
    "scrolled": true
   },
   "outputs": [],
   "source": [
    "auto = read.table(\"Auto.data\")\n",
    "# head(auto)\n",
    "fix(auto)"
   ]
  },
  {
   "cell_type": "code",
   "execution_count": 141,
   "metadata": {},
   "outputs": [],
   "source": [
    "auto = read.table(\"Auto.data\", header = T, na.string=\"?\")\n",
    "# fix(auto)"
   ]
  },
  {
   "cell_type": "code",
   "execution_count": 142,
   "metadata": {},
   "outputs": [
    {
     "name": "stderr",
     "output_type": "stream",
     "text": [
      "Your code contains a unicode char which cannot be displayed in your\n",
      "current locale and R will silently convert it to an escaped form when the\n",
      "R kernel executes this code. This can lead to subtle errors if you use\n",
      "such chars to do comparisons. For more information, please see\n",
      "https://github.com/IRkernel/repr/wiki/Problems-with-unicode-on-windows"
     ]
    },
    {
     "data": {
      "text/html": [
       "<ol class=list-inline>\n",
       "\t<li>397</li>\n",
       "\t<li>9</li>\n",
       "</ol>\n"
      ],
      "text/latex": [
       "\\begin{enumerate*}\n",
       "\\item 397\n",
       "\\item 9\n",
       "\\end{enumerate*}\n"
      ],
      "text/markdown": [
       "1. 397\n",
       "2. 9\n",
       "\n",
       "\n"
      ],
      "text/plain": [
       "[1] 397   9"
      ]
     },
     "metadata": {},
     "output_type": "display_data"
    },
    {
     "data": {
      "text/html": [
       "<ol class=list-inline>\n",
       "\t<li>'mpg'</li>\n",
       "\t<li>'cylinders'</li>\n",
       "\t<li>'displacement'</li>\n",
       "\t<li>'horsepower'</li>\n",
       "\t<li>'weight'</li>\n",
       "\t<li>'acceleration'</li>\n",
       "\t<li>'year'</li>\n",
       "\t<li>'origin'</li>\n",
       "\t<li>'name'</li>\n",
       "</ol>\n"
      ],
      "text/latex": [
       "\\begin{enumerate*}\n",
       "\\item 'mpg'\n",
       "\\item 'cylinders'\n",
       "\\item 'displacement'\n",
       "\\item 'horsepower'\n",
       "\\item 'weight'\n",
       "\\item 'acceleration'\n",
       "\\item 'year'\n",
       "\\item 'origin'\n",
       "\\item 'name'\n",
       "\\end{enumerate*}\n"
      ],
      "text/markdown": [
       "1. 'mpg'\n",
       "2. 'cylinders'\n",
       "3. 'displacement'\n",
       "4. 'horsepower'\n",
       "5. 'weight'\n",
       "6. 'acceleration'\n",
       "7. 'year'\n",
       "8. 'origin'\n",
       "9. 'name'\n",
       "\n",
       "\n"
      ],
      "text/plain": [
       "[1] \"mpg\"          \"cylinders\"    \"displacement\" \"horsepower\"   \"weight\"      \n",
       "[6] \"acceleration\" \"year\"         \"origin\"       \"name\"        "
      ]
     },
     "metadata": {},
     "output_type": "display_data"
    }
   ],
   "source": [
    "dim(auto)     # Số chiều (kích thước) ma trận (bảng dữ liệu)\n",
    "names(auto)   # Tên các cột trong table"
   ]
  },
  {
   "cell_type": "code",
   "execution_count": 143,
   "metadata": {},
   "outputs": [
    {
     "name": "stderr",
     "output_type": "stream",
     "text": [
      "The following objects are masked from auto (pos = 4):\n",
      "\n",
      "    acceleration, cylinders, displacement, horsepower, mpg, name,\n",
      "    origin, weight, year\n",
      "\n",
      "The following object is masked from package:ggplot2:\n",
      "\n",
      "    mpg\n",
      "\n"
     ]
    },
    {
     "data": {
      "image/png": "[encoded data removed]",
      "text/plain": [
       "plot without title"
      ]
     },
     "metadata": {},
     "output_type": "display_data"
    },
    {
     "data": {
      "image/png": "[encoded data removed]",
      "text/plain": [
       "plot without title"
      ]
     },
     "metadata": {},
     "output_type": "display_data"
    }
   ],
   "source": [
    "plot(auto$cylinders, auto$mpg)\n",
    "attach(auto)\n",
    "plot(cylinders,mpg)"
   ]
  },
  {
   "cell_type": "code",
   "execution_count": 144,
   "metadata": {},
   "outputs": [
    {
     "data": {
      "image/png": "[encoded data removed]",
      "text/plain": [
       "plot without title"
      ]
     },
     "metadata": {},
     "output_type": "display_data"
    }
   ],
   "source": [
    "cylinders = as.factor(cylinders)\n",
    "plot(cylinders,mpg)"
   ]
  },
  {
   "cell_type": "code",
   "execution_count": 145,
   "metadata": {},
   "outputs": [
    {
     "data": {
      "image/png": "[encoded data removed]",
      "text/plain": [
       "Plot with title \"Histogram of mpg\""
      ]
     },
     "metadata": {},
     "output_type": "display_data"
    }
   ],
   "source": [
    "hist(mpg)"
   ]
  },
  {
   "cell_type": "code",
   "execution_count": 146,
   "metadata": {},
   "outputs": [
    {
     "name": "stderr",
     "output_type": "stream",
     "text": [
      "Your code contains a unicode char which cannot be displayed in your\n",
      "current locale and R will silently convert it to an escaped form when the\n",
      "R kernel executes this code. This can lead to subtle errors if you use\n",
      "such chars to do comparisons. For more information, please see\n",
      "https://github.com/IRkernel/repr/wiki/Problems-with-unicode-on-windows"
     ]
    },
    {
     "data": {
      "image/png": "[encoded data removed]",
      "text/plain": [
       "plot without title"
      ]
     },
     "metadata": {},
     "output_type": "display_data"
    }
   ],
   "source": [
    "pairs(auto)  # Vẽ ra biểu đồ dữ liệu được ghép bởi dữ liệu các cột"
   ]
  },
  {
   "cell_type": "code",
   "execution_count": 147,
   "metadata": {},
   "outputs": [
    {
     "data": {
      "image/png": "[encoded data removed]",
      "text/plain": [
       "plot without title"
      ]
     },
     "metadata": {},
     "output_type": "display_data"
    }
   ],
   "source": [
    "pairs(~mpg+displacement+horsepower+weight+acceleration,auto)"
   ]
  },
  {
   "cell_type": "code",
   "execution_count": 148,
   "metadata": {},
   "outputs": [
    {
     "name": "stderr",
     "output_type": "stream",
     "text": [
      "Your code contains a unicode char which cannot be displayed in your\n",
      "current locale and R will silently convert it to an escaped form when the\n",
      "R kernel executes this code. This can lead to subtle errors if you use\n",
      "such chars to do comparisons. For more information, please see\n",
      "https://github.com/IRkernel/repr/wiki/Problems-with-unicode-on-windows"
     ]
    },
    {
     "data": {
      "text/html": [],
      "text/latex": [],
      "text/markdown": [],
      "text/plain": [
       "integer(0)"
      ]
     },
     "metadata": {},
     "output_type": "display_data"
    },
    {
     "data": {
      "image/png": "[encoded data removed]",
      "text/plain": [
       "plot without title"
      ]
     },
     "metadata": {},
     "output_type": "display_data"
    }
   ],
   "source": [
    "plot(horsepower,mpg)\n",
    "identify(horsepower,mpg,labels=name)  # Đặt nhãn cho biểu đồ"
   ]
  },
  {
   "cell_type": "code",
   "execution_count": 149,
   "metadata": {},
   "outputs": [
    {
     "name": "stderr",
     "output_type": "stream",
     "text": [
      "Your code contains a unicode char which cannot be displayed in your\n",
      "current locale and R will silently convert it to an escaped form when the\n",
      "R kernel executes this code. This can lead to subtle errors if you use\n",
      "such chars to do comparisons. For more information, please see\n",
      "https://github.com/IRkernel/repr/wiki/Problems-with-unicode-on-windows"
     ]
    },
    {
     "data": {
      "text/plain": [
       "      mpg          cylinders      displacement     horsepower        weight    \n",
       " Min.   : 9.00   Min.   :3.000   Min.   : 68.0   Min.   : 46.0   Min.   :1613  \n",
       " 1st Qu.:17.50   1st Qu.:4.000   1st Qu.:104.0   1st Qu.: 75.0   1st Qu.:2223  \n",
       " Median :23.00   Median :4.000   Median :146.0   Median : 93.5   Median :2800  \n",
       " Mean   :23.52   Mean   :5.458   Mean   :193.5   Mean   :104.5   Mean   :2970  \n",
       " 3rd Qu.:29.00   3rd Qu.:8.000   3rd Qu.:262.0   3rd Qu.:126.0   3rd Qu.:3609  \n",
       " Max.   :46.60   Max.   :8.000   Max.   :455.0   Max.   :230.0   Max.   :5140  \n",
       "                                                 NA's   :5                     \n",
       "  acceleration        year           origin                  name    \n",
       " Min.   : 8.00   Min.   :70.00   Min.   :1.000   ford pinto    :  6  \n",
       " 1st Qu.:13.80   1st Qu.:73.00   1st Qu.:1.000   amc matador   :  5  \n",
       " Median :15.50   Median :76.00   Median :1.000   ford maverick :  5  \n",
       " Mean   :15.56   Mean   :75.99   Mean   :1.574   toyota corolla:  5  \n",
       " 3rd Qu.:17.10   3rd Qu.:79.00   3rd Qu.:2.000   amc gremlin   :  4  \n",
       " Max.   :24.80   Max.   :82.00   Max.   :3.000   amc hornet    :  4  \n",
       "                                                 (Other)       :368  "
      ]
     },
     "metadata": {},
     "output_type": "display_data"
    }
   ],
   "source": [
    "summary(auto)  # Hiện thông tin thống kê về dữ liệu"
   ]
  },
  {
   "cell_type": "code",
   "execution_count": null,
   "metadata": {},
   "outputs": [],
   "source": []
  },
  {
   "cell_type": "markdown",
   "metadata": {},
   "source": [
    " # **Exercise 1**"
   ]
  },
  {
   "cell_type": "markdown",
   "metadata": {},
   "source": [
    "# (a) Use the *read.csv*() function to read the data into R. Call the loaded data college. Make sure that you have the directory set to the correct location for the data."
   ]
  },
  {
   "cell_type": "code",
   "execution_count": 150,
   "metadata": {},
   "outputs": [
    {
     "name": "stderr",
     "output_type": "stream",
     "text": [
      "Your code contains a unicode char which cannot be displayed in your\n",
      "current locale and R will silently convert it to an escaped form when the\n",
      "R kernel executes this code. This can lead to subtle errors if you use\n",
      "such chars to do comparisons. For more information, please see\n",
      "https://github.com/IRkernel/repr/wiki/Problems-with-unicode-on-windows"
     ]
    },
    {
     "data": {
      "text/html": [
       "<table>\n",
       "<thead><tr><th scope=col>X</th><th scope=col>Private</th><th scope=col>Apps</th><th scope=col>Accept</th><th scope=col>Enroll</th><th scope=col>Top10perc</th><th scope=col>Top25perc</th><th scope=col>F.Undergrad</th><th scope=col>P.Undergrad</th><th scope=col>Outstate</th><th scope=col>Room.Board</th><th scope=col>Books</th><th scope=col>Personal</th><th scope=col>PhD</th><th scope=col>Terminal</th><th scope=col>S.F.Ratio</th><th scope=col>perc.alumni</th><th scope=col>Expend</th><th scope=col>Grad.Rate</th></tr></thead>\n",
       "<tbody>\n",
       "\t<tr><td>Abilene Christian University</td><td>Yes                         </td><td>1660                        </td><td>1232                        </td><td>721                         </td><td>23                          </td><td>52                          </td><td>2885                        </td><td> 537                        </td><td> 7440                       </td><td>3300                        </td><td>450                         </td><td>2200                        </td><td>70                          </td><td>78                          </td><td>18.1                        </td><td>12                          </td><td> 7041                       </td><td>60                          </td></tr>\n",
       "\t<tr><td>Adelphi University          </td><td>Yes                         </td><td>2186                        </td><td>1924                        </td><td>512                         </td><td>16                          </td><td>29                          </td><td>2683                        </td><td>1227                        </td><td>12280                       </td><td>6450                        </td><td>750                         </td><td>1500                        </td><td>29                          </td><td>30                          </td><td>12.2                        </td><td>16                          </td><td>10527                       </td><td>56                          </td></tr>\n",
       "\t<tr><td>Adrian College              </td><td>Yes                         </td><td>1428                        </td><td>1097                        </td><td>336                         </td><td>22                          </td><td>50                          </td><td>1036                        </td><td>  99                        </td><td>11250                       </td><td>3750                        </td><td>400                         </td><td>1165                        </td><td>53                          </td><td>66                          </td><td>12.9                        </td><td>30                          </td><td> 8735                       </td><td>54                          </td></tr>\n",
       "\t<tr><td>Agnes Scott College         </td><td>Yes                         </td><td> 417                        </td><td> 349                        </td><td>137                         </td><td>60                          </td><td>89                          </td><td> 510                        </td><td>  63                        </td><td>12960                       </td><td>5450                        </td><td>450                         </td><td> 875                        </td><td>92                          </td><td>97                          </td><td> 7.7                        </td><td>37                          </td><td>19016                       </td><td>59                          </td></tr>\n",
       "\t<tr><td>Alaska Pacific University   </td><td>Yes                         </td><td> 193                        </td><td> 146                        </td><td> 55                         </td><td>16                          </td><td>44                          </td><td> 249                        </td><td> 869                        </td><td> 7560                       </td><td>4120                        </td><td>800                         </td><td>1500                        </td><td>76                          </td><td>72                          </td><td>11.9                        </td><td> 2                          </td><td>10922                       </td><td>15                          </td></tr>\n",
       "\t<tr><td>Albertson College           </td><td>Yes                         </td><td> 587                        </td><td> 479                        </td><td>158                         </td><td>38                          </td><td>62                          </td><td> 678                        </td><td>  41                        </td><td>13500                       </td><td>3335                        </td><td>500                         </td><td> 675                        </td><td>67                          </td><td>73                          </td><td> 9.4                        </td><td>11                          </td><td> 9727                       </td><td>55                          </td></tr>\n",
       "</tbody>\n",
       "</table>\n"
      ],
      "text/latex": [
       "\\begin{tabular}{r|lllllllllllllllllll}\n",
       " X & Private & Apps & Accept & Enroll & Top10perc & Top25perc & F.Undergrad & P.Undergrad & Outstate & Room.Board & Books & Personal & PhD & Terminal & S.F.Ratio & perc.alumni & Expend & Grad.Rate\\\\\n",
       "\\hline\n",
       "\t Abilene Christian University & Yes                          & 1660                         & 1232                         & 721                          & 23                           & 52                           & 2885                         &  537                         &  7440                        & 3300                         & 450                          & 2200                         & 70                           & 78                           & 18.1                         & 12                           &  7041                        & 60                          \\\\\n",
       "\t Adelphi University           & Yes                          & 2186                         & 1924                         & 512                          & 16                           & 29                           & 2683                         & 1227                         & 12280                        & 6450                         & 750                          & 1500                         & 29                           & 30                           & 12.2                         & 16                           & 10527                        & 56                          \\\\\n",
       "\t Adrian College               & Yes                          & 1428                         & 1097                         & 336                          & 22                           & 50                           & 1036                         &   99                         & 11250                        & 3750                         & 400                          & 1165                         & 53                           & 66                           & 12.9                         & 30                           &  8735                        & 54                          \\\\\n",
       "\t Agnes Scott College          & Yes                          &  417                         &  349                         & 137                          & 60                           & 89                           &  510                         &   63                         & 12960                        & 5450                         & 450                          &  875                         & 92                           & 97                           &  7.7                         & 37                           & 19016                        & 59                          \\\\\n",
       "\t Alaska Pacific University    & Yes                          &  193                         &  146                         &  55                          & 16                           & 44                           &  249                         &  869                         &  7560                        & 4120                         & 800                          & 1500                         & 76                           & 72                           & 11.9                         &  2                           & 10922                        & 15                          \\\\\n",
       "\t Albertson College            & Yes                          &  587                         &  479                         & 158                          & 38                           & 62                           &  678                         &   41                         & 13500                        & 3335                         & 500                          &  675                         & 67                           & 73                           &  9.4                         & 11                           &  9727                        & 55                          \\\\\n",
       "\\end{tabular}\n"
      ],
      "text/markdown": [
       "\n",
       "| X | Private | Apps | Accept | Enroll | Top10perc | Top25perc | F.Undergrad | P.Undergrad | Outstate | Room.Board | Books | Personal | PhD | Terminal | S.F.Ratio | perc.alumni | Expend | Grad.Rate |\n",
       "|---|---|---|---|---|---|---|---|---|---|---|---|---|---|---|---|---|---|---|\n",
       "| Abilene Christian University | Yes                          | 1660                         | 1232                         | 721                          | 23                           | 52                           | 2885                         |  537                         |  7440                        | 3300                         | 450                          | 2200                         | 70                           | 78                           | 18.1                         | 12                           |  7041                        | 60                           |\n",
       "| Adelphi University           | Yes                          | 2186                         | 1924                         | 512                          | 16                           | 29                           | 2683                         | 1227                         | 12280                        | 6450                         | 750                          | 1500                         | 29                           | 30                           | 12.2                         | 16                           | 10527                        | 56                           |\n",
       "| Adrian College               | Yes                          | 1428                         | 1097                         | 336                          | 22                           | 50                           | 1036                         |   99                         | 11250                        | 3750                         | 400                          | 1165                         | 53                           | 66                           | 12.9                         | 30                           |  8735                        | 54                           |\n",
       "| Agnes Scott College          | Yes                          |  417                         |  349                         | 137                          | 60                           | 89                           |  510                         |   63                         | 12960                        | 5450                         | 450                          |  875                         | 92                           | 97                           |  7.7                         | 37                           | 19016                        | 59                           |\n",
       "| Alaska Pacific University    | Yes                          |  193                         |  146                         |  55                          | 16                           | 44                           |  249                         |  869                         |  7560                        | 4120                         | 800                          | 1500                         | 76                           | 72                           | 11.9                         |  2                           | 10922                        | 15                           |\n",
       "| Albertson College            | Yes                          |  587                         |  479                         | 158                          | 38                           | 62                           |  678                         |   41                         | 13500                        | 3335                         | 500                          |  675                         | 67                           | 73                           |  9.4                         | 11                           |  9727                        | 55                           |\n",
       "\n"
      ],
      "text/plain": [
       "  X                            Private Apps Accept Enroll Top10perc Top25perc\n",
       "1 Abilene Christian University Yes     1660 1232   721    23        52       \n",
       "2 Adelphi University           Yes     2186 1924   512    16        29       \n",
       "3 Adrian College               Yes     1428 1097   336    22        50       \n",
       "4 Agnes Scott College          Yes      417  349   137    60        89       \n",
       "5 Alaska Pacific University    Yes      193  146    55    16        44       \n",
       "6 Albertson College            Yes      587  479   158    38        62       \n",
       "  F.Undergrad P.Undergrad Outstate Room.Board Books Personal PhD Terminal\n",
       "1 2885         537         7440    3300       450   2200     70  78      \n",
       "2 2683        1227        12280    6450       750   1500     29  30      \n",
       "3 1036          99        11250    3750       400   1165     53  66      \n",
       "4  510          63        12960    5450       450    875     92  97      \n",
       "5  249         869         7560    4120       800   1500     76  72      \n",
       "6  678          41        13500    3335       500    675     67  73      \n",
       "  S.F.Ratio perc.alumni Expend Grad.Rate\n",
       "1 18.1      12           7041  60       \n",
       "2 12.2      16          10527  56       \n",
       "3 12.9      30           8735  54       \n",
       "4  7.7      37          19016  59       \n",
       "5 11.9       2          10922  15       \n",
       "6  9.4      11           9727  55       "
      ]
     },
     "metadata": {},
     "output_type": "display_data"
    }
   ],
   "source": [
    "College <- read.csv(file = 'College.csv')  # đọc file\n",
    "head(College)    # Hiện vài dòng đầu của dữ liệu"
   ]
  },
  {
   "cell_type": "markdown",
   "metadata": {},
   "source": [
    "# (b) Look at the data using the *fix*() function. You should notice that the first column is just the name of each university. We don’t really want R to treat this as data. However, it may be handy to have these names for later.\n",
    "You should see that there is now a row.names column with the\n",
    "name of each university recorded. This means that R has given\n",
    "each row a name corresponding to the appropriate university.\n",
    "R will not try to perform calculations on the row names.\n",
    "However, we still need to eliminate the first column in the data\n",
    "where the names are stored. \n",
    "Try\n",
    "\n",
    "-> college=college[,-1]\n",
    "\n",
    "-> fix(college)\n",
    "\n",
    "Now you should see that the first data column is Private. Note\n",
    "that another column labeled row.names now appears before the\n",
    "Private column. However, this is not a data column but rather\n",
    "the name that R is giving to each row."
   ]
  },
  {
   "cell_type": "code",
   "execution_count": 151,
   "metadata": {},
   "outputs": [
    {
     "name": "stderr",
     "output_type": "stream",
     "text": [
      "Your code contains a unicode char which cannot be displayed in your\n",
      "current locale and R will silently convert it to an escaped form when the\n",
      "R kernel executes this code. This can lead to subtle errors if you use\n",
      "such chars to do comparisons. For more information, please see\n",
      "https://github.com/IRkernel/repr/wiki/Problems-with-unicode-on-windows"
     ]
    },
    {
     "data": {
      "text/html": [
       "<table>\n",
       "<thead><tr><th scope=col>Private</th><th scope=col>Apps</th><th scope=col>Accept</th><th scope=col>Enroll</th><th scope=col>Top10perc</th><th scope=col>Top25perc</th><th scope=col>F.Undergrad</th><th scope=col>P.Undergrad</th><th scope=col>Outstate</th><th scope=col>Room.Board</th><th scope=col>Books</th><th scope=col>Personal</th><th scope=col>PhD</th><th scope=col>Terminal</th><th scope=col>S.F.Ratio</th><th scope=col>perc.alumni</th><th scope=col>Expend</th><th scope=col>Grad.Rate</th></tr></thead>\n",
       "<tbody>\n",
       "\t<tr><td>Yes  </td><td>1660 </td><td>1232 </td><td>721  </td><td>23   </td><td>52   </td><td>2885 </td><td> 537 </td><td> 7440</td><td>3300 </td><td>450  </td><td>2200 </td><td>70   </td><td>78   </td><td>18.1 </td><td>12   </td><td> 7041</td><td>60   </td></tr>\n",
       "\t<tr><td>Yes  </td><td>2186 </td><td>1924 </td><td>512  </td><td>16   </td><td>29   </td><td>2683 </td><td>1227 </td><td>12280</td><td>6450 </td><td>750  </td><td>1500 </td><td>29   </td><td>30   </td><td>12.2 </td><td>16   </td><td>10527</td><td>56   </td></tr>\n",
       "\t<tr><td>Yes  </td><td>1428 </td><td>1097 </td><td>336  </td><td>22   </td><td>50   </td><td>1036 </td><td>  99 </td><td>11250</td><td>3750 </td><td>400  </td><td>1165 </td><td>53   </td><td>66   </td><td>12.9 </td><td>30   </td><td> 8735</td><td>54   </td></tr>\n",
       "\t<tr><td>Yes  </td><td> 417 </td><td> 349 </td><td>137  </td><td>60   </td><td>89   </td><td> 510 </td><td>  63 </td><td>12960</td><td>5450 </td><td>450  </td><td> 875 </td><td>92   </td><td>97   </td><td> 7.7 </td><td>37   </td><td>19016</td><td>59   </td></tr>\n",
       "\t<tr><td>Yes  </td><td> 193 </td><td> 146 </td><td> 55  </td><td>16   </td><td>44   </td><td> 249 </td><td> 869 </td><td> 7560</td><td>4120 </td><td>800  </td><td>1500 </td><td>76   </td><td>72   </td><td>11.9 </td><td> 2   </td><td>10922</td><td>15   </td></tr>\n",
       "\t<tr><td>Yes  </td><td> 587 </td><td> 479 </td><td>158  </td><td>38   </td><td>62   </td><td> 678 </td><td>  41 </td><td>13500</td><td>3335 </td><td>500  </td><td> 675 </td><td>67   </td><td>73   </td><td> 9.4 </td><td>11   </td><td> 9727</td><td>55   </td></tr>\n",
       "</tbody>\n",
       "</table>\n"
      ],
      "text/latex": [
       "\\begin{tabular}{r|llllllllllllllllll}\n",
       " Private & Apps & Accept & Enroll & Top10perc & Top25perc & F.Undergrad & P.Undergrad & Outstate & Room.Board & Books & Personal & PhD & Terminal & S.F.Ratio & perc.alumni & Expend & Grad.Rate\\\\\n",
       "\\hline\n",
       "\t Yes   & 1660  & 1232  & 721   & 23    & 52    & 2885  &  537  &  7440 & 3300  & 450   & 2200  & 70    & 78    & 18.1  & 12    &  7041 & 60   \\\\\n",
       "\t Yes   & 2186  & 1924  & 512   & 16    & 29    & 2683  & 1227  & 12280 & 6450  & 750   & 1500  & 29    & 30    & 12.2  & 16    & 10527 & 56   \\\\\n",
       "\t Yes   & 1428  & 1097  & 336   & 22    & 50    & 1036  &   99  & 11250 & 3750  & 400   & 1165  & 53    & 66    & 12.9  & 30    &  8735 & 54   \\\\\n",
       "\t Yes   &  417  &  349  & 137   & 60    & 89    &  510  &   63  & 12960 & 5450  & 450   &  875  & 92    & 97    &  7.7  & 37    & 19016 & 59   \\\\\n",
       "\t Yes   &  193  &  146  &  55   & 16    & 44    &  249  &  869  &  7560 & 4120  & 800   & 1500  & 76    & 72    & 11.9  &  2    & 10922 & 15   \\\\\n",
       "\t Yes   &  587  &  479  & 158   & 38    & 62    &  678  &   41  & 13500 & 3335  & 500   &  675  & 67    & 73    &  9.4  & 11    &  9727 & 55   \\\\\n",
       "\\end{tabular}\n"
      ],
      "text/markdown": [
       "\n",
       "| Private | Apps | Accept | Enroll | Top10perc | Top25perc | F.Undergrad | P.Undergrad | Outstate | Room.Board | Books | Personal | PhD | Terminal | S.F.Ratio | perc.alumni | Expend | Grad.Rate |\n",
       "|---|---|---|---|---|---|---|---|---|---|---|---|---|---|---|---|---|---|\n",
       "| Yes   | 1660  | 1232  | 721   | 23    | 52    | 2885  |  537  |  7440 | 3300  | 450   | 2200  | 70    | 78    | 18.1  | 12    |  7041 | 60    |\n",
       "| Yes   | 2186  | 1924  | 512   | 16    | 29    | 2683  | 1227  | 12280 | 6450  | 750   | 1500  | 29    | 30    | 12.2  | 16    | 10527 | 56    |\n",
       "| Yes   | 1428  | 1097  | 336   | 22    | 50    | 1036  |   99  | 11250 | 3750  | 400   | 1165  | 53    | 66    | 12.9  | 30    |  8735 | 54    |\n",
       "| Yes   |  417  |  349  | 137   | 60    | 89    |  510  |   63  | 12960 | 5450  | 450   |  875  | 92    | 97    |  7.7  | 37    | 19016 | 59    |\n",
       "| Yes   |  193  |  146  |  55   | 16    | 44    |  249  |  869  |  7560 | 4120  | 800   | 1500  | 76    | 72    | 11.9  |  2    | 10922 | 15    |\n",
       "| Yes   |  587  |  479  | 158   | 38    | 62    |  678  |   41  | 13500 | 3335  | 500   |  675  | 67    | 73    |  9.4  | 11    |  9727 | 55    |\n",
       "\n"
      ],
      "text/plain": [
       "  Private Apps Accept Enroll Top10perc Top25perc F.Undergrad P.Undergrad\n",
       "1 Yes     1660 1232   721    23        52        2885         537       \n",
       "2 Yes     2186 1924   512    16        29        2683        1227       \n",
       "3 Yes     1428 1097   336    22        50        1036          99       \n",
       "4 Yes      417  349   137    60        89         510          63       \n",
       "5 Yes      193  146    55    16        44         249         869       \n",
       "6 Yes      587  479   158    38        62         678          41       \n",
       "  Outstate Room.Board Books Personal PhD Terminal S.F.Ratio perc.alumni Expend\n",
       "1  7440    3300       450   2200     70  78       18.1      12           7041 \n",
       "2 12280    6450       750   1500     29  30       12.2      16          10527 \n",
       "3 11250    3750       400   1165     53  66       12.9      30           8735 \n",
       "4 12960    5450       450    875     92  97        7.7      37          19016 \n",
       "5  7560    4120       800   1500     76  72       11.9       2          10922 \n",
       "6 13500    3335       500    675     67  73        9.4      11           9727 \n",
       "  Grad.Rate\n",
       "1 60       \n",
       "2 56       \n",
       "3 54       \n",
       "4 59       \n",
       "5 15       \n",
       "6 55       "
      ]
     },
     "metadata": {},
     "output_type": "display_data"
    }
   ],
   "source": [
    "head(College[,-1])\n",
    "# College[,-1] sẽ lấy tất cả các hàng, cột nhưng bỏ đi cột đầu tiên"
   ]
  },
  {
   "cell_type": "code",
   "execution_count": 152,
   "metadata": {},
   "outputs": [
    {
     "data": {
      "text/html": [
       "<table>\n",
       "<thead><tr><th scope=col>Private</th><th scope=col>Apps</th><th scope=col>Accept</th><th scope=col>Enroll</th><th scope=col>Top10perc</th><th scope=col>Top25perc</th><th scope=col>F.Undergrad</th><th scope=col>P.Undergrad</th><th scope=col>Outstate</th><th scope=col>Room.Board</th><th scope=col>Books</th><th scope=col>Personal</th><th scope=col>PhD</th><th scope=col>Terminal</th><th scope=col>S.F.Ratio</th><th scope=col>perc.alumni</th><th scope=col>Expend</th><th scope=col>Grad.Rate</th></tr></thead>\n",
       "<tbody>\n",
       "\t<tr><td>Yes  </td><td>1660 </td><td>1232 </td><td>721  </td><td>23   </td><td>52   </td><td>2885 </td><td> 537 </td><td> 7440</td><td>3300 </td><td>450  </td><td>2200 </td><td>70   </td><td>78   </td><td>18.1 </td><td>12   </td><td> 7041</td><td>60   </td></tr>\n",
       "\t<tr><td>Yes  </td><td>2186 </td><td>1924 </td><td>512  </td><td>16   </td><td>29   </td><td>2683 </td><td>1227 </td><td>12280</td><td>6450 </td><td>750  </td><td>1500 </td><td>29   </td><td>30   </td><td>12.2 </td><td>16   </td><td>10527</td><td>56   </td></tr>\n",
       "\t<tr><td>Yes  </td><td>1428 </td><td>1097 </td><td>336  </td><td>22   </td><td>50   </td><td>1036 </td><td>  99 </td><td>11250</td><td>3750 </td><td>400  </td><td>1165 </td><td>53   </td><td>66   </td><td>12.9 </td><td>30   </td><td> 8735</td><td>54   </td></tr>\n",
       "\t<tr><td>Yes  </td><td> 417 </td><td> 349 </td><td>137  </td><td>60   </td><td>89   </td><td> 510 </td><td>  63 </td><td>12960</td><td>5450 </td><td>450  </td><td> 875 </td><td>92   </td><td>97   </td><td> 7.7 </td><td>37   </td><td>19016</td><td>59   </td></tr>\n",
       "\t<tr><td>Yes  </td><td> 193 </td><td> 146 </td><td> 55  </td><td>16   </td><td>44   </td><td> 249 </td><td> 869 </td><td> 7560</td><td>4120 </td><td>800  </td><td>1500 </td><td>76   </td><td>72   </td><td>11.9 </td><td> 2   </td><td>10922</td><td>15   </td></tr>\n",
       "\t<tr><td>Yes  </td><td> 587 </td><td> 479 </td><td>158  </td><td>38   </td><td>62   </td><td> 678 </td><td>  41 </td><td>13500</td><td>3335 </td><td>500  </td><td> 675 </td><td>67   </td><td>73   </td><td> 9.4 </td><td>11   </td><td> 9727</td><td>55   </td></tr>\n",
       "</tbody>\n",
       "</table>\n"
      ],
      "text/latex": [
       "\\begin{tabular}{r|llllllllllllllllll}\n",
       " Private & Apps & Accept & Enroll & Top10perc & Top25perc & F.Undergrad & P.Undergrad & Outstate & Room.Board & Books & Personal & PhD & Terminal & S.F.Ratio & perc.alumni & Expend & Grad.Rate\\\\\n",
       "\\hline\n",
       "\t Yes   & 1660  & 1232  & 721   & 23    & 52    & 2885  &  537  &  7440 & 3300  & 450   & 2200  & 70    & 78    & 18.1  & 12    &  7041 & 60   \\\\\n",
       "\t Yes   & 2186  & 1924  & 512   & 16    & 29    & 2683  & 1227  & 12280 & 6450  & 750   & 1500  & 29    & 30    & 12.2  & 16    & 10527 & 56   \\\\\n",
       "\t Yes   & 1428  & 1097  & 336   & 22    & 50    & 1036  &   99  & 11250 & 3750  & 400   & 1165  & 53    & 66    & 12.9  & 30    &  8735 & 54   \\\\\n",
       "\t Yes   &  417  &  349  & 137   & 60    & 89    &  510  &   63  & 12960 & 5450  & 450   &  875  & 92    & 97    &  7.7  & 37    & 19016 & 59   \\\\\n",
       "\t Yes   &  193  &  146  &  55   & 16    & 44    &  249  &  869  &  7560 & 4120  & 800   & 1500  & 76    & 72    & 11.9  &  2    & 10922 & 15   \\\\\n",
       "\t Yes   &  587  &  479  & 158   & 38    & 62    &  678  &   41  & 13500 & 3335  & 500   &  675  & 67    & 73    &  9.4  & 11    &  9727 & 55   \\\\\n",
       "\\end{tabular}\n"
      ],
      "text/markdown": [
       "\n",
       "| Private | Apps | Accept | Enroll | Top10perc | Top25perc | F.Undergrad | P.Undergrad | Outstate | Room.Board | Books | Personal | PhD | Terminal | S.F.Ratio | perc.alumni | Expend | Grad.Rate |\n",
       "|---|---|---|---|---|---|---|---|---|---|---|---|---|---|---|---|---|---|\n",
       "| Yes   | 1660  | 1232  | 721   | 23    | 52    | 2885  |  537  |  7440 | 3300  | 450   | 2200  | 70    | 78    | 18.1  | 12    |  7041 | 60    |\n",
       "| Yes   | 2186  | 1924  | 512   | 16    | 29    | 2683  | 1227  | 12280 | 6450  | 750   | 1500  | 29    | 30    | 12.2  | 16    | 10527 | 56    |\n",
       "| Yes   | 1428  | 1097  | 336   | 22    | 50    | 1036  |   99  | 11250 | 3750  | 400   | 1165  | 53    | 66    | 12.9  | 30    |  8735 | 54    |\n",
       "| Yes   |  417  |  349  | 137   | 60    | 89    |  510  |   63  | 12960 | 5450  | 450   |  875  | 92    | 97    |  7.7  | 37    | 19016 | 59    |\n",
       "| Yes   |  193  |  146  |  55   | 16    | 44    |  249  |  869  |  7560 | 4120  | 800   | 1500  | 76    | 72    | 11.9  |  2    | 10922 | 15    |\n",
       "| Yes   |  587  |  479  | 158   | 38    | 62    |  678  |   41  | 13500 | 3335  | 500   |  675  | 67    | 73    |  9.4  | 11    |  9727 | 55    |\n",
       "\n"
      ],
      "text/plain": [
       "  Private Apps Accept Enroll Top10perc Top25perc F.Undergrad P.Undergrad\n",
       "1 Yes     1660 1232   721    23        52        2885         537       \n",
       "2 Yes     2186 1924   512    16        29        2683        1227       \n",
       "3 Yes     1428 1097   336    22        50        1036          99       \n",
       "4 Yes      417  349   137    60        89         510          63       \n",
       "5 Yes      193  146    55    16        44         249         869       \n",
       "6 Yes      587  479   158    38        62         678          41       \n",
       "  Outstate Room.Board Books Personal PhD Terminal S.F.Ratio perc.alumni Expend\n",
       "1  7440    3300       450   2200     70  78       18.1      12           7041 \n",
       "2 12280    6450       750   1500     29  30       12.2      16          10527 \n",
       "3 11250    3750       400   1165     53  66       12.9      30           8735 \n",
       "4 12960    5450       450    875     92  97        7.7      37          19016 \n",
       "5  7560    4120       800   1500     76  72       11.9       2          10922 \n",
       "6 13500    3335       500    675     67  73        9.4      11           9727 \n",
       "  Grad.Rate\n",
       "1 60       \n",
       "2 56       \n",
       "3 54       \n",
       "4 59       \n",
       "5 15       \n",
       "6 55       "
      ]
     },
     "metadata": {},
     "output_type": "display_data"
    }
   ],
   "source": [
    "College = College[,-1]\n",
    "head(College)"
   ]
  },
  {
   "cell_type": "markdown",
   "metadata": {},
   "source": [
    "# (c)"
   ]
  },
  {
   "cell_type": "markdown",
   "metadata": {},
   "source": [
    "# I. Use the *summary*() function to produce a numerical summary of the variables in the data set."
   ]
  },
  {
   "cell_type": "code",
   "execution_count": 153,
   "metadata": {},
   "outputs": [
    {
     "data": {
      "text/plain": [
       " Private        Apps           Accept          Enroll       Top10perc    \n",
       " No :212   Min.   :   81   Min.   :   72   Min.   :  35   Min.   : 1.00  \n",
       " Yes:565   1st Qu.:  776   1st Qu.:  604   1st Qu.: 242   1st Qu.:15.00  \n",
       "           Median : 1558   Median : 1110   Median : 434   Median :23.00  \n",
       "           Mean   : 3002   Mean   : 2019   Mean   : 780   Mean   :27.56  \n",
       "           3rd Qu.: 3624   3rd Qu.: 2424   3rd Qu.: 902   3rd Qu.:35.00  \n",
       "           Max.   :48094   Max.   :26330   Max.   :6392   Max.   :96.00  \n",
       "   Top25perc      F.Undergrad     P.Undergrad         Outstate    \n",
       " Min.   :  9.0   Min.   :  139   Min.   :    1.0   Min.   : 2340  \n",
       " 1st Qu.: 41.0   1st Qu.:  992   1st Qu.:   95.0   1st Qu.: 7320  \n",
       " Median : 54.0   Median : 1707   Median :  353.0   Median : 9990  \n",
       " Mean   : 55.8   Mean   : 3700   Mean   :  855.3   Mean   :10441  \n",
       " 3rd Qu.: 69.0   3rd Qu.: 4005   3rd Qu.:  967.0   3rd Qu.:12925  \n",
       " Max.   :100.0   Max.   :31643   Max.   :21836.0   Max.   :21700  \n",
       "   Room.Board       Books           Personal         PhD        \n",
       " Min.   :1780   Min.   :  96.0   Min.   : 250   Min.   :  8.00  \n",
       " 1st Qu.:3597   1st Qu.: 470.0   1st Qu.: 850   1st Qu.: 62.00  \n",
       " Median :4200   Median : 500.0   Median :1200   Median : 75.00  \n",
       " Mean   :4358   Mean   : 549.4   Mean   :1341   Mean   : 72.66  \n",
       " 3rd Qu.:5050   3rd Qu.: 600.0   3rd Qu.:1700   3rd Qu.: 85.00  \n",
       " Max.   :8124   Max.   :2340.0   Max.   :6800   Max.   :103.00  \n",
       "    Terminal       S.F.Ratio      perc.alumni        Expend     \n",
       " Min.   : 24.0   Min.   : 2.50   Min.   : 0.00   Min.   : 3186  \n",
       " 1st Qu.: 71.0   1st Qu.:11.50   1st Qu.:13.00   1st Qu.: 6751  \n",
       " Median : 82.0   Median :13.60   Median :21.00   Median : 8377  \n",
       " Mean   : 79.7   Mean   :14.09   Mean   :22.74   Mean   : 9660  \n",
       " 3rd Qu.: 92.0   3rd Qu.:16.50   3rd Qu.:31.00   3rd Qu.:10830  \n",
       " Max.   :100.0   Max.   :39.80   Max.   :64.00   Max.   :56233  \n",
       "   Grad.Rate     \n",
       " Min.   : 10.00  \n",
       " 1st Qu.: 53.00  \n",
       " Median : 65.00  \n",
       " Mean   : 65.46  \n",
       " 3rd Qu.: 78.00  \n",
       " Max.   :118.00  "
      ]
     },
     "metadata": {},
     "output_type": "display_data"
    }
   ],
   "source": [
    "summary(College)"
   ]
  },
  {
   "cell_type": "markdown",
   "metadata": {},
   "source": [
    "# II. Use the *pairs*() function to produce a scatterplot matrix of the first ten columns or variables of the data. Recall that you can reference the first ten columns of a matrix A using A[,1:10]."
   ]
  },
  {
   "cell_type": "code",
   "execution_count": 154,
   "metadata": {},
   "outputs": [
    {
     "data": {
      "image/png": "[encoded data removed]",
      "text/plain": [
       "plot without title"
      ]
     },
     "metadata": {},
     "output_type": "display_data"
    }
   ],
   "source": [
    "pairs(College[,1:10])"
   ]
  },
  {
   "cell_type": "code",
   "execution_count": 155,
   "metadata": {},
   "outputs": [
    {
     "data": {
      "image/png": "[encoded data removed]",
      "text/plain": [
       "plot without title"
      ]
     },
     "metadata": {},
     "output_type": "display_data"
    }
   ],
   "source": [
    "pairs(College)"
   ]
  },
  {
   "cell_type": "markdown",
   "metadata": {},
   "source": [
    "# III. Use the *plot*() function to produce side-by-side boxplots of Outstate versus Private."
   ]
  },
  {
   "cell_type": "code",
   "execution_count": 156,
   "metadata": {},
   "outputs": [
    {
     "data": {
      "image/png": "[encoded data removed]",
      "text/plain": [
       "plot without title"
      ]
     },
     "metadata": {},
     "output_type": "display_data"
    }
   ],
   "source": [
    "plot(College)"
   ]
  },
  {
   "cell_type": "markdown",
   "metadata": {},
   "source": [
    "# IV. Create a new qualitative variable, called Elite, by binning the Top10perc variable. We are going to divide universities into two groups based on whether or not the proportion of students coming from the top 10% of their high school classes exceeds 50%.\n",
    "-> Elite=rep(\"No\",nrow(college))\n",
    "\n",
    "-> Elite[college$Top10perc >50]=\"Yes\"\n",
    "\n",
    "-> Elite=as.factor(Elite)\n",
    "\n",
    "-> college=data.frame(college,Elite)\n",
    "\n",
    "Use the *summary*() function to see how many elite universities\n",
    "there are. Now use the *plot*() function to produce side-by-side\n",
    "boxplots of Outstate versus Elite.\n"
   ]
  },
  {
   "cell_type": "code",
   "execution_count": 157,
   "metadata": {},
   "outputs": [],
   "source": [
    "Elite=rep(\"No\",nrow(College))  \n",
    "# Tạo vecter với chiều dài là số cột của College và khởi tạo các giá trị là'No'\n",
    "Elite[College$Top10perc >50]=\"Yes\"\n",
    "# Đánh dấu theo index những hàng nào có Top10perc > 50 là 'Yes' trên vector vừa tạo\n",
    "Elite=as.factor(Elite)\n",
    "# Chuyển vector sang kiểu factor class để lưu được những dữ liệu qualitative\n",
    "college=data.frame(College,Elite)\n",
    "# Tạo thành đối tượng dataframe để tiện xử lý hơn so với vector"
   ]
  },
  {
   "cell_type": "code",
   "execution_count": 158,
   "metadata": {},
   "outputs": [
    {
     "data": {
      "text/plain": [
       " Private        Apps           Accept          Enroll       Top10perc    \n",
       " No :212   Min.   :   81   Min.   :   72   Min.   :  35   Min.   : 1.00  \n",
       " Yes:565   1st Qu.:  776   1st Qu.:  604   1st Qu.: 242   1st Qu.:15.00  \n",
       "           Median : 1558   Median : 1110   Median : 434   Median :23.00  \n",
       "           Mean   : 3002   Mean   : 2019   Mean   : 780   Mean   :27.56  \n",
       "           3rd Qu.: 3624   3rd Qu.: 2424   3rd Qu.: 902   3rd Qu.:35.00  \n",
       "           Max.   :48094   Max.   :26330   Max.   :6392   Max.   :96.00  \n",
       "   Top25perc      F.Undergrad     P.Undergrad         Outstate    \n",
       " Min.   :  9.0   Min.   :  139   Min.   :    1.0   Min.   : 2340  \n",
       " 1st Qu.: 41.0   1st Qu.:  992   1st Qu.:   95.0   1st Qu.: 7320  \n",
       " Median : 54.0   Median : 1707   Median :  353.0   Median : 9990  \n",
       " Mean   : 55.8   Mean   : 3700   Mean   :  855.3   Mean   :10441  \n",
       " 3rd Qu.: 69.0   3rd Qu.: 4005   3rd Qu.:  967.0   3rd Qu.:12925  \n",
       " Max.   :100.0   Max.   :31643   Max.   :21836.0   Max.   :21700  \n",
       "   Room.Board       Books           Personal         PhD        \n",
       " Min.   :1780   Min.   :  96.0   Min.   : 250   Min.   :  8.00  \n",
       " 1st Qu.:3597   1st Qu.: 470.0   1st Qu.: 850   1st Qu.: 62.00  \n",
       " Median :4200   Median : 500.0   Median :1200   Median : 75.00  \n",
       " Mean   :4358   Mean   : 549.4   Mean   :1341   Mean   : 72.66  \n",
       " 3rd Qu.:5050   3rd Qu.: 600.0   3rd Qu.:1700   3rd Qu.: 85.00  \n",
       " Max.   :8124   Max.   :2340.0   Max.   :6800   Max.   :103.00  \n",
       "    Terminal       S.F.Ratio      perc.alumni        Expend     \n",
       " Min.   : 24.0   Min.   : 2.50   Min.   : 0.00   Min.   : 3186  \n",
       " 1st Qu.: 71.0   1st Qu.:11.50   1st Qu.:13.00   1st Qu.: 6751  \n",
       " Median : 82.0   Median :13.60   Median :21.00   Median : 8377  \n",
       " Mean   : 79.7   Mean   :14.09   Mean   :22.74   Mean   : 9660  \n",
       " 3rd Qu.: 92.0   3rd Qu.:16.50   3rd Qu.:31.00   3rd Qu.:10830  \n",
       " Max.   :100.0   Max.   :39.80   Max.   :64.00   Max.   :56233  \n",
       "   Grad.Rate      Elite    \n",
       " Min.   : 10.00   No :699  \n",
       " 1st Qu.: 53.00   Yes: 78  \n",
       " Median : 65.00            \n",
       " Mean   : 65.46            \n",
       " 3rd Qu.: 78.00            \n",
       " Max.   :118.00            "
      ]
     },
     "metadata": {},
     "output_type": "display_data"
    }
   ],
   "source": [
    "summary(college)"
   ]
  },
  {
   "cell_type": "code",
   "execution_count": 159,
   "metadata": {},
   "outputs": [
    {
     "data": {
      "image/png": "[encoded data removed]",
      "text/plain": [
       "plot without title"
      ]
     },
     "metadata": {},
     "output_type": "display_data"
    }
   ],
   "source": [
    "plot(college)"
   ]
  },
  {
   "cell_type": "markdown",
   "metadata": {},
   "source": [
    "# V. Use the *hist*() function to produce some histograms with differing numbers of bins for a few of the quantitative variables. You may find the command par(mfrow=c(2,2)) useful: it will divide the print window into four regions so that four plots can be made simultaneously. Modifying the arguments to this function will divide the screen in other ways."
   ]
  },
  {
   "cell_type": "code",
   "execution_count": 160,
   "metadata": {},
   "outputs": [
    {
     "data": {
      "text/html": [
       "<table>\n",
       "<thead><tr><th scope=col>Private</th><th scope=col>Apps</th><th scope=col>Accept</th><th scope=col>Enroll</th><th scope=col>Top10perc</th><th scope=col>Top25perc</th><th scope=col>F.Undergrad</th><th scope=col>P.Undergrad</th><th scope=col>Outstate</th><th scope=col>Room.Board</th><th scope=col>Books</th><th scope=col>Personal</th><th scope=col>PhD</th><th scope=col>Terminal</th><th scope=col>S.F.Ratio</th><th scope=col>perc.alumni</th><th scope=col>Expend</th><th scope=col>Grad.Rate</th></tr></thead>\n",
       "<tbody>\n",
       "\t<tr><td>Yes  </td><td>1660 </td><td>1232 </td><td>721  </td><td>23   </td><td>52   </td><td>2885 </td><td> 537 </td><td> 7440</td><td>3300 </td><td>450  </td><td>2200 </td><td>70   </td><td>78   </td><td>18.1 </td><td>12   </td><td> 7041</td><td>60   </td></tr>\n",
       "\t<tr><td>Yes  </td><td>2186 </td><td>1924 </td><td>512  </td><td>16   </td><td>29   </td><td>2683 </td><td>1227 </td><td>12280</td><td>6450 </td><td>750  </td><td>1500 </td><td>29   </td><td>30   </td><td>12.2 </td><td>16   </td><td>10527</td><td>56   </td></tr>\n",
       "\t<tr><td>Yes  </td><td>1428 </td><td>1097 </td><td>336  </td><td>22   </td><td>50   </td><td>1036 </td><td>  99 </td><td>11250</td><td>3750 </td><td>400  </td><td>1165 </td><td>53   </td><td>66   </td><td>12.9 </td><td>30   </td><td> 8735</td><td>54   </td></tr>\n",
       "\t<tr><td>Yes  </td><td> 417 </td><td> 349 </td><td>137  </td><td>60   </td><td>89   </td><td> 510 </td><td>  63 </td><td>12960</td><td>5450 </td><td>450  </td><td> 875 </td><td>92   </td><td>97   </td><td> 7.7 </td><td>37   </td><td>19016</td><td>59   </td></tr>\n",
       "\t<tr><td>Yes  </td><td> 193 </td><td> 146 </td><td> 55  </td><td>16   </td><td>44   </td><td> 249 </td><td> 869 </td><td> 7560</td><td>4120 </td><td>800  </td><td>1500 </td><td>76   </td><td>72   </td><td>11.9 </td><td> 2   </td><td>10922</td><td>15   </td></tr>\n",
       "\t<tr><td>Yes  </td><td> 587 </td><td> 479 </td><td>158  </td><td>38   </td><td>62   </td><td> 678 </td><td>  41 </td><td>13500</td><td>3335 </td><td>500  </td><td> 675 </td><td>67   </td><td>73   </td><td> 9.4 </td><td>11   </td><td> 9727</td><td>55   </td></tr>\n",
       "</tbody>\n",
       "</table>\n"
      ],
      "text/latex": [
       "\\begin{tabular}{r|llllllllllllllllll}\n",
       " Private & Apps & Accept & Enroll & Top10perc & Top25perc & F.Undergrad & P.Undergrad & Outstate & Room.Board & Books & Personal & PhD & Terminal & S.F.Ratio & perc.alumni & Expend & Grad.Rate\\\\\n",
       "\\hline\n",
       "\t Yes   & 1660  & 1232  & 721   & 23    & 52    & 2885  &  537  &  7440 & 3300  & 450   & 2200  & 70    & 78    & 18.1  & 12    &  7041 & 60   \\\\\n",
       "\t Yes   & 2186  & 1924  & 512   & 16    & 29    & 2683  & 1227  & 12280 & 6450  & 750   & 1500  & 29    & 30    & 12.2  & 16    & 10527 & 56   \\\\\n",
       "\t Yes   & 1428  & 1097  & 336   & 22    & 50    & 1036  &   99  & 11250 & 3750  & 400   & 1165  & 53    & 66    & 12.9  & 30    &  8735 & 54   \\\\\n",
       "\t Yes   &  417  &  349  & 137   & 60    & 89    &  510  &   63  & 12960 & 5450  & 450   &  875  & 92    & 97    &  7.7  & 37    & 19016 & 59   \\\\\n",
       "\t Yes   &  193  &  146  &  55   & 16    & 44    &  249  &  869  &  7560 & 4120  & 800   & 1500  & 76    & 72    & 11.9  &  2    & 10922 & 15   \\\\\n",
       "\t Yes   &  587  &  479  & 158   & 38    & 62    &  678  &   41  & 13500 & 3335  & 500   &  675  & 67    & 73    &  9.4  & 11    &  9727 & 55   \\\\\n",
       "\\end{tabular}\n"
      ],
      "text/markdown": [
       "\n",
       "| Private | Apps | Accept | Enroll | Top10perc | Top25perc | F.Undergrad | P.Undergrad | Outstate | Room.Board | Books | Personal | PhD | Terminal | S.F.Ratio | perc.alumni | Expend | Grad.Rate |\n",
       "|---|---|---|---|---|---|---|---|---|---|---|---|---|---|---|---|---|---|\n",
       "| Yes   | 1660  | 1232  | 721   | 23    | 52    | 2885  |  537  |  7440 | 3300  | 450   | 2200  | 70    | 78    | 18.1  | 12    |  7041 | 60    |\n",
       "| Yes   | 2186  | 1924  | 512   | 16    | 29    | 2683  | 1227  | 12280 | 6450  | 750   | 1500  | 29    | 30    | 12.2  | 16    | 10527 | 56    |\n",
       "| Yes   | 1428  | 1097  | 336   | 22    | 50    | 1036  |   99  | 11250 | 3750  | 400   | 1165  | 53    | 66    | 12.9  | 30    |  8735 | 54    |\n",
       "| Yes   |  417  |  349  | 137   | 60    | 89    |  510  |   63  | 12960 | 5450  | 450   |  875  | 92    | 97    |  7.7  | 37    | 19016 | 59    |\n",
       "| Yes   |  193  |  146  |  55   | 16    | 44    |  249  |  869  |  7560 | 4120  | 800   | 1500  | 76    | 72    | 11.9  |  2    | 10922 | 15    |\n",
       "| Yes   |  587  |  479  | 158   | 38    | 62    |  678  |   41  | 13500 | 3335  | 500   |  675  | 67    | 73    |  9.4  | 11    |  9727 | 55    |\n",
       "\n"
      ],
      "text/plain": [
       "  Private Apps Accept Enroll Top10perc Top25perc F.Undergrad P.Undergrad\n",
       "1 Yes     1660 1232   721    23        52        2885         537       \n",
       "2 Yes     2186 1924   512    16        29        2683        1227       \n",
       "3 Yes     1428 1097   336    22        50        1036          99       \n",
       "4 Yes      417  349   137    60        89         510          63       \n",
       "5 Yes      193  146    55    16        44         249         869       \n",
       "6 Yes      587  479   158    38        62         678          41       \n",
       "  Outstate Room.Board Books Personal PhD Terminal S.F.Ratio perc.alumni Expend\n",
       "1  7440    3300       450   2200     70  78       18.1      12           7041 \n",
       "2 12280    6450       750   1500     29  30       12.2      16          10527 \n",
       "3 11250    3750       400   1165     53  66       12.9      30           8735 \n",
       "4 12960    5450       450    875     92  97        7.7      37          19016 \n",
       "5  7560    4120       800   1500     76  72       11.9       2          10922 \n",
       "6 13500    3335       500    675     67  73        9.4      11           9727 \n",
       "  Grad.Rate\n",
       "1 60       \n",
       "2 56       \n",
       "3 54       \n",
       "4 59       \n",
       "5 15       \n",
       "6 55       "
      ]
     },
     "metadata": {},
     "output_type": "display_data"
    }
   ],
   "source": [
    "head(College)"
   ]
  },
  {
   "cell_type": "code",
   "execution_count": 161,
   "metadata": {},
   "outputs": [
    {
     "data": {
      "image/png": "[encoded data removed]",
      "text/plain": [
       "Plot with title \"Histogram of College$P.Undergrad\""
      ]
     },
     "metadata": {},
     "output_type": "display_data"
    },
    {
     "data": {
      "image/png": "[encoded data removed]",
      "text/plain": [
       "Plot with title \"Histogram of College$Personal\""
      ]
     },
     "metadata": {},
     "output_type": "display_data"
    }
   ],
   "source": [
    "par(mfrow=c(2,2))       # set số biểu đồ con cho mỗi phần\n",
    "hist(College$Top10perc)\n",
    "hist(College$Top25perc)\n",
    "hist(College$F.Undergrad)\n",
    "hist(College$P.Undergrad)\n",
    "hist(College$Outstate)\n",
    "hist(College$Room.Board)\n",
    "hist(College$Books)\n",
    "hist(College$Personal)"
   ]
  },
  {
   "cell_type": "markdown",
   "metadata": {},
   "source": [
    "# VI. Continue exploring the data, and provide a brief summary of what you discover\n"
   ]
  },
  {
   "cell_type": "raw",
   "metadata": {},
   "source": [
    "Dataset look great :v"
   ]
  },
  {
   "cell_type": "markdown",
   "metadata": {},
   "source": [
    "# Exercise 2\n"
   ]
  },
  {
   "cell_type": "markdown",
   "metadata": {},
   "source": [
    "# (a) Which of the predictors are quantitative, and which are qualitative?\n"
   ]
  },
  {
   "cell_type": "code",
   "execution_count": 162,
   "metadata": {},
   "outputs": [
    {
     "data": {
      "text/html": [
       "<table>\n",
       "<thead><tr><th scope=col>mpg</th><th scope=col>cylinders</th><th scope=col>displacement</th><th scope=col>horsepower</th><th scope=col>weight</th><th scope=col>acceleration</th><th scope=col>year</th><th scope=col>origin</th><th scope=col>name</th></tr></thead>\n",
       "<tbody>\n",
       "\t<tr><td>18                       </td><td>8                        </td><td>307                      </td><td>130                      </td><td>3504                     </td><td>12.0                     </td><td>70                       </td><td>1                        </td><td>chevrolet chevelle malibu</td></tr>\n",
       "\t<tr><td>15                       </td><td>8                        </td><td>350                      </td><td>165                      </td><td>3693                     </td><td>11.5                     </td><td>70                       </td><td>1                        </td><td>buick skylark 320        </td></tr>\n",
       "\t<tr><td>18                       </td><td>8                        </td><td>318                      </td><td>150                      </td><td>3436                     </td><td>11.0                     </td><td>70                       </td><td>1                        </td><td>plymouth satellite       </td></tr>\n",
       "\t<tr><td>16                       </td><td>8                        </td><td>304                      </td><td>150                      </td><td>3433                     </td><td>12.0                     </td><td>70                       </td><td>1                        </td><td>amc rebel sst            </td></tr>\n",
       "\t<tr><td>17                       </td><td>8                        </td><td>302                      </td><td>140                      </td><td>3449                     </td><td>10.5                     </td><td>70                       </td><td>1                        </td><td>ford torino              </td></tr>\n",
       "\t<tr><td>15                       </td><td>8                        </td><td>429                      </td><td>198                      </td><td>4341                     </td><td>10.0                     </td><td>70                       </td><td>1                        </td><td>ford galaxie 500         </td></tr>\n",
       "</tbody>\n",
       "</table>\n"
      ],
      "text/latex": [
       "\\begin{tabular}{r|lllllllll}\n",
       " mpg & cylinders & displacement & horsepower & weight & acceleration & year & origin & name\\\\\n",
       "\\hline\n",
       "\t 18                        & 8                         & 307                       & 130                       & 3504                      & 12.0                      & 70                        & 1                         & chevrolet chevelle malibu\\\\\n",
       "\t 15                        & 8                         & 350                       & 165                       & 3693                      & 11.5                      & 70                        & 1                         & buick skylark 320        \\\\\n",
       "\t 18                        & 8                         & 318                       & 150                       & 3436                      & 11.0                      & 70                        & 1                         & plymouth satellite       \\\\\n",
       "\t 16                        & 8                         & 304                       & 150                       & 3433                      & 12.0                      & 70                        & 1                         & amc rebel sst            \\\\\n",
       "\t 17                        & 8                         & 302                       & 140                       & 3449                      & 10.5                      & 70                        & 1                         & ford torino              \\\\\n",
       "\t 15                        & 8                         & 429                       & 198                       & 4341                      & 10.0                      & 70                        & 1                         & ford galaxie 500         \\\\\n",
       "\\end{tabular}\n"
      ],
      "text/markdown": [
       "\n",
       "| mpg | cylinders | displacement | horsepower | weight | acceleration | year | origin | name |\n",
       "|---|---|---|---|---|---|---|---|---|\n",
       "| 18                        | 8                         | 307                       | 130                       | 3504                      | 12.0                      | 70                        | 1                         | chevrolet chevelle malibu |\n",
       "| 15                        | 8                         | 350                       | 165                       | 3693                      | 11.5                      | 70                        | 1                         | buick skylark 320         |\n",
       "| 18                        | 8                         | 318                       | 150                       | 3436                      | 11.0                      | 70                        | 1                         | plymouth satellite        |\n",
       "| 16                        | 8                         | 304                       | 150                       | 3433                      | 12.0                      | 70                        | 1                         | amc rebel sst             |\n",
       "| 17                        | 8                         | 302                       | 140                       | 3449                      | 10.5                      | 70                        | 1                         | ford torino               |\n",
       "| 15                        | 8                         | 429                       | 198                       | 4341                      | 10.0                      | 70                        | 1                         | ford galaxie 500          |\n",
       "\n"
      ],
      "text/plain": [
       "  mpg cylinders displacement horsepower weight acceleration year origin\n",
       "1 18  8         307          130        3504   12.0         70   1     \n",
       "2 15  8         350          165        3693   11.5         70   1     \n",
       "3 18  8         318          150        3436   11.0         70   1     \n",
       "4 16  8         304          150        3433   12.0         70   1     \n",
       "5 17  8         302          140        3449   10.5         70   1     \n",
       "6 15  8         429          198        4341   10.0         70   1     \n",
       "  name                     \n",
       "1 chevrolet chevelle malibu\n",
       "2 buick skylark 320        \n",
       "3 plymouth satellite       \n",
       "4 amc rebel sst            \n",
       "5 ford torino              \n",
       "6 ford galaxie 500         "
      ]
     },
     "metadata": {},
     "output_type": "display_data"
    }
   ],
   "source": [
    "auto = read.table(\"Auto.data\", header = T, na.string=\"?\")   # đọc dữ liệu và đánh dấu ? cho dữ liệu nan\n",
    "auto = na.omit(auto)   # bỏ đi những hàng có dữ liệu trống\n",
    "head(auto)"
   ]
  },
  {
   "cell_type": "code",
   "execution_count": 163,
   "metadata": {},
   "outputs": [
    {
     "name": "stdout",
     "output_type": "stream",
     "text": [
      "all value of mpg :   [1] 18.0 15.0 16.0 17.0 14.0 24.0 22.0 21.0 27.0 26.0 25.0 10.0 11.0  9.0 28.0\n",
      " [16] 19.0 12.0 13.0 23.0 30.0 31.0 35.0 20.0 29.0 32.0 33.0 17.5 15.5 14.5 22.5\n",
      " [31] 24.5 18.5 29.5 26.5 16.5 31.5 36.0 25.5 33.5 20.5 30.5 21.5 43.1 36.1 32.8\n",
      " [46] 39.4 19.9 19.4 20.2 19.2 25.1 20.6 20.8 18.6 18.1 17.7 27.5 27.2 30.9 21.1\n",
      " [61] 23.2 23.8 23.9 20.3 21.6 16.2 19.8 22.3 17.6 18.2 16.9 31.9 34.1 35.7 27.4\n",
      " [76] 25.4 34.2 34.5 31.8 37.3 28.4 28.8 26.8 41.5 38.1 32.1 37.2 26.4 24.3 19.1\n",
      " [91] 34.3 29.8 31.3 37.0 32.2 46.6 27.9 40.8 44.3 43.4 36.4 44.6 33.8 32.7 23.7\n",
      "[106] 32.4 26.6 25.8 23.5 39.1 39.0 35.1 32.3 37.7 34.7 34.4 29.9 33.7 32.9 31.6\n",
      "[121] 28.1 30.7 24.2 22.4 34.0 38.0 44.0\n",
      "all value of cylinders : [1] 8 4 6 3 5\n",
      "all value of displacement :  [1] 307.0 350.0 318.0 304.0 302.0 429.0 454.0 440.0 455.0 390.0 383.0 340.0\n",
      "[13] 400.0 113.0 198.0 199.0 200.0  97.0 110.0 107.0 104.0 121.0 360.0 140.0\n",
      "[25] 232.0 225.0 250.0 351.0 258.0 122.0 116.0  79.0  88.0  71.0  72.0  91.0\n",
      "[37]  97.5  70.0 120.0  96.0  98.0 108.0 155.0  68.0 114.0 156.0  76.0  83.0\n",
      "[49]  90.0 231.0 262.0 134.0 119.0 171.0 115.0 101.0 305.0  85.0 130.0 168.0\n",
      "[61] 111.0 260.0 151.0 146.0  80.0  78.0 105.0 131.0 163.0  89.0 267.0  86.0\n",
      "[73] 183.0 141.0 173.0 135.0  81.0 145.0 112.0 181.0 144.0\n",
      "all value of horsepower :  [1] 130 165 150 140 198 220 215 225 190 170 160  95  97  85  88  46  87  90 113\n",
      "[20] 200 210 193 100 105 175 153 180 110  72  86  70  76  65  69  60  80  54 208\n",
      "[39] 155 112  92 145 137 158 167  94 107 230  49  75  91 122  67  83  78  52  61\n",
      "[58]  93 148 129  96  71  98 115  53  81  79 120 152 102 108  68  58 149  89  63\n",
      "[77]  48  66 139 103 125 133 138 135 142  77  62 132  84  64  74 116  82\n",
      "all value of weight :   [1] 3504 3693 3436 3433 3449 4341 4354 4312 4425 3850 3563 3609 3761 3086 2372\n",
      " [16] 2833 2774 2587 2130 1835 2672 2430 2375 2234 2648 4615 4376 4382 4732 2264\n",
      " [31] 2228 2634 3439 3329 3302 3288 4209 4464 4154 4096 4955 4746 5140 2962 2408\n",
      " [46] 3282 3139 2220 2123 2074 2065 1773 1613 1834 1955 2278 2126 2254 2226 4274\n",
      " [61] 4385 4135 4129 3672 4633 4502 4456 4422 2330 3892 4098 4294 4077 2933 2511\n",
      " [76] 2979 2189 2395 2288 2506 2164 2100 4100 3988 4042 3777 4952 4363 4237 4735\n",
      " [91] 4951 3821 3121 3278 2945 3021 2904 1950 4997 4906 4654 4499 2789 2279 2401\n",
      "[106] 2379 2124 2310 2472 2265 4082 4278 1867 2158 2582 2868 3399 2660 2807 3664\n",
      "[121] 3102 2901 3336 2451 1836 2542 3781 3632 3613 4141 4699 4457 4638 4257 2219\n",
      "[136] 1963 2300 1649 2003 2125 2108 2246 2489 2391 2000 3264 3459 3432 3158 4668\n",
      "[151] 4440 4498 4657 3907 3897 3730 3785 3039 3221 3169 2171 2639 2914 2592 2702\n",
      "[166] 2223 2545 2984 1937 3211 2694 2957 2671 1795 2464 2572 2255 2202 4215 4190\n",
      "[181] 3962 3233 3353 3012 3085 2035 3651 3574 3645 3193 1825 1990 2155 2565 3150\n",
      "[196] 3940 3270 2930 3820 4380 4055 3870 3755 2045 1945 3880 4060 4140 4295 3520\n",
      "[211] 3425 3630 3525 4220 4165 4325 4335 1940 2740 2755 2051 2075 1985 2190 2815\n",
      "[226] 2600 2720 1800 2070 3365 3735 3570 3535 3155 2965 3430 3210 3380 3070 3620\n",
      "[241] 3410 3445 3205 4080 2560 2230 2515 2745 2855 2405 2830 3140 2795 2135 3245\n",
      "[256] 2990 2890 3265 3360 3840 3725 3955 3830 4360 4054 3605 1925 1975 1915 2670\n",
      "[271] 3530 3900 3190 3420 2200 2150 2020 2595 2700 2556 2144 1968 2120 2019 2678\n",
      "[286] 2870 3003 3381 2188 2711 2434 2110 2800 2085 2335 2950 3250 1850 2145 1845\n",
      "[301] 2910 2420 2500 2290 2490 2635 2620 2725 2385 1755 1875 1760 2050 2215 2380\n",
      "[316] 2210 2350 2615 3230 3160 2900 3415 3060 3465 2605 2640 2575 2525 2735 2865\n",
      "[331] 1980 2025 1970 2160 2205 2245 1965 1995 3015 2585 2835 2665 2370 2790 2295\n",
      "[346] 2625\n",
      "all value of acceleration :  [1] 12.0 11.5 11.0 10.5 10.0  9.0  8.5  8.0  9.5 15.0 15.5 16.0 14.5 20.5 17.5\n",
      "[16] 12.5 14.0 13.5 18.5 13.0 19.0 19.5 18.0 17.0 23.5 16.5 21.0 16.9 14.9 17.7\n",
      "[31] 15.3 13.9 12.8 15.4 17.6 22.2 22.1 14.2 17.4 16.2 17.8 12.2 16.4 13.6 15.7\n",
      "[46] 13.2 21.9 16.7 12.1 14.8 18.6 16.8 13.7 11.1 11.4 18.2 15.8 15.9 14.1 21.5\n",
      "[61] 14.4 19.4 19.2 17.2 18.7 15.1 13.4 11.2 14.7 16.6 17.3 15.2 14.3 20.1 24.8\n",
      "[76] 11.3 12.9 18.8 18.1 17.9 21.7 23.7 19.9 21.8 13.8 12.6 16.1 20.7 18.3 20.4\n",
      "[91] 19.6 17.1 15.6 24.6 11.6\n",
      "all value of year :  [1] 70 71 72 73 74 75 76 77 78 79 80 81 82\n",
      "all value of origin : [1] 1 3 2\n",
      "all value of name :   [1] chevrolet chevelle malibu            buick skylark 320                   \n",
      "  [3] plymouth satellite                   amc rebel sst                       \n",
      "  [5] ford torino                          ford galaxie 500                    \n",
      "  [7] chevrolet impala                     plymouth fury iii                   \n",
      "  [9] pontiac catalina                     amc ambassador dpl                  \n",
      " [11] dodge challenger se                  plymouth 'cuda 340                  \n",
      " [13] chevrolet monte carlo                buick estate wagon (sw)             \n",
      " [15] toyota corona mark ii                plymouth duster                     \n",
      " [17] amc hornet                           ford maverick                       \n",
      " [19] datsun pl510                         volkswagen 1131 deluxe sedan        \n",
      " [21] peugeot 504                          audi 100 ls                         \n",
      " [23] saab 99e                             bmw 2002                            \n",
      " [25] amc gremlin                          ford f250                           \n",
      " [27] chevy c20                            dodge d200                          \n",
      " [29] hi 1200d                             chevrolet vega 2300                 \n",
      " [31] toyota corona                        plymouth satellite custom           \n",
      " [33] ford torino 500                      amc matador                         \n",
      " [35] pontiac catalina brougham            dodge monaco (sw)                   \n",
      " [37] ford country squire (sw)             pontiac safari (sw)                 \n",
      " [39] amc hornet sportabout (sw)           chevrolet vega (sw)                 \n",
      " [41] pontiac firebird                     ford mustang                        \n",
      " [43] mercury capri 2000                   opel 1900                           \n",
      " [45] peugeot 304                          fiat 124b                           \n",
      " [47] toyota corolla 1200                  datsun 1200                         \n",
      " [49] volkswagen model 111                 plymouth cricket                    \n",
      " [51] toyota corona hardtop                dodge colt hardtop                  \n",
      " [53] volkswagen type 3                    chevrolet vega                      \n",
      " [55] ford pinto runabout                  amc ambassador sst                  \n",
      " [57] mercury marquis                      buick lesabre custom                \n",
      " [59] oldsmobile delta 88 royale           chrysler newport royal              \n",
      " [61] mazda rx2 coupe                      amc matador (sw)                    \n",
      " [63] chevrolet chevelle concours (sw)     ford gran torino (sw)               \n",
      " [65] plymouth satellite custom (sw)       volvo 145e (sw)                     \n",
      " [67] volkswagen 411 (sw)                  peugeot 504 (sw)                    \n",
      " [69] renault 12 (sw)                      ford pinto (sw)                     \n",
      " [71] datsun 510 (sw)                      toyouta corona mark ii (sw)         \n",
      " [73] dodge colt (sw)                      toyota corolla 1600 (sw)            \n",
      " [75] buick century 350                    chevrolet malibu                    \n",
      " [77] ford gran torino                     dodge coronet custom                \n",
      " [79] mercury marquis brougham             chevrolet caprice classic           \n",
      " [81] ford ltd                             plymouth fury gran sedan            \n",
      " [83] chrysler new yorker brougham         buick electra 225 custom            \n",
      " [85] amc ambassador brougham              plymouth valiant                    \n",
      " [87] chevrolet nova custom                volkswagen super beetle             \n",
      " [89] ford country                         plymouth custom suburb              \n",
      " [91] oldsmobile vista cruiser             toyota carina                       \n",
      " [93] datsun 610                           maxda rx3                           \n",
      " [95] ford pinto                           mercury capri v6                    \n",
      " [97] fiat 124 sport coupe                 chevrolet monte carlo s             \n",
      " [99] pontiac grand prix                   fiat 128                            \n",
      "[101] opel manta                           audi 100ls                          \n",
      "[103] volvo 144ea                          dodge dart custom                   \n",
      "[105] saab 99le                            toyota mark ii                      \n",
      "[107] oldsmobile omega                     chevrolet nova                      \n",
      "[109] datsun b210                          chevrolet chevelle malibu classic   \n",
      "[111] plymouth satellite sebring           buick century luxus (sw)            \n",
      "[113] dodge coronet custom (sw)            audi fox                            \n",
      "[115] volkswagen dasher                    datsun 710                          \n",
      "[117] dodge colt                           fiat 124 tc                         \n",
      "[119] honda civic                          subaru                              \n",
      "[121] fiat x1.9                            plymouth valiant custom             \n",
      "[123] mercury monarch                      chevrolet bel air                   \n",
      "[125] plymouth grand fury                  buick century                       \n",
      "[127] chevroelt chevelle malibu            plymouth fury                       \n",
      "[129] buick skyhawk                        chevrolet monza 2+2                 \n",
      "[131] ford mustang ii                      toyota corolla                      \n",
      "[133] pontiac astro                        volkswagen rabbit                   \n",
      "[135] amc pacer                            volvo 244dl                         \n",
      "[137] honda civic cvcc                     fiat 131                            \n",
      "[139] capri ii                             renault 12tl                        \n",
      "[141] dodge coronet brougham               chevrolet chevette                  \n",
      "[143] chevrolet woody                      vw rabbit                           \n",
      "[145] dodge aspen se                       ford granada ghia                   \n",
      "[147] pontiac ventura sj                   amc pacer d/l                       \n",
      "[149] datsun b-210                         volvo 245                           \n",
      "[151] plymouth volare premier v8           mercedes-benz 280s                  \n",
      "[153] cadillac seville                     chevy c10                           \n",
      "[155] ford f108                            dodge d100                          \n",
      "[157] honda accord cvcc                    buick opel isuzu deluxe             \n",
      "[159] renault 5 gtl                        plymouth arrow gs                   \n",
      "[161] datsun f-10 hatchback                oldsmobile cutlass supreme          \n",
      "[163] dodge monaco brougham                mercury cougar brougham             \n",
      "[165] chevrolet concours                   buick skylark                       \n",
      "[167] plymouth volare custom               ford granada                        \n",
      "[169] pontiac grand prix lj                chevrolet monte carlo landau        \n",
      "[171] chrysler cordoba                     ford thunderbird                    \n",
      "[173] volkswagen rabbit custom             pontiac sunbird coupe               \n",
      "[175] toyota corolla liftback              ford mustang ii 2+2                 \n",
      "[177] dodge colt m/m                       subaru dl                           \n",
      "[179] datsun 810                           bmw 320i                            \n",
      "[181] mazda rx-4                           volkswagen rabbit custom diesel     \n",
      "[183] ford fiesta                          mazda glc deluxe                    \n",
      "[185] datsun b210 gx                       oldsmobile cutlass salon brougham   \n",
      "[187] dodge diplomat                       mercury monarch ghia                \n",
      "[189] pontiac phoenix lj                   ford fairmont (auto)                \n",
      "[191] ford fairmont (man)                  plymouth volare                     \n",
      "[193] amc concord                          buick century special               \n",
      "[195] mercury zephyr                       dodge aspen                         \n",
      "[197] amc concord d/l                      buick regal sport coupe (turbo)     \n",
      "[199] ford futura                          dodge magnum xe                     \n",
      "[201] datsun 510                           dodge omni                          \n",
      "[203] toyota celica gt liftback            plymouth sapporo                    \n",
      "[205] oldsmobile starfire sx               datsun 200-sx                       \n",
      "[207] audi 5000                            volvo 264gl                         \n",
      "[209] saab 99gle                           peugeot 604sl                       \n",
      "[211] volkswagen scirocco                  honda accord lx                     \n",
      "[213] pontiac lemans v6                    mercury zephyr 6                    \n",
      "[215] ford fairmont 4                      amc concord dl 6                    \n",
      "[217] dodge aspen 6                        ford ltd landau                     \n",
      "[219] mercury grand marquis                dodge st. regis                     \n",
      "[221] chevrolet malibu classic (sw)        chrysler lebaron town @ country (sw)\n",
      "[223] vw rabbit custom                     maxda glc deluxe                    \n",
      "[225] dodge colt hatchback custom          amc spirit dl                       \n",
      "[227] mercedes benz 300d                   cadillac eldorado                   \n",
      "[229] plymouth horizon                     plymouth horizon tc3                \n",
      "[231] datsun 210                           fiat strada custom                  \n",
      "[233] buick skylark limited                chevrolet citation                  \n",
      "[235] oldsmobile omega brougham            pontiac phoenix                     \n",
      "[237] toyota corolla tercel                datsun 310                          \n",
      "[239] ford fairmont                        audi 4000                           \n",
      "[241] toyota corona liftback               mazda 626                           \n",
      "[243] datsun 510 hatchback                 mazda glc                           \n",
      "[245] vw rabbit c (diesel)                 vw dasher (diesel)                  \n",
      "[247] audi 5000s (diesel)                  mercedes-benz 240d                  \n",
      "[249] honda civic 1500 gl                  vokswagen rabbit                    \n",
      "[251] datsun 280-zx                        mazda rx-7 gs                       \n",
      "[253] triumph tr7 coupe                    honda accord                        \n",
      "[255] plymouth reliant                     dodge aries wagon (sw)              \n",
      "[257] toyota starlet                       plymouth champ                      \n",
      "[259] honda civic 1300                     datsun 210 mpg                      \n",
      "[261] toyota tercel                        mazda glc 4                         \n",
      "[263] plymouth horizon 4                   ford escort 4w                      \n",
      "[265] ford escort 2h                       volkswagen jetta                    \n",
      "[267] honda prelude                        datsun 200sx                        \n",
      "[269] peugeot 505s turbo diesel            volvo diesel                        \n",
      "[271] toyota cressida                      datsun 810 maxima                   \n",
      "[273] oldsmobile cutlass ls                ford granada gl                     \n",
      "[275] chrysler lebaron salon               chevrolet cavalier                  \n",
      "[277] chevrolet cavalier wagon             chevrolet cavalier 2-door           \n",
      "[279] pontiac j2000 se hatchback           dodge aries se                      \n",
      "[281] ford fairmont futura                 volkswagen rabbit l                 \n",
      "[283] mazda glc custom l                   mazda glc custom                    \n",
      "[285] plymouth horizon miser               mercury lynx l                      \n",
      "[287] nissan stanza xe                     honda civic (auto)                  \n",
      "[289] datsun 310 gx                        buick century limited               \n",
      "[291] oldsmobile cutlass ciera (diesel)    chrysler lebaron medallion          \n",
      "[293] ford granada l                       toyota celica gt                    \n",
      "[295] dodge charger 2.2                    chevrolet camaro                    \n",
      "[297] ford mustang gl                      vw pickup                           \n",
      "[299] dodge rampage                        ford ranger                         \n",
      "[301] chevy s-10                          \n",
      "304 Levels: amc ambassador brougham amc ambassador dpl ... vw rabbit custom\n"
     ]
    }
   ],
   "source": [
    "for (i in colnames(auto)){\n",
    "    cat('all value of', i, ': ')\n",
    "    categories <- unique(auto[[i]])\n",
    "    print(categories)\n",
    "}\n",
    "# duyệt qua các cột và xuất các giá trị có(chỉ 1 lần)"
   ]
  },
  {
   "cell_type": "code",
   "execution_count": 196,
   "metadata": {},
   "outputs": [
    {
     "name": "stdout",
     "output_type": "stream",
     "text": [
      "'data.frame':\t392 obs. of  9 variables:\n",
      " $ mpg         : num  18 15 18 16 17 15 14 14 14 15 ...\n",
      " $ cylinders   : int  8 8 8 8 8 8 8 8 8 8 ...\n",
      " $ displacement: num  307 350 318 304 302 429 454 440 455 390 ...\n",
      " $ horsepower  : num  130 165 150 150 140 198 220 215 225 190 ...\n",
      " $ weight      : num  3504 3693 3436 3433 3449 ...\n",
      " $ acceleration: num  12 11.5 11 12 10.5 10 9 8.5 10 8.5 ...\n",
      " $ year        : int  70 70 70 70 70 70 70 70 70 70 ...\n",
      " $ origin      : int  1 1 1 1 1 1 1 1 1 1 ...\n",
      " $ name        : Factor w/ 304 levels \"amc ambassador brougham\",..: 49 36 231 14 161 141 54 223 241 2 ...\n",
      " - attr(*, \"na.action\")= 'omit' Named int  33 127 331 337 355\n",
      "  ..- attr(*, \"names\")= chr  \"33\" \"127\" \"331\" \"337\" ...\n"
     ]
    }
   ],
   "source": [
    "str(auto)  # hiển thị thông tin đối tượng"
   ]
  },
  {
   "cell_type": "raw",
   "metadata": {},
   "source": [
    "quantitative là dữ liệu theo dạng số (numberic). \n",
    "    -> mpg, cylenders, displacement, horsepower, weight, acceleration, year, origin\n",
    "qualitative là dữ liệu theo dạng text (categorical)\n",
    "     -> name"
   ]
  },
  {
   "cell_type": "code",
   "execution_count": 165,
   "metadata": {},
   "outputs": [],
   "source": [
    "ql_data = auto[,9]     \n",
    "qt_data = auto[,1:8]\n",
    "# lấy 9 cột đầu"
   ]
  },
  {
   "cell_type": "markdown",
   "metadata": {},
   "source": [
    "# (b) What is the range of each quantitative predictor? You can answer this using the range() function. range()\n"
   ]
  },
  {
   "cell_type": "code",
   "execution_count": 166,
   "metadata": {},
   "outputs": [
    {
     "data": {
      "text/html": [
       "<table>\n",
       "<thead><tr><th scope=col>mpg</th><th scope=col>cylinders</th><th scope=col>displacement</th><th scope=col>horsepower</th><th scope=col>weight</th><th scope=col>acceleration</th><th scope=col>year</th><th scope=col>origin</th><th scope=col>name</th></tr></thead>\n",
       "<tbody>\n",
       "\t<tr><td>18                       </td><td>8                        </td><td>307                      </td><td>130                      </td><td>3504                     </td><td>12.0                     </td><td>70                       </td><td>1                        </td><td>chevrolet chevelle malibu</td></tr>\n",
       "\t<tr><td>15                       </td><td>8                        </td><td>350                      </td><td>165                      </td><td>3693                     </td><td>11.5                     </td><td>70                       </td><td>1                        </td><td>buick skylark 320        </td></tr>\n",
       "\t<tr><td>18                       </td><td>8                        </td><td>318                      </td><td>150                      </td><td>3436                     </td><td>11.0                     </td><td>70                       </td><td>1                        </td><td>plymouth satellite       </td></tr>\n",
       "\t<tr><td>16                       </td><td>8                        </td><td>304                      </td><td>150                      </td><td>3433                     </td><td>12.0                     </td><td>70                       </td><td>1                        </td><td>amc rebel sst            </td></tr>\n",
       "\t<tr><td>17                       </td><td>8                        </td><td>302                      </td><td>140                      </td><td>3449                     </td><td>10.5                     </td><td>70                       </td><td>1                        </td><td>ford torino              </td></tr>\n",
       "\t<tr><td>15                       </td><td>8                        </td><td>429                      </td><td>198                      </td><td>4341                     </td><td>10.0                     </td><td>70                       </td><td>1                        </td><td>ford galaxie 500         </td></tr>\n",
       "</tbody>\n",
       "</table>\n"
      ],
      "text/latex": [
       "\\begin{tabular}{r|lllllllll}\n",
       " mpg & cylinders & displacement & horsepower & weight & acceleration & year & origin & name\\\\\n",
       "\\hline\n",
       "\t 18                        & 8                         & 307                       & 130                       & 3504                      & 12.0                      & 70                        & 1                         & chevrolet chevelle malibu\\\\\n",
       "\t 15                        & 8                         & 350                       & 165                       & 3693                      & 11.5                      & 70                        & 1                         & buick skylark 320        \\\\\n",
       "\t 18                        & 8                         & 318                       & 150                       & 3436                      & 11.0                      & 70                        & 1                         & plymouth satellite       \\\\\n",
       "\t 16                        & 8                         & 304                       & 150                       & 3433                      & 12.0                      & 70                        & 1                         & amc rebel sst            \\\\\n",
       "\t 17                        & 8                         & 302                       & 140                       & 3449                      & 10.5                      & 70                        & 1                         & ford torino              \\\\\n",
       "\t 15                        & 8                         & 429                       & 198                       & 4341                      & 10.0                      & 70                        & 1                         & ford galaxie 500         \\\\\n",
       "\\end{tabular}\n"
      ],
      "text/markdown": [
       "\n",
       "| mpg | cylinders | displacement | horsepower | weight | acceleration | year | origin | name |\n",
       "|---|---|---|---|---|---|---|---|---|\n",
       "| 18                        | 8                         | 307                       | 130                       | 3504                      | 12.0                      | 70                        | 1                         | chevrolet chevelle malibu |\n",
       "| 15                        | 8                         | 350                       | 165                       | 3693                      | 11.5                      | 70                        | 1                         | buick skylark 320         |\n",
       "| 18                        | 8                         | 318                       | 150                       | 3436                      | 11.0                      | 70                        | 1                         | plymouth satellite        |\n",
       "| 16                        | 8                         | 304                       | 150                       | 3433                      | 12.0                      | 70                        | 1                         | amc rebel sst             |\n",
       "| 17                        | 8                         | 302                       | 140                       | 3449                      | 10.5                      | 70                        | 1                         | ford torino               |\n",
       "| 15                        | 8                         | 429                       | 198                       | 4341                      | 10.0                      | 70                        | 1                         | ford galaxie 500          |\n",
       "\n"
      ],
      "text/plain": [
       "  mpg cylinders displacement horsepower weight acceleration year origin\n",
       "1 18  8         307          130        3504   12.0         70   1     \n",
       "2 15  8         350          165        3693   11.5         70   1     \n",
       "3 18  8         318          150        3436   11.0         70   1     \n",
       "4 16  8         304          150        3433   12.0         70   1     \n",
       "5 17  8         302          140        3449   10.5         70   1     \n",
       "6 15  8         429          198        4341   10.0         70   1     \n",
       "  name                     \n",
       "1 chevrolet chevelle malibu\n",
       "2 buick skylark 320        \n",
       "3 plymouth satellite       \n",
       "4 amc rebel sst            \n",
       "5 ford torino              \n",
       "6 ford galaxie 500         "
      ]
     },
     "metadata": {},
     "output_type": "display_data"
    },
    {
     "data": {
      "text/html": [
       "<table>\n",
       "<tbody>\n",
       "\t<tr><th scope=row>mpg</th><td>   9  </td><td>  46.6</td></tr>\n",
       "\t<tr><th scope=row>cylinders</th><td>   3  </td><td>   8.0</td></tr>\n",
       "\t<tr><th scope=row>displacement</th><td>  68  </td><td> 455.0</td></tr>\n",
       "\t<tr><th scope=row>horsepower</th><td>  46  </td><td> 230.0</td></tr>\n",
       "\t<tr><th scope=row>weight</th><td>1613  </td><td>5140.0</td></tr>\n",
       "\t<tr><th scope=row>acceleration</th><td>   8  </td><td>  24.8</td></tr>\n",
       "\t<tr><th scope=row>year</th><td>  70  </td><td>  82.0</td></tr>\n",
       "\t<tr><th scope=row>origin</th><td>   1  </td><td>   3.0</td></tr>\n",
       "</tbody>\n",
       "</table>\n"
      ],
      "text/latex": [
       "\\begin{tabular}{r|ll}\n",
       "\tmpg &    9   &   46.6\\\\\n",
       "\tcylinders &    3   &    8.0\\\\\n",
       "\tdisplacement &   68   &  455.0\\\\\n",
       "\thorsepower &   46   &  230.0\\\\\n",
       "\tweight & 1613   & 5140.0\\\\\n",
       "\tacceleration &    8   &   24.8\\\\\n",
       "\tyear &   70   &   82.0\\\\\n",
       "\torigin &    1   &    3.0\\\\\n",
       "\\end{tabular}\n"
      ],
      "text/markdown": [
       "\n",
       "| mpg |    9   |   46.6 |\n",
       "| cylinders |    3   |    8.0 |\n",
       "| displacement |   68   |  455.0 |\n",
       "| horsepower |   46   |  230.0 |\n",
       "| weight | 1613   | 5140.0 |\n",
       "| acceleration |    8   |   24.8 |\n",
       "| year |   70   |   82.0 |\n",
       "| origin |    1   |    3.0 |\n",
       "\n"
      ],
      "text/plain": [
       "             [,1] [,2]  \n",
       "mpg             9   46.6\n",
       "cylinders       3    8.0\n",
       "displacement   68  455.0\n",
       "horsepower     46  230.0\n",
       "weight       1613 5140.0\n",
       "acceleration    8   24.8\n",
       "year           70   82.0\n",
       "origin          1    3.0"
      ]
     },
     "metadata": {},
     "output_type": "display_data"
    }
   ],
   "source": [
    "head(auto)\n",
    "t(sapply(qt_data, range))   # Hiện range của mỗi cột trong dữ liệu"
   ]
  },
  {
   "cell_type": "markdown",
   "metadata": {},
   "source": [
    "theo bảng trên, ví dụ như ở hàng 'mpg' thì ta sẽ có range của data ở cột 'mpg' từ 9 đến 46.6"
   ]
  },
  {
   "cell_type": "markdown",
   "metadata": {},
   "source": [
    "# (c) What is the mean and standard deviation of each quantitative predictor?\n"
   ]
  },
  {
   "cell_type": "code",
   "execution_count": 167,
   "metadata": {},
   "outputs": [
    {
     "data": {
      "text/html": [
       "<dl class=dl-horizontal>\n",
       "\t<dt>mpg</dt>\n",
       "\t\t<dd>23.4459183673469</dd>\n",
       "\t<dt>cylinders</dt>\n",
       "\t\t<dd>5.4719387755102</dd>\n",
       "\t<dt>displacement</dt>\n",
       "\t\t<dd>194.411989795918</dd>\n",
       "\t<dt>horsepower</dt>\n",
       "\t\t<dd>104.469387755102</dd>\n",
       "\t<dt>weight</dt>\n",
       "\t\t<dd>2977.58418367347</dd>\n",
       "\t<dt>acceleration</dt>\n",
       "\t\t<dd>15.5413265306122</dd>\n",
       "\t<dt>year</dt>\n",
       "\t\t<dd>75.9795918367347</dd>\n",
       "\t<dt>origin</dt>\n",
       "\t\t<dd>1.5765306122449</dd>\n",
       "</dl>\n"
      ],
      "text/latex": [
       "\\begin{description*}\n",
       "\\item[mpg] 23.4459183673469\n",
       "\\item[cylinders] 5.4719387755102\n",
       "\\item[displacement] 194.411989795918\n",
       "\\item[horsepower] 104.469387755102\n",
       "\\item[weight] 2977.58418367347\n",
       "\\item[acceleration] 15.5413265306122\n",
       "\\item[year] 75.9795918367347\n",
       "\\item[origin] 1.5765306122449\n",
       "\\end{description*}\n"
      ],
      "text/markdown": [
       "mpg\n",
       ":   23.4459183673469cylinders\n",
       ":   5.4719387755102displacement\n",
       ":   194.411989795918horsepower\n",
       ":   104.469387755102weight\n",
       ":   2977.58418367347acceleration\n",
       ":   15.5413265306122year\n",
       ":   75.9795918367347origin\n",
       ":   1.5765306122449\n",
       "\n"
      ],
      "text/plain": [
       "         mpg    cylinders displacement   horsepower       weight acceleration \n",
       "   23.445918     5.471939   194.411990   104.469388  2977.584184    15.541327 \n",
       "        year       origin \n",
       "   75.979592     1.576531 "
      ]
     },
     "metadata": {},
     "output_type": "display_data"
    }
   ],
   "source": [
    "auto.df<-sapply(qt_data,FUN=mean)    # Tính mean mỗi cột\n",
    "auto.df"
   ]
  },
  {
   "cell_type": "code",
   "execution_count": 168,
   "metadata": {},
   "outputs": [
    {
     "name": "stdout",
     "output_type": "stream",
     "text": [
      "mean of mpg : 23.44592 \n",
      "mean of cylinders : 5.471939 \n",
      "mean of displacement : 194.412 \n",
      "mean of horsepower : 104.4694 \n",
      "mean of weight : 2977.584 \n",
      "mean of acceleration : 15.54133 \n",
      "mean of year : 75.97959 \n",
      "mean of origin : 1.576531 \n"
     ]
    }
   ],
   "source": [
    "for (i in colnames(qt_data)){\n",
    "    cat('mean of', i, ':', mean(qt_data[[i]]),'\\n')\n",
    "}"
   ]
  },
  {
   "cell_type": "code",
   "execution_count": 169,
   "metadata": {},
   "outputs": [
    {
     "name": "stdout",
     "output_type": "stream",
     "text": [
      "standard deviation of mpg : 7.805007 \n",
      "standard deviation of cylinders : 1.705783 \n",
      "standard deviation of displacement : 104.644 \n",
      "standard deviation of horsepower : 38.49116 \n",
      "standard deviation of weight : 849.4026 \n",
      "standard deviation of acceleration : 2.758864 \n",
      "standard deviation of year : 3.683737 \n",
      "standard deviation of origin : 0.8055182 \n"
     ]
    }
   ],
   "source": [
    "for (i in colnames(qt_data)){\n",
    "    cat('standard deviation of', i, ':', sd(qt_data[[i]]),'\\n')\n",
    "}\n",
    "# Tính độ lệch chuẩn"
   ]
  },
  {
   "cell_type": "markdown",
   "metadata": {},
   "source": [
    "# (d) Now remove the 10th through 85th observations. What is the range, mean, and standard deviation of each predictor in the subset of the data that remains?\n"
   ]
  },
  {
   "cell_type": "code",
   "execution_count": 170,
   "metadata": {},
   "outputs": [
    {
     "data": {
      "text/html": [
       "<table>\n",
       "<thead><tr><th></th><th scope=col>mpg</th><th scope=col>cylinders</th><th scope=col>displacement</th><th scope=col>horsepower</th><th scope=col>weight</th><th scope=col>acceleration</th><th scope=col>year</th><th scope=col>origin</th></tr></thead>\n",
       "<tbody>\n",
       "\t<tr><th scope=row>1</th><td>18  </td><td>8   </td><td>307 </td><td>130 </td><td>3504</td><td>12.0</td><td>70  </td><td>1   </td></tr>\n",
       "\t<tr><th scope=row>2</th><td>15  </td><td>8   </td><td>350 </td><td>165 </td><td>3693</td><td>11.5</td><td>70  </td><td>1   </td></tr>\n",
       "\t<tr><th scope=row>3</th><td>18  </td><td>8   </td><td>318 </td><td>150 </td><td>3436</td><td>11.0</td><td>70  </td><td>1   </td></tr>\n",
       "\t<tr><th scope=row>4</th><td>16  </td><td>8   </td><td>304 </td><td>150 </td><td>3433</td><td>12.0</td><td>70  </td><td>1   </td></tr>\n",
       "\t<tr><th scope=row>5</th><td>17  </td><td>8   </td><td>302 </td><td>140 </td><td>3449</td><td>10.5</td><td>70  </td><td>1   </td></tr>\n",
       "\t<tr><th scope=row>6</th><td>15  </td><td>8   </td><td>429 </td><td>198 </td><td>4341</td><td>10.0</td><td>70  </td><td>1   </td></tr>\n",
       "\t<tr><th scope=row>7</th><td>14  </td><td>8   </td><td>454 </td><td>220 </td><td>4354</td><td> 9.0</td><td>70  </td><td>1   </td></tr>\n",
       "\t<tr><th scope=row>8</th><td>14  </td><td>8   </td><td>440 </td><td>215 </td><td>4312</td><td> 8.5</td><td>70  </td><td>1   </td></tr>\n",
       "\t<tr><th scope=row>9</th><td>14  </td><td>8   </td><td>455 </td><td>225 </td><td>4425</td><td>10.0</td><td>70  </td><td>1   </td></tr>\n",
       "\t<tr><th scope=row>86</th><td>13  </td><td>8   </td><td>350 </td><td>175 </td><td>4100</td><td>13.0</td><td>73  </td><td>1   </td></tr>\n",
       "\t<tr><th scope=row>87</th><td>14  </td><td>8   </td><td>304 </td><td>150 </td><td>3672</td><td>11.5</td><td>73  </td><td>1   </td></tr>\n",
       "\t<tr><th scope=row>88</th><td>13  </td><td>8   </td><td>350 </td><td>145 </td><td>3988</td><td>13.0</td><td>73  </td><td>1   </td></tr>\n",
       "\t<tr><th scope=row>89</th><td>14  </td><td>8   </td><td>302 </td><td>137 </td><td>4042</td><td>14.5</td><td>73  </td><td>1   </td></tr>\n",
       "\t<tr><th scope=row>90</th><td>15  </td><td>8   </td><td>318 </td><td>150 </td><td>3777</td><td>12.5</td><td>73  </td><td>1   </td></tr>\n",
       "\t<tr><th scope=row>91</th><td>12  </td><td>8   </td><td>429 </td><td>198 </td><td>4952</td><td>11.5</td><td>73  </td><td>1   </td></tr>\n",
       "\t<tr><th scope=row>92</th><td>13  </td><td>8   </td><td>400 </td><td>150 </td><td>4464</td><td>12.0</td><td>73  </td><td>1   </td></tr>\n",
       "\t<tr><th scope=row>93</th><td>13  </td><td>8   </td><td>351 </td><td>158 </td><td>4363</td><td>13.0</td><td>73  </td><td>1   </td></tr>\n",
       "\t<tr><th scope=row>94</th><td>14  </td><td>8   </td><td>318 </td><td>150 </td><td>4237</td><td>14.5</td><td>73  </td><td>1   </td></tr>\n",
       "\t<tr><th scope=row>95</th><td>13  </td><td>8   </td><td>440 </td><td>215 </td><td>4735</td><td>11.0</td><td>73  </td><td>1   </td></tr>\n",
       "\t<tr><th scope=row>96</th><td>12  </td><td>8   </td><td>455 </td><td>225 </td><td>4951</td><td>11.0</td><td>73  </td><td>1   </td></tr>\n",
       "\t<tr><th scope=row>97</th><td>13  </td><td>8   </td><td>360 </td><td>175 </td><td>3821</td><td>11.0</td><td>73  </td><td>1   </td></tr>\n",
       "\t<tr><th scope=row>98</th><td>18  </td><td>6   </td><td>225 </td><td>105 </td><td>3121</td><td>16.5</td><td>73  </td><td>1   </td></tr>\n",
       "\t<tr><th scope=row>99</th><td>16  </td><td>6   </td><td>250 </td><td>100 </td><td>3278</td><td>18.0</td><td>73  </td><td>1   </td></tr>\n",
       "\t<tr><th scope=row>100</th><td>18  </td><td>6   </td><td>232 </td><td>100 </td><td>2945</td><td>16.0</td><td>73  </td><td>1   </td></tr>\n",
       "\t<tr><th scope=row>101</th><td>18  </td><td>6   </td><td>250 </td><td> 88 </td><td>3021</td><td>16.5</td><td>73  </td><td>1   </td></tr>\n",
       "\t<tr><th scope=row>102</th><td>23  </td><td>6   </td><td>198 </td><td> 95 </td><td>2904</td><td>16.0</td><td>73  </td><td>1   </td></tr>\n",
       "\t<tr><th scope=row>103</th><td>26  </td><td>4   </td><td> 97 </td><td> 46 </td><td>1950</td><td>21.0</td><td>73  </td><td>2   </td></tr>\n",
       "\t<tr><th scope=row>104</th><td>11  </td><td>8   </td><td>400 </td><td>150 </td><td>4997</td><td>14.0</td><td>73  </td><td>1   </td></tr>\n",
       "\t<tr><th scope=row>105</th><td>12  </td><td>8   </td><td>400 </td><td>167 </td><td>4906</td><td>12.5</td><td>73  </td><td>1   </td></tr>\n",
       "\t<tr><th scope=row>106</th><td>13  </td><td>8   </td><td>360 </td><td>170 </td><td>4654</td><td>13.0</td><td>73  </td><td>1   </td></tr>\n",
       "\t<tr><th scope=row>...</th><td>...</td><td>...</td><td>...</td><td>...</td><td>...</td><td>...</td><td>...</td><td>...</td></tr>\n",
       "\t<tr><th scope=row>368</th><td>28  </td><td>4   </td><td>112 </td><td> 88 </td><td>2605</td><td>19.6</td><td>82  </td><td>1   </td></tr>\n",
       "\t<tr><th scope=row>369</th><td>27  </td><td>4   </td><td>112 </td><td> 88 </td><td>2640</td><td>18.6</td><td>82  </td><td>1   </td></tr>\n",
       "\t<tr><th scope=row>370</th><td>34  </td><td>4   </td><td>112 </td><td> 88 </td><td>2395</td><td>18.0</td><td>82  </td><td>1   </td></tr>\n",
       "\t<tr><th scope=row>371</th><td>31  </td><td>4   </td><td>112 </td><td> 85 </td><td>2575</td><td>16.2</td><td>82  </td><td>1   </td></tr>\n",
       "\t<tr><th scope=row>372</th><td>29  </td><td>4   </td><td>135 </td><td> 84 </td><td>2525</td><td>16.0</td><td>82  </td><td>1   </td></tr>\n",
       "\t<tr><th scope=row>373</th><td>27  </td><td>4   </td><td>151 </td><td> 90 </td><td>2735</td><td>18.0</td><td>82  </td><td>1   </td></tr>\n",
       "\t<tr><th scope=row>374</th><td>24  </td><td>4   </td><td>140 </td><td> 92 </td><td>2865</td><td>16.4</td><td>82  </td><td>1   </td></tr>\n",
       "\t<tr><th scope=row>375</th><td>36  </td><td>4   </td><td>105 </td><td> 74 </td><td>1980</td><td>15.3</td><td>82  </td><td>2   </td></tr>\n",
       "\t<tr><th scope=row>376</th><td>37  </td><td>4   </td><td> 91 </td><td> 68 </td><td>2025</td><td>18.2</td><td>82  </td><td>3   </td></tr>\n",
       "\t<tr><th scope=row>377</th><td>31  </td><td>4   </td><td> 91 </td><td> 68 </td><td>1970</td><td>17.6</td><td>82  </td><td>3   </td></tr>\n",
       "\t<tr><th scope=row>378</th><td>38  </td><td>4   </td><td>105 </td><td> 63 </td><td>2125</td><td>14.7</td><td>82  </td><td>1   </td></tr>\n",
       "\t<tr><th scope=row>379</th><td>36  </td><td>4   </td><td> 98 </td><td> 70 </td><td>2125</td><td>17.3</td><td>82  </td><td>1   </td></tr>\n",
       "\t<tr><th scope=row>380</th><td>36  </td><td>4   </td><td>120 </td><td> 88 </td><td>2160</td><td>14.5</td><td>82  </td><td>3   </td></tr>\n",
       "\t<tr><th scope=row>381</th><td>36  </td><td>4   </td><td>107 </td><td> 75 </td><td>2205</td><td>14.5</td><td>82  </td><td>3   </td></tr>\n",
       "\t<tr><th scope=row>382</th><td>34  </td><td>4   </td><td>108 </td><td> 70 </td><td>2245</td><td>16.9</td><td>82  </td><td>3   </td></tr>\n",
       "\t<tr><th scope=row>383</th><td>38  </td><td>4   </td><td> 91 </td><td> 67 </td><td>1965</td><td>15.0</td><td>82  </td><td>3   </td></tr>\n",
       "\t<tr><th scope=row>384</th><td>32  </td><td>4   </td><td> 91 </td><td> 67 </td><td>1965</td><td>15.7</td><td>82  </td><td>3   </td></tr>\n",
       "\t<tr><th scope=row>385</th><td>38  </td><td>4   </td><td> 91 </td><td> 67 </td><td>1995</td><td>16.2</td><td>82  </td><td>3   </td></tr>\n",
       "\t<tr><th scope=row>386</th><td>25  </td><td>6   </td><td>181 </td><td>110 </td><td>2945</td><td>16.4</td><td>82  </td><td>1   </td></tr>\n",
       "\t<tr><th scope=row>387</th><td>38  </td><td>6   </td><td>262 </td><td> 85 </td><td>3015</td><td>17.0</td><td>82  </td><td>1   </td></tr>\n",
       "\t<tr><th scope=row>388</th><td>26  </td><td>4   </td><td>156 </td><td> 92 </td><td>2585</td><td>14.5</td><td>82  </td><td>1   </td></tr>\n",
       "\t<tr><th scope=row>389</th><td>22  </td><td>6   </td><td>232 </td><td>112 </td><td>2835</td><td>14.7</td><td>82  </td><td>1   </td></tr>\n",
       "\t<tr><th scope=row>390</th><td>32  </td><td>4   </td><td>144 </td><td> 96 </td><td>2665</td><td>13.9</td><td>82  </td><td>3   </td></tr>\n",
       "\t<tr><th scope=row>391</th><td>36  </td><td>4   </td><td>135 </td><td> 84 </td><td>2370</td><td>13.0</td><td>82  </td><td>1   </td></tr>\n",
       "\t<tr><th scope=row>392</th><td>27  </td><td>4   </td><td>151 </td><td> 90 </td><td>2950</td><td>17.3</td><td>82  </td><td>1   </td></tr>\n",
       "\t<tr><th scope=row>393</th><td>27  </td><td>4   </td><td>140 </td><td> 86 </td><td>2790</td><td>15.6</td><td>82  </td><td>1   </td></tr>\n",
       "\t<tr><th scope=row>394</th><td>44  </td><td>4   </td><td> 97 </td><td> 52 </td><td>2130</td><td>24.6</td><td>82  </td><td>2   </td></tr>\n",
       "\t<tr><th scope=row>395</th><td>32  </td><td>4   </td><td>135 </td><td> 84 </td><td>2295</td><td>11.6</td><td>82  </td><td>1   </td></tr>\n",
       "\t<tr><th scope=row>396</th><td>28  </td><td>4   </td><td>120 </td><td> 79 </td><td>2625</td><td>18.6</td><td>82  </td><td>1   </td></tr>\n",
       "\t<tr><th scope=row>397</th><td>31  </td><td>4   </td><td>119 </td><td> 82 </td><td>2720</td><td>19.4</td><td>82  </td><td>1   </td></tr>\n",
       "</tbody>\n",
       "</table>\n"
      ],
      "text/latex": [
       "\\begin{tabular}{r|llllllll}\n",
       "  & mpg & cylinders & displacement & horsepower & weight & acceleration & year & origin\\\\\n",
       "\\hline\n",
       "\t1 & 18   & 8    & 307  & 130  & 3504 & 12.0 & 70   & 1   \\\\\n",
       "\t2 & 15   & 8    & 350  & 165  & 3693 & 11.5 & 70   & 1   \\\\\n",
       "\t3 & 18   & 8    & 318  & 150  & 3436 & 11.0 & 70   & 1   \\\\\n",
       "\t4 & 16   & 8    & 304  & 150  & 3433 & 12.0 & 70   & 1   \\\\\n",
       "\t5 & 17   & 8    & 302  & 140  & 3449 & 10.5 & 70   & 1   \\\\\n",
       "\t6 & 15   & 8    & 429  & 198  & 4341 & 10.0 & 70   & 1   \\\\\n",
       "\t7 & 14   & 8    & 454  & 220  & 4354 &  9.0 & 70   & 1   \\\\\n",
       "\t8 & 14   & 8    & 440  & 215  & 4312 &  8.5 & 70   & 1   \\\\\n",
       "\t9 & 14   & 8    & 455  & 225  & 4425 & 10.0 & 70   & 1   \\\\\n",
       "\t86 & 13   & 8    & 350  & 175  & 4100 & 13.0 & 73   & 1   \\\\\n",
       "\t87 & 14   & 8    & 304  & 150  & 3672 & 11.5 & 73   & 1   \\\\\n",
       "\t88 & 13   & 8    & 350  & 145  & 3988 & 13.0 & 73   & 1   \\\\\n",
       "\t89 & 14   & 8    & 302  & 137  & 4042 & 14.5 & 73   & 1   \\\\\n",
       "\t90 & 15   & 8    & 318  & 150  & 3777 & 12.5 & 73   & 1   \\\\\n",
       "\t91 & 12   & 8    & 429  & 198  & 4952 & 11.5 & 73   & 1   \\\\\n",
       "\t92 & 13   & 8    & 400  & 150  & 4464 & 12.0 & 73   & 1   \\\\\n",
       "\t93 & 13   & 8    & 351  & 158  & 4363 & 13.0 & 73   & 1   \\\\\n",
       "\t94 & 14   & 8    & 318  & 150  & 4237 & 14.5 & 73   & 1   \\\\\n",
       "\t95 & 13   & 8    & 440  & 215  & 4735 & 11.0 & 73   & 1   \\\\\n",
       "\t96 & 12   & 8    & 455  & 225  & 4951 & 11.0 & 73   & 1   \\\\\n",
       "\t97 & 13   & 8    & 360  & 175  & 3821 & 11.0 & 73   & 1   \\\\\n",
       "\t98 & 18   & 6    & 225  & 105  & 3121 & 16.5 & 73   & 1   \\\\\n",
       "\t99 & 16   & 6    & 250  & 100  & 3278 & 18.0 & 73   & 1   \\\\\n",
       "\t100 & 18   & 6    & 232  & 100  & 2945 & 16.0 & 73   & 1   \\\\\n",
       "\t101 & 18   & 6    & 250  &  88  & 3021 & 16.5 & 73   & 1   \\\\\n",
       "\t102 & 23   & 6    & 198  &  95  & 2904 & 16.0 & 73   & 1   \\\\\n",
       "\t103 & 26   & 4    &  97  &  46  & 1950 & 21.0 & 73   & 2   \\\\\n",
       "\t104 & 11   & 8    & 400  & 150  & 4997 & 14.0 & 73   & 1   \\\\\n",
       "\t105 & 12   & 8    & 400  & 167  & 4906 & 12.5 & 73   & 1   \\\\\n",
       "\t106 & 13   & 8    & 360  & 170  & 4654 & 13.0 & 73   & 1   \\\\\n",
       "\t... & ... & ... & ... & ... & ... & ... & ... & ...\\\\\n",
       "\t368 & 28   & 4    & 112  &  88  & 2605 & 19.6 & 82   & 1   \\\\\n",
       "\t369 & 27   & 4    & 112  &  88  & 2640 & 18.6 & 82   & 1   \\\\\n",
       "\t370 & 34   & 4    & 112  &  88  & 2395 & 18.0 & 82   & 1   \\\\\n",
       "\t371 & 31   & 4    & 112  &  85  & 2575 & 16.2 & 82   & 1   \\\\\n",
       "\t372 & 29   & 4    & 135  &  84  & 2525 & 16.0 & 82   & 1   \\\\\n",
       "\t373 & 27   & 4    & 151  &  90  & 2735 & 18.0 & 82   & 1   \\\\\n",
       "\t374 & 24   & 4    & 140  &  92  & 2865 & 16.4 & 82   & 1   \\\\\n",
       "\t375 & 36   & 4    & 105  &  74  & 1980 & 15.3 & 82   & 2   \\\\\n",
       "\t376 & 37   & 4    &  91  &  68  & 2025 & 18.2 & 82   & 3   \\\\\n",
       "\t377 & 31   & 4    &  91  &  68  & 1970 & 17.6 & 82   & 3   \\\\\n",
       "\t378 & 38   & 4    & 105  &  63  & 2125 & 14.7 & 82   & 1   \\\\\n",
       "\t379 & 36   & 4    &  98  &  70  & 2125 & 17.3 & 82   & 1   \\\\\n",
       "\t380 & 36   & 4    & 120  &  88  & 2160 & 14.5 & 82   & 3   \\\\\n",
       "\t381 & 36   & 4    & 107  &  75  & 2205 & 14.5 & 82   & 3   \\\\\n",
       "\t382 & 34   & 4    & 108  &  70  & 2245 & 16.9 & 82   & 3   \\\\\n",
       "\t383 & 38   & 4    &  91  &  67  & 1965 & 15.0 & 82   & 3   \\\\\n",
       "\t384 & 32   & 4    &  91  &  67  & 1965 & 15.7 & 82   & 3   \\\\\n",
       "\t385 & 38   & 4    &  91  &  67  & 1995 & 16.2 & 82   & 3   \\\\\n",
       "\t386 & 25   & 6    & 181  & 110  & 2945 & 16.4 & 82   & 1   \\\\\n",
       "\t387 & 38   & 6    & 262  &  85  & 3015 & 17.0 & 82   & 1   \\\\\n",
       "\t388 & 26   & 4    & 156  &  92  & 2585 & 14.5 & 82   & 1   \\\\\n",
       "\t389 & 22   & 6    & 232  & 112  & 2835 & 14.7 & 82   & 1   \\\\\n",
       "\t390 & 32   & 4    & 144  &  96  & 2665 & 13.9 & 82   & 3   \\\\\n",
       "\t391 & 36   & 4    & 135  &  84  & 2370 & 13.0 & 82   & 1   \\\\\n",
       "\t392 & 27   & 4    & 151  &  90  & 2950 & 17.3 & 82   & 1   \\\\\n",
       "\t393 & 27   & 4    & 140  &  86  & 2790 & 15.6 & 82   & 1   \\\\\n",
       "\t394 & 44   & 4    &  97  &  52  & 2130 & 24.6 & 82   & 2   \\\\\n",
       "\t395 & 32   & 4    & 135  &  84  & 2295 & 11.6 & 82   & 1   \\\\\n",
       "\t396 & 28   & 4    & 120  &  79  & 2625 & 18.6 & 82   & 1   \\\\\n",
       "\t397 & 31   & 4    & 119  &  82  & 2720 & 19.4 & 82   & 1   \\\\\n",
       "\\end{tabular}\n"
      ],
      "text/markdown": [
       "\n",
       "| <!--/--> | mpg | cylinders | displacement | horsepower | weight | acceleration | year | origin |\n",
       "|---|---|---|---|---|---|---|---|---|\n",
       "| 1 | 18   | 8    | 307  | 130  | 3504 | 12.0 | 70   | 1    |\n",
       "| 2 | 15   | 8    | 350  | 165  | 3693 | 11.5 | 70   | 1    |\n",
       "| 3 | 18   | 8    | 318  | 150  | 3436 | 11.0 | 70   | 1    |\n",
       "| 4 | 16   | 8    | 304  | 150  | 3433 | 12.0 | 70   | 1    |\n",
       "| 5 | 17   | 8    | 302  | 140  | 3449 | 10.5 | 70   | 1    |\n",
       "| 6 | 15   | 8    | 429  | 198  | 4341 | 10.0 | 70   | 1    |\n",
       "| 7 | 14   | 8    | 454  | 220  | 4354 |  9.0 | 70   | 1    |\n",
       "| 8 | 14   | 8    | 440  | 215  | 4312 |  8.5 | 70   | 1    |\n",
       "| 9 | 14   | 8    | 455  | 225  | 4425 | 10.0 | 70   | 1    |\n",
       "| 86 | 13   | 8    | 350  | 175  | 4100 | 13.0 | 73   | 1    |\n",
       "| 87 | 14   | 8    | 304  | 150  | 3672 | 11.5 | 73   | 1    |\n",
       "| 88 | 13   | 8    | 350  | 145  | 3988 | 13.0 | 73   | 1    |\n",
       "| 89 | 14   | 8    | 302  | 137  | 4042 | 14.5 | 73   | 1    |\n",
       "| 90 | 15   | 8    | 318  | 150  | 3777 | 12.5 | 73   | 1    |\n",
       "| 91 | 12   | 8    | 429  | 198  | 4952 | 11.5 | 73   | 1    |\n",
       "| 92 | 13   | 8    | 400  | 150  | 4464 | 12.0 | 73   | 1    |\n",
       "| 93 | 13   | 8    | 351  | 158  | 4363 | 13.0 | 73   | 1    |\n",
       "| 94 | 14   | 8    | 318  | 150  | 4237 | 14.5 | 73   | 1    |\n",
       "| 95 | 13   | 8    | 440  | 215  | 4735 | 11.0 | 73   | 1    |\n",
       "| 96 | 12   | 8    | 455  | 225  | 4951 | 11.0 | 73   | 1    |\n",
       "| 97 | 13   | 8    | 360  | 175  | 3821 | 11.0 | 73   | 1    |\n",
       "| 98 | 18   | 6    | 225  | 105  | 3121 | 16.5 | 73   | 1    |\n",
       "| 99 | 16   | 6    | 250  | 100  | 3278 | 18.0 | 73   | 1    |\n",
       "| 100 | 18   | 6    | 232  | 100  | 2945 | 16.0 | 73   | 1    |\n",
       "| 101 | 18   | 6    | 250  |  88  | 3021 | 16.5 | 73   | 1    |\n",
       "| 102 | 23   | 6    | 198  |  95  | 2904 | 16.0 | 73   | 1    |\n",
       "| 103 | 26   | 4    |  97  |  46  | 1950 | 21.0 | 73   | 2    |\n",
       "| 104 | 11   | 8    | 400  | 150  | 4997 | 14.0 | 73   | 1    |\n",
       "| 105 | 12   | 8    | 400  | 167  | 4906 | 12.5 | 73   | 1    |\n",
       "| 106 | 13   | 8    | 360  | 170  | 4654 | 13.0 | 73   | 1    |\n",
       "| ... | ... | ... | ... | ... | ... | ... | ... | ... |\n",
       "| 368 | 28   | 4    | 112  |  88  | 2605 | 19.6 | 82   | 1    |\n",
       "| 369 | 27   | 4    | 112  |  88  | 2640 | 18.6 | 82   | 1    |\n",
       "| 370 | 34   | 4    | 112  |  88  | 2395 | 18.0 | 82   | 1    |\n",
       "| 371 | 31   | 4    | 112  |  85  | 2575 | 16.2 | 82   | 1    |\n",
       "| 372 | 29   | 4    | 135  |  84  | 2525 | 16.0 | 82   | 1    |\n",
       "| 373 | 27   | 4    | 151  |  90  | 2735 | 18.0 | 82   | 1    |\n",
       "| 374 | 24   | 4    | 140  |  92  | 2865 | 16.4 | 82   | 1    |\n",
       "| 375 | 36   | 4    | 105  |  74  | 1980 | 15.3 | 82   | 2    |\n",
       "| 376 | 37   | 4    |  91  |  68  | 2025 | 18.2 | 82   | 3    |\n",
       "| 377 | 31   | 4    |  91  |  68  | 1970 | 17.6 | 82   | 3    |\n",
       "| 378 | 38   | 4    | 105  |  63  | 2125 | 14.7 | 82   | 1    |\n",
       "| 379 | 36   | 4    |  98  |  70  | 2125 | 17.3 | 82   | 1    |\n",
       "| 380 | 36   | 4    | 120  |  88  | 2160 | 14.5 | 82   | 3    |\n",
       "| 381 | 36   | 4    | 107  |  75  | 2205 | 14.5 | 82   | 3    |\n",
       "| 382 | 34   | 4    | 108  |  70  | 2245 | 16.9 | 82   | 3    |\n",
       "| 383 | 38   | 4    |  91  |  67  | 1965 | 15.0 | 82   | 3    |\n",
       "| 384 | 32   | 4    |  91  |  67  | 1965 | 15.7 | 82   | 3    |\n",
       "| 385 | 38   | 4    |  91  |  67  | 1995 | 16.2 | 82   | 3    |\n",
       "| 386 | 25   | 6    | 181  | 110  | 2945 | 16.4 | 82   | 1    |\n",
       "| 387 | 38   | 6    | 262  |  85  | 3015 | 17.0 | 82   | 1    |\n",
       "| 388 | 26   | 4    | 156  |  92  | 2585 | 14.5 | 82   | 1    |\n",
       "| 389 | 22   | 6    | 232  | 112  | 2835 | 14.7 | 82   | 1    |\n",
       "| 390 | 32   | 4    | 144  |  96  | 2665 | 13.9 | 82   | 3    |\n",
       "| 391 | 36   | 4    | 135  |  84  | 2370 | 13.0 | 82   | 1    |\n",
       "| 392 | 27   | 4    | 151  |  90  | 2950 | 17.3 | 82   | 1    |\n",
       "| 393 | 27   | 4    | 140  |  86  | 2790 | 15.6 | 82   | 1    |\n",
       "| 394 | 44   | 4    |  97  |  52  | 2130 | 24.6 | 82   | 2    |\n",
       "| 395 | 32   | 4    | 135  |  84  | 2295 | 11.6 | 82   | 1    |\n",
       "| 396 | 28   | 4    | 120  |  79  | 2625 | 18.6 | 82   | 1    |\n",
       "| 397 | 31   | 4    | 119  |  82  | 2720 | 19.4 | 82   | 1    |\n",
       "\n"
      ],
      "text/plain": [
       "    mpg cylinders displacement horsepower weight acceleration year origin\n",
       "1   18  8         307          130        3504   12.0         70   1     \n",
       "2   15  8         350          165        3693   11.5         70   1     \n",
       "3   18  8         318          150        3436   11.0         70   1     \n",
       "4   16  8         304          150        3433   12.0         70   1     \n",
       "5   17  8         302          140        3449   10.5         70   1     \n",
       "6   15  8         429          198        4341   10.0         70   1     \n",
       "7   14  8         454          220        4354    9.0         70   1     \n",
       "8   14  8         440          215        4312    8.5         70   1     \n",
       "9   14  8         455          225        4425   10.0         70   1     \n",
       "86  13  8         350          175        4100   13.0         73   1     \n",
       "87  14  8         304          150        3672   11.5         73   1     \n",
       "88  13  8         350          145        3988   13.0         73   1     \n",
       "89  14  8         302          137        4042   14.5         73   1     \n",
       "90  15  8         318          150        3777   12.5         73   1     \n",
       "91  12  8         429          198        4952   11.5         73   1     \n",
       "92  13  8         400          150        4464   12.0         73   1     \n",
       "93  13  8         351          158        4363   13.0         73   1     \n",
       "94  14  8         318          150        4237   14.5         73   1     \n",
       "95  13  8         440          215        4735   11.0         73   1     \n",
       "96  12  8         455          225        4951   11.0         73   1     \n",
       "97  13  8         360          175        3821   11.0         73   1     \n",
       "98  18  6         225          105        3121   16.5         73   1     \n",
       "99  16  6         250          100        3278   18.0         73   1     \n",
       "100 18  6         232          100        2945   16.0         73   1     \n",
       "101 18  6         250           88        3021   16.5         73   1     \n",
       "102 23  6         198           95        2904   16.0         73   1     \n",
       "103 26  4          97           46        1950   21.0         73   2     \n",
       "104 11  8         400          150        4997   14.0         73   1     \n",
       "105 12  8         400          167        4906   12.5         73   1     \n",
       "106 13  8         360          170        4654   13.0         73   1     \n",
       "... ... ...       ...          ...        ...    ...          ...  ...   \n",
       "368 28  4         112           88        2605   19.6         82   1     \n",
       "369 27  4         112           88        2640   18.6         82   1     \n",
       "370 34  4         112           88        2395   18.0         82   1     \n",
       "371 31  4         112           85        2575   16.2         82   1     \n",
       "372 29  4         135           84        2525   16.0         82   1     \n",
       "373 27  4         151           90        2735   18.0         82   1     \n",
       "374 24  4         140           92        2865   16.4         82   1     \n",
       "375 36  4         105           74        1980   15.3         82   2     \n",
       "376 37  4          91           68        2025   18.2         82   3     \n",
       "377 31  4          91           68        1970   17.6         82   3     \n",
       "378 38  4         105           63        2125   14.7         82   1     \n",
       "379 36  4          98           70        2125   17.3         82   1     \n",
       "380 36  4         120           88        2160   14.5         82   3     \n",
       "381 36  4         107           75        2205   14.5         82   3     \n",
       "382 34  4         108           70        2245   16.9         82   3     \n",
       "383 38  4          91           67        1965   15.0         82   3     \n",
       "384 32  4          91           67        1965   15.7         82   3     \n",
       "385 38  4          91           67        1995   16.2         82   3     \n",
       "386 25  6         181          110        2945   16.4         82   1     \n",
       "387 38  6         262           85        3015   17.0         82   1     \n",
       "388 26  4         156           92        2585   14.5         82   1     \n",
       "389 22  6         232          112        2835   14.7         82   1     \n",
       "390 32  4         144           96        2665   13.9         82   3     \n",
       "391 36  4         135           84        2370   13.0         82   1     \n",
       "392 27  4         151           90        2950   17.3         82   1     \n",
       "393 27  4         140           86        2790   15.6         82   1     \n",
       "394 44  4          97           52        2130   24.6         82   2     \n",
       "395 32  4         135           84        2295   11.6         82   1     \n",
       "396 28  4         120           79        2625   18.6         82   1     \n",
       "397 31  4         119           82        2720   19.4         82   1     "
      ]
     },
     "metadata": {},
     "output_type": "display_data"
    }
   ],
   "source": [
    "df = qt_data[-(10:84), , drop = FALSE]   # Bỏ đi dòng 10 đến dòng 85\n",
    "df"
   ]
  },
  {
   "cell_type": "code",
   "execution_count": 171,
   "metadata": {},
   "outputs": [
    {
     "name": "stdout",
     "output_type": "stream",
     "text": [
      "after remove the 10th through 85th observations\n",
      "mean of mpg : 24.36845 \n",
      "mean of cylinders : 5.381703 \n",
      "mean of displacement : 187.7539 \n",
      "mean of horsepower : 100.9558 \n",
      "mean of weight : 2939.644 \n",
      "mean of acceleration : 15.7183 \n",
      "mean of year : 77.13249 \n",
      "mean of origin : 1.599369 \n",
      "\n",
      "standard deviation of mpg : 7.880898 \n",
      "standard deviation of cylinders : 1.658135 \n",
      "standard deviation of displacement : 99.93949 \n",
      "standard deviation of horsepower : 35.89557 \n",
      "standard deviation of weight : 812.6496 \n",
      "standard deviation of acceleration : 2.693813 \n",
      "standard deviation of year : 3.110026 \n",
      "standard deviation of origin : 0.8193079 \n",
      "\n",
      "standard deviation of mpg :11 -> 46.6\n",
      "standard deviation of cylinders :3 -> 8\n",
      "standard deviation of displacement :68 -> 455\n",
      "standard deviation of horsepower :46 -> 230\n",
      "standard deviation of weight :1649 -> 4997\n",
      "standard deviation of acceleration :8.5 -> 24.8\n",
      "standard deviation of year :70 -> 82\n",
      "standard deviation of origin :1 -> 3\n"
     ]
    }
   ],
   "source": [
    "cat('after remove the 10th through 85th observations\\n')\n",
    "for (i in colnames(df)){\n",
    "    cat('mean of', i, ':', mean(df[[i]]),'\\n')\n",
    "}\n",
    "cat('\\n')\n",
    "for (i in colnames(df)){\n",
    "    cat('standard deviation of', i, ':', sd(df[[i]]),'\\n')\n",
    "}\n",
    "cat('\\n')\n",
    "for (i in colnames(df)){\n",
    "    cat('standard deviation of', i, ':')\n",
    "    cat(range(df[[i]]),sep=' -> ')\n",
    "    cat('\\n')\n",
    "}"
   ]
  },
  {
   "cell_type": "markdown",
   "metadata": {},
   "source": [
    "# (e) Using the full data set, investigate the predictors graphically, using scatterplots or other tools of your choice. Create some plots highlighting the relationships among the predictors. Comment on your findings.\n"
   ]
  },
  {
   "cell_type": "code",
   "execution_count": 172,
   "metadata": {},
   "outputs": [
    {
     "data": {
      "image/png": "[encoded data removed]",
      "text/plain": [
       "plot without title"
      ]
     },
     "metadata": {},
     "output_type": "display_data"
    }
   ],
   "source": [
    "pairs(qt_data)"
   ]
  },
  {
   "cell_type": "code",
   "execution_count": 173,
   "metadata": {},
   "outputs": [
    {
     "data": {
      "image/png": "[encoded data removed]",
      "text/plain": [
       "plot without title"
      ]
     },
     "metadata": {},
     "output_type": "display_data"
    }
   ],
   "source": [
    "plot(auto$mpg ~ auto$year , xlab =\"Year\", ylab=\"MPG\")"
   ]
  },
  {
   "cell_type": "code",
   "execution_count": 174,
   "metadata": {},
   "outputs": [
    {
     "data": {
      "image/png": "[encoded data removed]",
      "text/plain": [
       "plot without title"
      ]
     },
     "metadata": {},
     "output_type": "display_data"
    }
   ],
   "source": [
    "plot(auto$mpg ~ auto$origin , xlab =\"Origin\", ylab=\"MPG\")"
   ]
  },
  {
   "cell_type": "markdown",
   "metadata": {},
   "source": [
    "# (f) Suppose that we wish to predict gas mileage (mpg) on the basis of the other variables. Do your plots suggest that any of the other variables might be useful in predicting mpg? Justify your answer.\n"
   ]
  },
  {
   "cell_type": "code",
   "execution_count": 175,
   "metadata": {},
   "outputs": [
    {
     "data": {
      "text/html": [
       "<table>\n",
       "<thead><tr><th scope=col>(Intercept)</th><th scope=col>cylinders</th><th scope=col>year</th><th scope=col>weight</th><th scope=col>horsepower</th><th scope=col>displacement</th><th scope=col>acceleration</th><th scope=col>origin</th></tr></thead>\n",
       "<tbody>\n",
       "\t<tr><td>-17.21843   </td><td>-0.4933763  </td><td>0.7507727   </td><td>-0.006474043</td><td>-0.01695114 </td><td>0.01989564  </td><td>0.08057584  </td><td>1.42614     </td></tr>\n",
       "</tbody>\n",
       "</table>\n"
      ],
      "text/latex": [
       "\\begin{tabular}{llllllll}\n",
       " (Intercept) & cylinders & year & weight & horsepower & displacement & acceleration & origin\\\\\n",
       "\\hline\n",
       "\t -17.21843    & -0.4933763   & 0.7507727    & -0.006474043 & -0.01695114  & 0.01989564   & 0.08057584   & 1.42614     \\\\\n",
       "\\end{tabular}\n"
      ],
      "text/markdown": [
       "\n",
       "| (Intercept) | cylinders | year | weight | horsepower | displacement | acceleration | origin |\n",
       "|---|---|---|---|---|---|---|---|\n",
       "| -17.21843    | -0.4933763   | 0.7507727    | -0.006474043 | -0.01695114  | 0.01989564   | 0.08057584   | 1.42614      |\n",
       "\n"
      ],
      "text/plain": [
       "     (Intercept) cylinders  year      weight       horsepower  displacement\n",
       "[1,] -17.21843   -0.4933763 0.7507727 -0.006474043 -0.01695114 0.01989564  \n",
       "     acceleration origin \n",
       "[1,] 0.08057584   1.42614"
      ]
     },
     "metadata": {},
     "output_type": "display_data"
    }
   ],
   "source": [
    "model <- lm(mpg ~ cylinders+year+weight+horsepower+displacement+acceleration+origin,data= auto)\n",
    "t(coefficients(model))\n",
    "# Tạo model linear regression và fit"
   ]
  },
  {
   "cell_type": "code",
   "execution_count": 176,
   "metadata": {},
   "outputs": [
    {
     "data": {
      "text/html": [
       "<table>\n",
       "<thead><tr><th></th><th scope=col>Df</th><th scope=col>Sum Sq</th><th scope=col>Mean Sq</th><th scope=col>F value</th><th scope=col>Pr(&gt;F)</th></tr></thead>\n",
       "<tbody>\n",
       "\t<tr><th scope=row>cylinders</th><td>  1          </td><td>14403.083079 </td><td>14403.083079 </td><td>1300.6837882 </td><td>2.319511e-125</td></tr>\n",
       "\t<tr><th scope=row>year</th><td>  1          </td><td> 2629.175670 </td><td> 2629.175670 </td><td> 237.4301496 </td><td> 4.752132e-42</td></tr>\n",
       "\t<tr><th scope=row>weight</th><td>  1          </td><td> 2222.740783 </td><td> 2222.740783 </td><td> 200.7266699 </td><td> 5.972784e-37</td></tr>\n",
       "\t<tr><th scope=row>horsepower</th><td>  1          </td><td>    1.601499 </td><td>    1.601499 </td><td>   0.1446249 </td><td> 7.039361e-01</td></tr>\n",
       "\t<tr><th scope=row>displacement</th><td>  1          </td><td>   10.803319 </td><td>   10.803319 </td><td>   0.9756037 </td><td> 3.239085e-01</td></tr>\n",
       "\t<tr><th scope=row>acceleration</th><td>  1          </td><td>    8.242095 </td><td>    8.242095 </td><td>   0.7443100 </td><td> 3.888222e-01</td></tr>\n",
       "\t<tr><th scope=row>origin</th><td>  1          </td><td>  291.134494 </td><td>  291.134494 </td><td>  26.2911708 </td><td> 4.665681e-07</td></tr>\n",
       "\t<tr><th scope=row>Residuals</th><td>384          </td><td> 4252.212530 </td><td>   11.073470 </td><td>          NA </td><td>           NA</td></tr>\n",
       "</tbody>\n",
       "</table>\n"
      ],
      "text/latex": [
       "\\begin{tabular}{r|lllll}\n",
       "  & Df & Sum Sq & Mean Sq & F value & Pr(>F)\\\\\n",
       "\\hline\n",
       "\tcylinders &   1           & 14403.083079  & 14403.083079  & 1300.6837882  & 2.319511e-125\\\\\n",
       "\tyear &   1           &  2629.175670  &  2629.175670  &  237.4301496  &  4.752132e-42\\\\\n",
       "\tweight &   1           &  2222.740783  &  2222.740783  &  200.7266699  &  5.972784e-37\\\\\n",
       "\thorsepower &   1           &     1.601499  &     1.601499  &    0.1446249  &  7.039361e-01\\\\\n",
       "\tdisplacement &   1           &    10.803319  &    10.803319  &    0.9756037  &  3.239085e-01\\\\\n",
       "\tacceleration &   1           &     8.242095  &     8.242095  &    0.7443100  &  3.888222e-01\\\\\n",
       "\torigin &   1           &   291.134494  &   291.134494  &   26.2911708  &  4.665681e-07\\\\\n",
       "\tResiduals & 384           &  4252.212530  &    11.073470  &           NA  &            NA\\\\\n",
       "\\end{tabular}\n"
      ],
      "text/markdown": [
       "\n",
       "| <!--/--> | Df | Sum Sq | Mean Sq | F value | Pr(>F) |\n",
       "|---|---|---|---|---|---|\n",
       "| cylinders |   1           | 14403.083079  | 14403.083079  | 1300.6837882  | 2.319511e-125 |\n",
       "| year |   1           |  2629.175670  |  2629.175670  |  237.4301496  |  4.752132e-42 |\n",
       "| weight |   1           |  2222.740783  |  2222.740783  |  200.7266699  |  5.972784e-37 |\n",
       "| horsepower |   1           |     1.601499  |     1.601499  |    0.1446249  |  7.039361e-01 |\n",
       "| displacement |   1           |    10.803319  |    10.803319  |    0.9756037  |  3.239085e-01 |\n",
       "| acceleration |   1           |     8.242095  |     8.242095  |    0.7443100  |  3.888222e-01 |\n",
       "| origin |   1           |   291.134494  |   291.134494  |   26.2911708  |  4.665681e-07 |\n",
       "| Residuals | 384           |  4252.212530  |    11.073470  |           NA  |            NA |\n",
       "\n"
      ],
      "text/plain": [
       "             Df  Sum Sq       Mean Sq      F value      Pr(>F)       \n",
       "cylinders      1 14403.083079 14403.083079 1300.6837882 2.319511e-125\n",
       "year           1  2629.175670  2629.175670  237.4301496  4.752132e-42\n",
       "weight         1  2222.740783  2222.740783  200.7266699  5.972784e-37\n",
       "horsepower     1     1.601499     1.601499    0.1446249  7.039361e-01\n",
       "displacement   1    10.803319    10.803319    0.9756037  3.239085e-01\n",
       "acceleration   1     8.242095     8.242095    0.7443100  3.888222e-01\n",
       "origin         1   291.134494   291.134494   26.2911708  4.665681e-07\n",
       "Residuals    384  4252.212530    11.073470           NA            NA"
      ]
     },
     "metadata": {},
     "output_type": "display_data"
    }
   ],
   "source": [
    "anova(model)\n",
    "# Hiện bảng kết quả của model"
   ]
  },
  {
   "cell_type": "raw",
   "metadata": {},
   "source": [
    "Nhìn vào bảng trên, ta thấy các predictors 'horsepower', 'displacement', và 'acceleration' gần như không có giá trị thống kê trong việc ước tính 'mpg', vì giá trị thống kê (F value) với 'mpg' quá thấp"
   ]
  },
  {
   "cell_type": "markdown",
   "metadata": {},
   "source": [
    "# Exercise 3\n"
   ]
  },
  {
   "cell_type": "markdown",
   "metadata": {},
   "source": [
    "#  This exercise involves the Boston housing data set.\n",
    "# (a) To begin, load in the Boston data set. The Boston data set is part of the MASS library in R.\n",
    "\n",
    "> library(MASS)\n",
    "\n",
    "# Now the data set is contained in the object Boston.\n",
    "\n",
    "> Boston\n",
    "\n",
    "# Read about the data set:\n",
    "\n",
    "> ?Boston\n",
    "\n",
    "# How many rows are in this data set? How many columns? What do the rows and columns represent?"
   ]
  },
  {
   "cell_type": "code",
   "execution_count": 177,
   "metadata": {},
   "outputs": [
    {
     "data": {
      "text/html": [
       "<table>\n",
       "<thead><tr><th scope=col>crim</th><th scope=col>zn</th><th scope=col>indus</th><th scope=col>chas</th><th scope=col>nox</th><th scope=col>rm</th><th scope=col>age</th><th scope=col>dis</th><th scope=col>rad</th><th scope=col>tax</th><th scope=col>ptratio</th><th scope=col>black</th><th scope=col>lstat</th><th scope=col>medv</th></tr></thead>\n",
       "<tbody>\n",
       "\t<tr><td>0.00632</td><td>18     </td><td>2.31   </td><td>0      </td><td>0.538  </td><td>6.575  </td><td>65.2   </td><td>4.0900 </td><td>1      </td><td>296    </td><td>15.3   </td><td>396.90 </td><td>4.98   </td><td>24.0   </td></tr>\n",
       "\t<tr><td>0.02731</td><td> 0     </td><td>7.07   </td><td>0      </td><td>0.469  </td><td>6.421  </td><td>78.9   </td><td>4.9671 </td><td>2      </td><td>242    </td><td>17.8   </td><td>396.90 </td><td>9.14   </td><td>21.6   </td></tr>\n",
       "\t<tr><td>0.02729</td><td> 0     </td><td>7.07   </td><td>0      </td><td>0.469  </td><td>7.185  </td><td>61.1   </td><td>4.9671 </td><td>2      </td><td>242    </td><td>17.8   </td><td>392.83 </td><td>4.03   </td><td>34.7   </td></tr>\n",
       "\t<tr><td>0.03237</td><td> 0     </td><td>2.18   </td><td>0      </td><td>0.458  </td><td>6.998  </td><td>45.8   </td><td>6.0622 </td><td>3      </td><td>222    </td><td>18.7   </td><td>394.63 </td><td>2.94   </td><td>33.4   </td></tr>\n",
       "\t<tr><td>0.06905</td><td> 0     </td><td>2.18   </td><td>0      </td><td>0.458  </td><td>7.147  </td><td>54.2   </td><td>6.0622 </td><td>3      </td><td>222    </td><td>18.7   </td><td>396.90 </td><td>5.33   </td><td>36.2   </td></tr>\n",
       "\t<tr><td>0.02985</td><td> 0     </td><td>2.18   </td><td>0      </td><td>0.458  </td><td>6.430  </td><td>58.7   </td><td>6.0622 </td><td>3      </td><td>222    </td><td>18.7   </td><td>394.12 </td><td>5.21   </td><td>28.7   </td></tr>\n",
       "</tbody>\n",
       "</table>\n"
      ],
      "text/latex": [
       "\\begin{tabular}{r|llllllllllllll}\n",
       " crim & zn & indus & chas & nox & rm & age & dis & rad & tax & ptratio & black & lstat & medv\\\\\n",
       "\\hline\n",
       "\t 0.00632 & 18      & 2.31    & 0       & 0.538   & 6.575   & 65.2    & 4.0900  & 1       & 296     & 15.3    & 396.90  & 4.98    & 24.0   \\\\\n",
       "\t 0.02731 &  0      & 7.07    & 0       & 0.469   & 6.421   & 78.9    & 4.9671  & 2       & 242     & 17.8    & 396.90  & 9.14    & 21.6   \\\\\n",
       "\t 0.02729 &  0      & 7.07    & 0       & 0.469   & 7.185   & 61.1    & 4.9671  & 2       & 242     & 17.8    & 392.83  & 4.03    & 34.7   \\\\\n",
       "\t 0.03237 &  0      & 2.18    & 0       & 0.458   & 6.998   & 45.8    & 6.0622  & 3       & 222     & 18.7    & 394.63  & 2.94    & 33.4   \\\\\n",
       "\t 0.06905 &  0      & 2.18    & 0       & 0.458   & 7.147   & 54.2    & 6.0622  & 3       & 222     & 18.7    & 396.90  & 5.33    & 36.2   \\\\\n",
       "\t 0.02985 &  0      & 2.18    & 0       & 0.458   & 6.430   & 58.7    & 6.0622  & 3       & 222     & 18.7    & 394.12  & 5.21    & 28.7   \\\\\n",
       "\\end{tabular}\n"
      ],
      "text/markdown": [
       "\n",
       "| crim | zn | indus | chas | nox | rm | age | dis | rad | tax | ptratio | black | lstat | medv |\n",
       "|---|---|---|---|---|---|---|---|---|---|---|---|---|---|\n",
       "| 0.00632 | 18      | 2.31    | 0       | 0.538   | 6.575   | 65.2    | 4.0900  | 1       | 296     | 15.3    | 396.90  | 4.98    | 24.0    |\n",
       "| 0.02731 |  0      | 7.07    | 0       | 0.469   | 6.421   | 78.9    | 4.9671  | 2       | 242     | 17.8    | 396.90  | 9.14    | 21.6    |\n",
       "| 0.02729 |  0      | 7.07    | 0       | 0.469   | 7.185   | 61.1    | 4.9671  | 2       | 242     | 17.8    | 392.83  | 4.03    | 34.7    |\n",
       "| 0.03237 |  0      | 2.18    | 0       | 0.458   | 6.998   | 45.8    | 6.0622  | 3       | 222     | 18.7    | 394.63  | 2.94    | 33.4    |\n",
       "| 0.06905 |  0      | 2.18    | 0       | 0.458   | 7.147   | 54.2    | 6.0622  | 3       | 222     | 18.7    | 396.90  | 5.33    | 36.2    |\n",
       "| 0.02985 |  0      | 2.18    | 0       | 0.458   | 6.430   | 58.7    | 6.0622  | 3       | 222     | 18.7    | 394.12  | 5.21    | 28.7    |\n",
       "\n"
      ],
      "text/plain": [
       "  crim    zn indus chas nox   rm    age  dis    rad tax ptratio black  lstat\n",
       "1 0.00632 18 2.31  0    0.538 6.575 65.2 4.0900 1   296 15.3    396.90 4.98 \n",
       "2 0.02731  0 7.07  0    0.469 6.421 78.9 4.9671 2   242 17.8    396.90 9.14 \n",
       "3 0.02729  0 7.07  0    0.469 7.185 61.1 4.9671 2   242 17.8    392.83 4.03 \n",
       "4 0.03237  0 2.18  0    0.458 6.998 45.8 6.0622 3   222 18.7    394.63 2.94 \n",
       "5 0.06905  0 2.18  0    0.458 7.147 54.2 6.0622 3   222 18.7    396.90 5.33 \n",
       "6 0.02985  0 2.18  0    0.458 6.430 58.7 6.0622 3   222 18.7    394.12 5.21 \n",
       "  medv\n",
       "1 24.0\n",
       "2 21.6\n",
       "3 34.7\n",
       "4 33.4\n",
       "5 36.2\n",
       "6 28.7"
      ]
     },
     "metadata": {},
     "output_type": "display_data"
    }
   ],
   "source": [
    "library(MASS)\n",
    "head(Boston)\n",
    "?Boston"
   ]
  },
  {
   "cell_type": "code",
   "execution_count": 178,
   "metadata": {},
   "outputs": [
    {
     "data": {
      "text/html": [
       "<ol class=list-inline>\n",
       "\t<li>506</li>\n",
       "\t<li>14</li>\n",
       "</ol>\n"
      ],
      "text/latex": [
       "\\begin{enumerate*}\n",
       "\\item 506\n",
       "\\item 14\n",
       "\\end{enumerate*}\n"
      ],
      "text/markdown": [
       "1. 506\n",
       "2. 14\n",
       "\n",
       "\n"
      ],
      "text/plain": [
       "[1] 506  14"
      ]
     },
     "metadata": {},
     "output_type": "display_data"
    }
   ],
   "source": [
    "dim(Boston)"
   ]
  },
  {
   "cell_type": "raw",
   "metadata": {},
   "source": [
    "Data set have 506 rows và 14 columns\n",
    "Each row represent the set of predictor obeservations for a given Neighborhood in Boston. Each column represent each predictor variable for which an observation was made in 506 neighborhoods of Boston."
   ]
  },
  {
   "cell_type": "markdown",
   "metadata": {},
   "source": [
    "# (b) Make some pairwise scatterplots of the predictors (columns) in this data set. Describe your findings."
   ]
  },
  {
   "cell_type": "code",
   "execution_count": 179,
   "metadata": {},
   "outputs": [
    {
     "name": "stdout",
     "output_type": "stream",
     "text": [
      "'data.frame':\t506 obs. of  14 variables:\n",
      " $ crim   : num  0.00632 0.02731 0.02729 0.03237 0.06905 ...\n",
      " $ zn     : num  18 0 0 0 0 0 12.5 12.5 12.5 12.5 ...\n",
      " $ indus  : num  2.31 7.07 7.07 2.18 2.18 2.18 7.87 7.87 7.87 7.87 ...\n",
      " $ chas   : int  0 0 0 0 0 0 0 0 0 0 ...\n",
      " $ nox    : num  0.538 0.469 0.469 0.458 0.458 0.458 0.524 0.524 0.524 0.524 ...\n",
      " $ rm     : num  6.58 6.42 7.18 7 7.15 ...\n",
      " $ age    : num  65.2 78.9 61.1 45.8 54.2 58.7 66.6 96.1 100 85.9 ...\n",
      " $ dis    : num  4.09 4.97 4.97 6.06 6.06 ...\n",
      " $ rad    : int  1 2 2 3 3 3 5 5 5 5 ...\n",
      " $ tax    : num  296 242 242 222 222 222 311 311 311 311 ...\n",
      " $ ptratio: num  15.3 17.8 17.8 18.7 18.7 18.7 15.2 15.2 15.2 15.2 ...\n",
      " $ black  : num  397 397 393 395 397 ...\n",
      " $ lstat  : num  4.98 9.14 4.03 2.94 5.33 ...\n",
      " $ medv   : num  24 21.6 34.7 33.4 36.2 28.7 22.9 27.1 16.5 18.9 ...\n"
     ]
    }
   ],
   "source": [
    "str(Boston)"
   ]
  },
  {
   "cell_type": "code",
   "execution_count": 180,
   "metadata": {},
   "outputs": [
    {
     "data": {
      "image/png": "[encoded data removed]",
      "text/plain": [
       "plot without title"
      ]
     },
     "metadata": {},
     "output_type": "display_data"
    }
   ],
   "source": [
    "Boston$chas <- as.numeric(Boston$chas)\n",
    "Boston$rad <- as.numeric(Boston$rad)\n",
    "pairs(Boston)"
   ]
  },
  {
   "cell_type": "raw",
   "metadata": {},
   "source": [
    "I did'n find anything :("
   ]
  },
  {
   "cell_type": "markdown",
   "metadata": {},
   "source": [
    "# (c) Are any of the predictors associated with per capita crime rate? If so, explain the relationship."
   ]
  },
  {
   "cell_type": "code",
   "execution_count": 181,
   "metadata": {},
   "outputs": [
    {
     "data": {
      "text/html": [
       "<table>\n",
       "<thead><tr><th></th><th scope=col>crim</th><th scope=col>zn</th><th scope=col>indus</th><th scope=col>chas</th><th scope=col>nox</th><th scope=col>rm</th><th scope=col>age</th><th scope=col>dis</th><th scope=col>rad</th><th scope=col>tax</th><th scope=col>ptratio</th><th scope=col>black</th><th scope=col>lstat</th><th scope=col>medv</th></tr></thead>\n",
       "<tbody>\n",
       "\t<tr><th scope=row>crim</th><td> 1.00000000 </td><td>-0.20046922 </td><td> 0.40658341 </td><td>-0.055891582</td><td> 0.42097171 </td><td>-0.21924670 </td><td> 0.35273425 </td><td>-0.37967009 </td><td> 0.625505145</td><td> 0.58276431 </td><td> 0.2899456  </td><td>-0.38506394 </td><td> 0.4556215  </td><td>-0.3883046  </td></tr>\n",
       "\t<tr><th scope=row>zn</th><td>-0.20046922 </td><td> 1.00000000 </td><td>-0.53382819 </td><td>-0.042696719</td><td>-0.51660371 </td><td> 0.31199059 </td><td>-0.56953734 </td><td> 0.66440822 </td><td>-0.311947826</td><td>-0.31456332 </td><td>-0.3916785  </td><td> 0.17552032 </td><td>-0.4129946  </td><td> 0.3604453  </td></tr>\n",
       "\t<tr><th scope=row>indus</th><td> 0.40658341 </td><td>-0.53382819 </td><td> 1.00000000 </td><td> 0.062938027</td><td> 0.76365145 </td><td>-0.39167585 </td><td> 0.64477851 </td><td>-0.70802699 </td><td> 0.595129275</td><td> 0.72076018 </td><td> 0.3832476  </td><td>-0.35697654 </td><td> 0.6037997  </td><td>-0.4837252  </td></tr>\n",
       "\t<tr><th scope=row>chas</th><td>-0.05589158 </td><td>-0.04269672 </td><td> 0.06293803 </td><td> 1.000000000</td><td> 0.09120281 </td><td> 0.09125123 </td><td> 0.08651777 </td><td>-0.09917578 </td><td>-0.007368241</td><td>-0.03558652 </td><td>-0.1215152  </td><td> 0.04878848 </td><td>-0.0539293  </td><td> 0.1752602  </td></tr>\n",
       "\t<tr><th scope=row>nox</th><td> 0.42097171 </td><td>-0.51660371 </td><td> 0.76365145 </td><td> 0.091202807</td><td> 1.00000000 </td><td>-0.30218819 </td><td> 0.73147010 </td><td>-0.76923011 </td><td> 0.611440563</td><td> 0.66802320 </td><td> 0.1889327  </td><td>-0.38005064 </td><td> 0.5908789  </td><td>-0.4273208  </td></tr>\n",
       "\t<tr><th scope=row>rm</th><td>-0.21924670 </td><td> 0.31199059 </td><td>-0.39167585 </td><td> 0.091251225</td><td>-0.30218819 </td><td> 1.00000000 </td><td>-0.24026493 </td><td> 0.20524621 </td><td>-0.209846668</td><td>-0.29204783 </td><td>-0.3555015  </td><td> 0.12806864 </td><td>-0.6138083  </td><td> 0.6953599  </td></tr>\n",
       "\t<tr><th scope=row>age</th><td> 0.35273425 </td><td>-0.56953734 </td><td> 0.64477851 </td><td> 0.086517774</td><td> 0.73147010 </td><td>-0.24026493 </td><td> 1.00000000 </td><td>-0.74788054 </td><td> 0.456022452</td><td> 0.50645559 </td><td> 0.2615150  </td><td>-0.27353398 </td><td> 0.6023385  </td><td>-0.3769546  </td></tr>\n",
       "\t<tr><th scope=row>dis</th><td>-0.37967009 </td><td> 0.66440822 </td><td>-0.70802699 </td><td>-0.099175780</td><td>-0.76923011 </td><td> 0.20524621 </td><td>-0.74788054 </td><td> 1.00000000 </td><td>-0.494587930</td><td>-0.53443158 </td><td>-0.2324705  </td><td> 0.29151167 </td><td>-0.4969958  </td><td> 0.2499287  </td></tr>\n",
       "\t<tr><th scope=row>rad</th><td> 0.62550515 </td><td>-0.31194783 </td><td> 0.59512927 </td><td>-0.007368241</td><td> 0.61144056 </td><td>-0.20984667 </td><td> 0.45602245 </td><td>-0.49458793 </td><td> 1.000000000</td><td> 0.91022819 </td><td> 0.4647412  </td><td>-0.44441282 </td><td> 0.4886763  </td><td>-0.3816262  </td></tr>\n",
       "\t<tr><th scope=row>tax</th><td> 0.58276431 </td><td>-0.31456332 </td><td> 0.72076018 </td><td>-0.035586518</td><td> 0.66802320 </td><td>-0.29204783 </td><td> 0.50645559 </td><td>-0.53443158 </td><td> 0.910228189</td><td> 1.00000000 </td><td> 0.4608530  </td><td>-0.44180801 </td><td> 0.5439934  </td><td>-0.4685359  </td></tr>\n",
       "\t<tr><th scope=row>ptratio</th><td> 0.28994558 </td><td>-0.39167855 </td><td> 0.38324756 </td><td>-0.121515174</td><td> 0.18893268 </td><td>-0.35550149 </td><td> 0.26151501 </td><td>-0.23247054 </td><td> 0.464741179</td><td> 0.46085304 </td><td> 1.0000000  </td><td>-0.17738330 </td><td> 0.3740443  </td><td>-0.5077867  </td></tr>\n",
       "\t<tr><th scope=row>black</th><td>-0.38506394 </td><td> 0.17552032 </td><td>-0.35697654 </td><td> 0.048788485</td><td>-0.38005064 </td><td> 0.12806864 </td><td>-0.27353398 </td><td> 0.29151167 </td><td>-0.444412816</td><td>-0.44180801 </td><td>-0.1773833  </td><td> 1.00000000 </td><td>-0.3660869  </td><td> 0.3334608  </td></tr>\n",
       "\t<tr><th scope=row>lstat</th><td> 0.45562148 </td><td>-0.41299457 </td><td> 0.60379972 </td><td>-0.053929298</td><td> 0.59087892 </td><td>-0.61380827 </td><td> 0.60233853 </td><td>-0.49699583 </td><td> 0.488676335</td><td> 0.54399341 </td><td> 0.3740443  </td><td>-0.36608690 </td><td> 1.0000000  </td><td>-0.7376627  </td></tr>\n",
       "\t<tr><th scope=row>medv</th><td>-0.38830461 </td><td> 0.36044534 </td><td>-0.48372516 </td><td> 0.175260177</td><td>-0.42732077 </td><td> 0.69535995 </td><td>-0.37695457 </td><td> 0.24992873 </td><td>-0.381626231</td><td>-0.46853593 </td><td>-0.5077867  </td><td> 0.33346082 </td><td>-0.7376627  </td><td> 1.0000000  </td></tr>\n",
       "</tbody>\n",
       "</table>\n"
      ],
      "text/latex": [
       "\\begin{tabular}{r|llllllllllllll}\n",
       "  & crim & zn & indus & chas & nox & rm & age & dis & rad & tax & ptratio & black & lstat & medv\\\\\n",
       "\\hline\n",
       "\tcrim &  1.00000000  & -0.20046922  &  0.40658341  & -0.055891582 &  0.42097171  & -0.21924670  &  0.35273425  & -0.37967009  &  0.625505145 &  0.58276431  &  0.2899456   & -0.38506394  &  0.4556215   & -0.3883046  \\\\\n",
       "\tzn & -0.20046922  &  1.00000000  & -0.53382819  & -0.042696719 & -0.51660371  &  0.31199059  & -0.56953734  &  0.66440822  & -0.311947826 & -0.31456332  & -0.3916785   &  0.17552032  & -0.4129946   &  0.3604453  \\\\\n",
       "\tindus &  0.40658341  & -0.53382819  &  1.00000000  &  0.062938027 &  0.76365145  & -0.39167585  &  0.64477851  & -0.70802699  &  0.595129275 &  0.72076018  &  0.3832476   & -0.35697654  &  0.6037997   & -0.4837252  \\\\\n",
       "\tchas & -0.05589158  & -0.04269672  &  0.06293803  &  1.000000000 &  0.09120281  &  0.09125123  &  0.08651777  & -0.09917578  & -0.007368241 & -0.03558652  & -0.1215152   &  0.04878848  & -0.0539293   &  0.1752602  \\\\\n",
       "\tnox &  0.42097171  & -0.51660371  &  0.76365145  &  0.091202807 &  1.00000000  & -0.30218819  &  0.73147010  & -0.76923011  &  0.611440563 &  0.66802320  &  0.1889327   & -0.38005064  &  0.5908789   & -0.4273208  \\\\\n",
       "\trm & -0.21924670  &  0.31199059  & -0.39167585  &  0.091251225 & -0.30218819  &  1.00000000  & -0.24026493  &  0.20524621  & -0.209846668 & -0.29204783  & -0.3555015   &  0.12806864  & -0.6138083   &  0.6953599  \\\\\n",
       "\tage &  0.35273425  & -0.56953734  &  0.64477851  &  0.086517774 &  0.73147010  & -0.24026493  &  1.00000000  & -0.74788054  &  0.456022452 &  0.50645559  &  0.2615150   & -0.27353398  &  0.6023385   & -0.3769546  \\\\\n",
       "\tdis & -0.37967009  &  0.66440822  & -0.70802699  & -0.099175780 & -0.76923011  &  0.20524621  & -0.74788054  &  1.00000000  & -0.494587930 & -0.53443158  & -0.2324705   &  0.29151167  & -0.4969958   &  0.2499287  \\\\\n",
       "\trad &  0.62550515  & -0.31194783  &  0.59512927  & -0.007368241 &  0.61144056  & -0.20984667  &  0.45602245  & -0.49458793  &  1.000000000 &  0.91022819  &  0.4647412   & -0.44441282  &  0.4886763   & -0.3816262  \\\\\n",
       "\ttax &  0.58276431  & -0.31456332  &  0.72076018  & -0.035586518 &  0.66802320  & -0.29204783  &  0.50645559  & -0.53443158  &  0.910228189 &  1.00000000  &  0.4608530   & -0.44180801  &  0.5439934   & -0.4685359  \\\\\n",
       "\tptratio &  0.28994558  & -0.39167855  &  0.38324756  & -0.121515174 &  0.18893268  & -0.35550149  &  0.26151501  & -0.23247054  &  0.464741179 &  0.46085304  &  1.0000000   & -0.17738330  &  0.3740443   & -0.5077867  \\\\\n",
       "\tblack & -0.38506394  &  0.17552032  & -0.35697654  &  0.048788485 & -0.38005064  &  0.12806864  & -0.27353398  &  0.29151167  & -0.444412816 & -0.44180801  & -0.1773833   &  1.00000000  & -0.3660869   &  0.3334608  \\\\\n",
       "\tlstat &  0.45562148  & -0.41299457  &  0.60379972  & -0.053929298 &  0.59087892  & -0.61380827  &  0.60233853  & -0.49699583  &  0.488676335 &  0.54399341  &  0.3740443   & -0.36608690  &  1.0000000   & -0.7376627  \\\\\n",
       "\tmedv & -0.38830461  &  0.36044534  & -0.48372516  &  0.175260177 & -0.42732077  &  0.69535995  & -0.37695457  &  0.24992873  & -0.381626231 & -0.46853593  & -0.5077867   &  0.33346082  & -0.7376627   &  1.0000000  \\\\\n",
       "\\end{tabular}\n"
      ],
      "text/markdown": [
       "\n",
       "| <!--/--> | crim | zn | indus | chas | nox | rm | age | dis | rad | tax | ptratio | black | lstat | medv |\n",
       "|---|---|---|---|---|---|---|---|---|---|---|---|---|---|---|\n",
       "| crim |  1.00000000  | -0.20046922  |  0.40658341  | -0.055891582 |  0.42097171  | -0.21924670  |  0.35273425  | -0.37967009  |  0.625505145 |  0.58276431  |  0.2899456   | -0.38506394  |  0.4556215   | -0.3883046   |\n",
       "| zn | -0.20046922  |  1.00000000  | -0.53382819  | -0.042696719 | -0.51660371  |  0.31199059  | -0.56953734  |  0.66440822  | -0.311947826 | -0.31456332  | -0.3916785   |  0.17552032  | -0.4129946   |  0.3604453   |\n",
       "| indus |  0.40658341  | -0.53382819  |  1.00000000  |  0.062938027 |  0.76365145  | -0.39167585  |  0.64477851  | -0.70802699  |  0.595129275 |  0.72076018  |  0.3832476   | -0.35697654  |  0.6037997   | -0.4837252   |\n",
       "| chas | -0.05589158  | -0.04269672  |  0.06293803  |  1.000000000 |  0.09120281  |  0.09125123  |  0.08651777  | -0.09917578  | -0.007368241 | -0.03558652  | -0.1215152   |  0.04878848  | -0.0539293   |  0.1752602   |\n",
       "| nox |  0.42097171  | -0.51660371  |  0.76365145  |  0.091202807 |  1.00000000  | -0.30218819  |  0.73147010  | -0.76923011  |  0.611440563 |  0.66802320  |  0.1889327   | -0.38005064  |  0.5908789   | -0.4273208   |\n",
       "| rm | -0.21924670  |  0.31199059  | -0.39167585  |  0.091251225 | -0.30218819  |  1.00000000  | -0.24026493  |  0.20524621  | -0.209846668 | -0.29204783  | -0.3555015   |  0.12806864  | -0.6138083   |  0.6953599   |\n",
       "| age |  0.35273425  | -0.56953734  |  0.64477851  |  0.086517774 |  0.73147010  | -0.24026493  |  1.00000000  | -0.74788054  |  0.456022452 |  0.50645559  |  0.2615150   | -0.27353398  |  0.6023385   | -0.3769546   |\n",
       "| dis | -0.37967009  |  0.66440822  | -0.70802699  | -0.099175780 | -0.76923011  |  0.20524621  | -0.74788054  |  1.00000000  | -0.494587930 | -0.53443158  | -0.2324705   |  0.29151167  | -0.4969958   |  0.2499287   |\n",
       "| rad |  0.62550515  | -0.31194783  |  0.59512927  | -0.007368241 |  0.61144056  | -0.20984667  |  0.45602245  | -0.49458793  |  1.000000000 |  0.91022819  |  0.4647412   | -0.44441282  |  0.4886763   | -0.3816262   |\n",
       "| tax |  0.58276431  | -0.31456332  |  0.72076018  | -0.035586518 |  0.66802320  | -0.29204783  |  0.50645559  | -0.53443158  |  0.910228189 |  1.00000000  |  0.4608530   | -0.44180801  |  0.5439934   | -0.4685359   |\n",
       "| ptratio |  0.28994558  | -0.39167855  |  0.38324756  | -0.121515174 |  0.18893268  | -0.35550149  |  0.26151501  | -0.23247054  |  0.464741179 |  0.46085304  |  1.0000000   | -0.17738330  |  0.3740443   | -0.5077867   |\n",
       "| black | -0.38506394  |  0.17552032  | -0.35697654  |  0.048788485 | -0.38005064  |  0.12806864  | -0.27353398  |  0.29151167  | -0.444412816 | -0.44180801  | -0.1773833   |  1.00000000  | -0.3660869   |  0.3334608   |\n",
       "| lstat |  0.45562148  | -0.41299457  |  0.60379972  | -0.053929298 |  0.59087892  | -0.61380827  |  0.60233853  | -0.49699583  |  0.488676335 |  0.54399341  |  0.3740443   | -0.36608690  |  1.0000000   | -0.7376627   |\n",
       "| medv | -0.38830461  |  0.36044534  | -0.48372516  |  0.175260177 | -0.42732077  |  0.69535995  | -0.37695457  |  0.24992873  | -0.381626231 | -0.46853593  | -0.5077867   |  0.33346082  | -0.7376627   |  1.0000000   |\n",
       "\n"
      ],
      "text/plain": [
       "        crim        zn          indus       chas         nox        \n",
       "crim     1.00000000 -0.20046922  0.40658341 -0.055891582  0.42097171\n",
       "zn      -0.20046922  1.00000000 -0.53382819 -0.042696719 -0.51660371\n",
       "indus    0.40658341 -0.53382819  1.00000000  0.062938027  0.76365145\n",
       "chas    -0.05589158 -0.04269672  0.06293803  1.000000000  0.09120281\n",
       "nox      0.42097171 -0.51660371  0.76365145  0.091202807  1.00000000\n",
       "rm      -0.21924670  0.31199059 -0.39167585  0.091251225 -0.30218819\n",
       "age      0.35273425 -0.56953734  0.64477851  0.086517774  0.73147010\n",
       "dis     -0.37967009  0.66440822 -0.70802699 -0.099175780 -0.76923011\n",
       "rad      0.62550515 -0.31194783  0.59512927 -0.007368241  0.61144056\n",
       "tax      0.58276431 -0.31456332  0.72076018 -0.035586518  0.66802320\n",
       "ptratio  0.28994558 -0.39167855  0.38324756 -0.121515174  0.18893268\n",
       "black   -0.38506394  0.17552032 -0.35697654  0.048788485 -0.38005064\n",
       "lstat    0.45562148 -0.41299457  0.60379972 -0.053929298  0.59087892\n",
       "medv    -0.38830461  0.36044534 -0.48372516  0.175260177 -0.42732077\n",
       "        rm          age         dis         rad          tax         ptratio   \n",
       "crim    -0.21924670  0.35273425 -0.37967009  0.625505145  0.58276431  0.2899456\n",
       "zn       0.31199059 -0.56953734  0.66440822 -0.311947826 -0.31456332 -0.3916785\n",
       "indus   -0.39167585  0.64477851 -0.70802699  0.595129275  0.72076018  0.3832476\n",
       "chas     0.09125123  0.08651777 -0.09917578 -0.007368241 -0.03558652 -0.1215152\n",
       "nox     -0.30218819  0.73147010 -0.76923011  0.611440563  0.66802320  0.1889327\n",
       "rm       1.00000000 -0.24026493  0.20524621 -0.209846668 -0.29204783 -0.3555015\n",
       "age     -0.24026493  1.00000000 -0.74788054  0.456022452  0.50645559  0.2615150\n",
       "dis      0.20524621 -0.74788054  1.00000000 -0.494587930 -0.53443158 -0.2324705\n",
       "rad     -0.20984667  0.45602245 -0.49458793  1.000000000  0.91022819  0.4647412\n",
       "tax     -0.29204783  0.50645559 -0.53443158  0.910228189  1.00000000  0.4608530\n",
       "ptratio -0.35550149  0.26151501 -0.23247054  0.464741179  0.46085304  1.0000000\n",
       "black    0.12806864 -0.27353398  0.29151167 -0.444412816 -0.44180801 -0.1773833\n",
       "lstat   -0.61380827  0.60233853 -0.49699583  0.488676335  0.54399341  0.3740443\n",
       "medv     0.69535995 -0.37695457  0.24992873 -0.381626231 -0.46853593 -0.5077867\n",
       "        black       lstat      medv      \n",
       "crim    -0.38506394  0.4556215 -0.3883046\n",
       "zn       0.17552032 -0.4129946  0.3604453\n",
       "indus   -0.35697654  0.6037997 -0.4837252\n",
       "chas     0.04878848 -0.0539293  0.1752602\n",
       "nox     -0.38005064  0.5908789 -0.4273208\n",
       "rm       0.12806864 -0.6138083  0.6953599\n",
       "age     -0.27353398  0.6023385 -0.3769546\n",
       "dis      0.29151167 -0.4969958  0.2499287\n",
       "rad     -0.44441282  0.4886763 -0.3816262\n",
       "tax     -0.44180801  0.5439934 -0.4685359\n",
       "ptratio -0.17738330  0.3740443 -0.5077867\n",
       "black    1.00000000 -0.3660869  0.3334608\n",
       "lstat   -0.36608690  1.0000000 -0.7376627\n",
       "medv     0.33346082 -0.7376627  1.0000000"
      ]
     },
     "metadata": {},
     "output_type": "display_data"
    }
   ],
   "source": [
    "cor(Boston)"
   ]
  },
  {
   "cell_type": "raw",
   "metadata": {},
   "source": [
    "Based on the correlation coefficients, i see other predictors be affect to crime rate."
   ]
  },
  {
   "cell_type": "markdown",
   "metadata": {},
   "source": [
    "# (d) Do any of the suburbs of Boston appear to have particularly high crime rates? Tax rates? Pupil-teacher ratios? Comment on the range of each predictor."
   ]
  },
  {
   "cell_type": "code",
   "execution_count": 182,
   "metadata": {},
   "outputs": [
    {
     "data": {
      "text/plain": [
       "    Min.  1st Qu.   Median     Mean  3rd Qu.     Max. \n",
       " 0.00632  0.08204  0.25651  3.61352  3.67708 88.97620 "
      ]
     },
     "metadata": {},
     "output_type": "display_data"
    }
   ],
   "source": [
    "summary(Boston$crim)"
   ]
  },
  {
   "cell_type": "code",
   "execution_count": 183,
   "metadata": {},
   "outputs": [
    {
     "data": {
      "image/png": "[encoded data removed]",
      "text/plain": [
       "plot without title"
      ]
     },
     "metadata": {},
     "output_type": "display_data"
    }
   ],
   "source": [
    "library(ggplot2)\n",
    "qplot(Boston$crim, binwidth=5 , xlab = \"Crime rate\", ylab=\"Number of Suburbs\" )"
   ]
  },
  {
   "cell_type": "code",
   "execution_count": 184,
   "metadata": {},
   "outputs": [
    {
     "data": {
      "image/png": "[encoded data removed]",
      "text/plain": [
       "plot without title"
      ]
     },
     "metadata": {},
     "output_type": "display_data"
    }
   ],
   "source": [
    "qplot(Boston$tax, binwidth=50 , xlab = \"Full-value property-tax rate per $10,000\", ylab=\"Number of Suburbs\")"
   ]
  },
  {
   "cell_type": "code",
   "execution_count": 185,
   "metadata": {},
   "outputs": [
    {
     "data": {
      "image/png": "[encoded data removed]",
      "text/plain": [
       "plot without title"
      ]
     },
     "metadata": {},
     "output_type": "display_data"
    }
   ],
   "source": [
    "qplot(Boston$ptratio, binwidth=5, xlab =\"Pupil-teacher ratio by town\", ylab=\"Number of Suburbs\")"
   ]
  },
  {
   "cell_type": "code",
   "execution_count": 186,
   "metadata": {},
   "outputs": [
    {
     "data": {
      "text/html": [
       "<ol class=list-inline>\n",
       "\t<li>0.00632</li>\n",
       "\t<li>88.9762</li>\n",
       "</ol>\n"
      ],
      "text/latex": [
       "\\begin{enumerate*}\n",
       "\\item 0.00632\n",
       "\\item 88.9762\n",
       "\\end{enumerate*}\n"
      ],
      "text/markdown": [
       "1. 0.00632\n",
       "2. 88.9762\n",
       "\n",
       "\n"
      ],
      "text/plain": [
       "[1]  0.00632 88.97620"
      ]
     },
     "metadata": {},
     "output_type": "display_data"
    },
    {
     "data": {
      "text/html": [
       "3.61352355731225"
      ],
      "text/latex": [
       "3.61352355731225"
      ],
      "text/markdown": [
       "3.61352355731225"
      ],
      "text/plain": [
       "[1] 3.613524"
      ]
     },
     "metadata": {},
     "output_type": "display_data"
    },
    {
     "data": {
      "text/html": [
       "0.25651"
      ],
      "text/latex": [
       "0.25651"
      ],
      "text/markdown": [
       "0.25651"
      ],
      "text/plain": [
       "[1] 0.25651"
      ]
     },
     "metadata": {},
     "output_type": "display_data"
    }
   ],
   "source": [
    "range(Boston[['crim']])\n",
    "mean(Boston[['crim']])\n",
    "median(Boston[['crim']])"
   ]
  },
  {
   "cell_type": "raw",
   "metadata": {},
   "source": [
    "với tỉ lệ tội phạm trung bình là 25.6% nhưng lại có những khu vực mà tỉ lệ vượt mốc cao đáng kể so với tỉ lệ tội phạm trung bình. \n",
    "-> Có một số khu vực có tỉ lệ tội phạm thật sự cao"
   ]
  },
  {
   "cell_type": "markdown",
   "metadata": {},
   "source": [
    "# (e) How many of the suburbs in this data set bound the Charles river?"
   ]
  },
  {
   "cell_type": "raw",
   "metadata": {},
   "source": []
  },
  {
   "cell_type": "code",
   "execution_count": 187,
   "metadata": {},
   "outputs": [
    {
     "data": {
      "text/html": [
       "35"
      ],
      "text/latex": [
       "35"
      ],
      "text/markdown": [
       "35"
      ],
      "text/plain": [
       "[1] 35"
      ]
     },
     "metadata": {},
     "output_type": "display_data"
    }
   ],
   "source": [
    "nrow(subset(Boston, chas ==1)) "
   ]
  },
  {
   "cell_type": "markdown",
   "metadata": {},
   "source": [
    "# (f) What is the median pupil-teacher ratio among the towns in this data set?"
   ]
  },
  {
   "cell_type": "code",
   "execution_count": 188,
   "metadata": {},
   "outputs": [
    {
     "data": {
      "text/html": [
       "18.4555335968379"
      ],
      "text/latex": [
       "18.4555335968379"
      ],
      "text/markdown": [
       "18.4555335968379"
      ],
      "text/plain": [
       "[1] 18.45553"
      ]
     },
     "metadata": {},
     "output_type": "display_data"
    }
   ],
   "source": [
    "mean(Boston[['ptratio']])"
   ]
  },
  {
   "cell_type": "markdown",
   "metadata": {},
   "source": [
    "# (g) Which suburb of Boston has lowest median value of owneroccupied homes? What are the values of the other predictors for that suburb, and how do those values compare to the overall ranges for those predictors? Comment on your findings"
   ]
  },
  {
   "cell_type": "code",
   "execution_count": 189,
   "metadata": {},
   "outputs": [
    {
     "data": {
      "text/html": [
       "<table>\n",
       "<thead><tr><th></th><th scope=col>crim</th><th scope=col>zn</th><th scope=col>indus</th><th scope=col>chas</th><th scope=col>nox</th><th scope=col>rm</th><th scope=col>age</th><th scope=col>dis</th><th scope=col>rad</th><th scope=col>tax</th><th scope=col>ptratio</th><th scope=col>black</th><th scope=col>lstat</th><th scope=col>medv</th></tr></thead>\n",
       "<tbody>\n",
       "\t<tr><th scope=row>399</th><td>38.35180</td><td>0       </td><td>18.10   </td><td>0       </td><td>0.693   </td><td>5.453   </td><td>100.0   </td><td>1.4896  </td><td>24      </td><td>666     </td><td>20.2    </td><td>396.90  </td><td>30.59   </td><td>5.0     </td></tr>\n",
       "\t<tr><th scope=row>406</th><td>67.92080</td><td>0       </td><td>18.10   </td><td>0       </td><td>0.693   </td><td>5.683   </td><td>100.0   </td><td>1.4254  </td><td>24      </td><td>666     </td><td>20.2    </td><td>384.97  </td><td>22.98   </td><td>5.0     </td></tr>\n",
       "\t<tr><th scope=row>401</th><td>25.04610</td><td>0       </td><td>18.10   </td><td>0       </td><td>0.693   </td><td>5.987   </td><td>100.0   </td><td>1.5888  </td><td>24      </td><td>666     </td><td>20.2    </td><td>396.90  </td><td>26.77   </td><td>5.6     </td></tr>\n",
       "\t<tr><th scope=row>400</th><td> 9.91655</td><td>0       </td><td>18.10   </td><td>0       </td><td>0.693   </td><td>5.852   </td><td> 77.8   </td><td>1.5004  </td><td>24      </td><td>666     </td><td>20.2    </td><td>338.16  </td><td>29.97   </td><td>6.3     </td></tr>\n",
       "\t<tr><th scope=row>415</th><td>45.74610</td><td>0       </td><td>18.10   </td><td>0       </td><td>0.693   </td><td>4.519   </td><td>100.0   </td><td>1.6582  </td><td>24      </td><td>666     </td><td>20.2    </td><td> 88.27  </td><td>36.98   </td><td>7.0     </td></tr>\n",
       "\t<tr><th scope=row>490</th><td> 0.18337</td><td>0       </td><td>27.74   </td><td>0       </td><td>0.609   </td><td>5.414   </td><td> 98.3   </td><td>1.7554  </td><td> 4      </td><td>711     </td><td>20.1    </td><td>344.05  </td><td>23.97   </td><td>7.0     </td></tr>\n",
       "</tbody>\n",
       "</table>\n"
      ],
      "text/latex": [
       "\\begin{tabular}{r|llllllllllllll}\n",
       "  & crim & zn & indus & chas & nox & rm & age & dis & rad & tax & ptratio & black & lstat & medv\\\\\n",
       "\\hline\n",
       "\t399 & 38.35180 & 0        & 18.10    & 0        & 0.693    & 5.453    & 100.0    & 1.4896   & 24       & 666      & 20.2     & 396.90   & 30.59    & 5.0     \\\\\n",
       "\t406 & 67.92080 & 0        & 18.10    & 0        & 0.693    & 5.683    & 100.0    & 1.4254   & 24       & 666      & 20.2     & 384.97   & 22.98    & 5.0     \\\\\n",
       "\t401 & 25.04610 & 0        & 18.10    & 0        & 0.693    & 5.987    & 100.0    & 1.5888   & 24       & 666      & 20.2     & 396.90   & 26.77    & 5.6     \\\\\n",
       "\t400 &  9.91655 & 0        & 18.10    & 0        & 0.693    & 5.852    &  77.8    & 1.5004   & 24       & 666      & 20.2     & 338.16   & 29.97    & 6.3     \\\\\n",
       "\t415 & 45.74610 & 0        & 18.10    & 0        & 0.693    & 4.519    & 100.0    & 1.6582   & 24       & 666      & 20.2     &  88.27   & 36.98    & 7.0     \\\\\n",
       "\t490 &  0.18337 & 0        & 27.74    & 0        & 0.609    & 5.414    &  98.3    & 1.7554   &  4       & 711      & 20.1     & 344.05   & 23.97    & 7.0     \\\\\n",
       "\\end{tabular}\n"
      ],
      "text/markdown": [
       "\n",
       "| <!--/--> | crim | zn | indus | chas | nox | rm | age | dis | rad | tax | ptratio | black | lstat | medv |\n",
       "|---|---|---|---|---|---|---|---|---|---|---|---|---|---|---|\n",
       "| 399 | 38.35180 | 0        | 18.10    | 0        | 0.693    | 5.453    | 100.0    | 1.4896   | 24       | 666      | 20.2     | 396.90   | 30.59    | 5.0      |\n",
       "| 406 | 67.92080 | 0        | 18.10    | 0        | 0.693    | 5.683    | 100.0    | 1.4254   | 24       | 666      | 20.2     | 384.97   | 22.98    | 5.0      |\n",
       "| 401 | 25.04610 | 0        | 18.10    | 0        | 0.693    | 5.987    | 100.0    | 1.5888   | 24       | 666      | 20.2     | 396.90   | 26.77    | 5.6      |\n",
       "| 400 |  9.91655 | 0        | 18.10    | 0        | 0.693    | 5.852    |  77.8    | 1.5004   | 24       | 666      | 20.2     | 338.16   | 29.97    | 6.3      |\n",
       "| 415 | 45.74610 | 0        | 18.10    | 0        | 0.693    | 4.519    | 100.0    | 1.6582   | 24       | 666      | 20.2     |  88.27   | 36.98    | 7.0      |\n",
       "| 490 |  0.18337 | 0        | 27.74    | 0        | 0.609    | 5.414    |  98.3    | 1.7554   |  4       | 711      | 20.1     | 344.05   | 23.97    | 7.0      |\n",
       "\n"
      ],
      "text/plain": [
       "    crim     zn indus chas nox   rm    age   dis    rad tax ptratio black \n",
       "399 38.35180 0  18.10 0    0.693 5.453 100.0 1.4896 24  666 20.2    396.90\n",
       "406 67.92080 0  18.10 0    0.693 5.683 100.0 1.4254 24  666 20.2    384.97\n",
       "401 25.04610 0  18.10 0    0.693 5.987 100.0 1.5888 24  666 20.2    396.90\n",
       "400  9.91655 0  18.10 0    0.693 5.852  77.8 1.5004 24  666 20.2    338.16\n",
       "415 45.74610 0  18.10 0    0.693 4.519 100.0 1.6582 24  666 20.2     88.27\n",
       "490  0.18337 0  27.74 0    0.609 5.414  98.3 1.7554  4  711 20.1    344.05\n",
       "    lstat medv\n",
       "399 30.59 5.0 \n",
       "406 22.98 5.0 \n",
       "401 26.77 5.6 \n",
       "400 29.97 6.3 \n",
       "415 36.98 7.0 \n",
       "490 23.97 7.0 "
      ]
     },
     "metadata": {},
     "output_type": "display_data"
    }
   ],
   "source": [
    "selection <- Boston[order(Boston$medv),]\n",
    "head(selection)"
   ]
  },
  {
   "cell_type": "raw",
   "metadata": {},
   "source": [
    "after sort, #399 and #406 have lowest meadian value of owneroccupied homes."
   ]
  },
  {
   "cell_type": "code",
   "execution_count": 190,
   "metadata": {},
   "outputs": [
    {
     "data": {
      "text/plain": [
       "      crim                zn             indus            chas        \n",
       " Min.   : 0.00632   Min.   :  0.00   Min.   : 0.46   Min.   :0.00000  \n",
       " 1st Qu.: 0.08204   1st Qu.:  0.00   1st Qu.: 5.19   1st Qu.:0.00000  \n",
       " Median : 0.25651   Median :  0.00   Median : 9.69   Median :0.00000  \n",
       " Mean   : 3.61352   Mean   : 11.36   Mean   :11.14   Mean   :0.06917  \n",
       " 3rd Qu.: 3.67708   3rd Qu.: 12.50   3rd Qu.:18.10   3rd Qu.:0.00000  \n",
       " Max.   :88.97620   Max.   :100.00   Max.   :27.74   Max.   :1.00000  \n",
       "      nox               rm             age              dis        \n",
       " Min.   :0.3850   Min.   :3.561   Min.   :  2.90   Min.   : 1.130  \n",
       " 1st Qu.:0.4490   1st Qu.:5.886   1st Qu.: 45.02   1st Qu.: 2.100  \n",
       " Median :0.5380   Median :6.208   Median : 77.50   Median : 3.207  \n",
       " Mean   :0.5547   Mean   :6.285   Mean   : 68.57   Mean   : 3.795  \n",
       " 3rd Qu.:0.6240   3rd Qu.:6.623   3rd Qu.: 94.08   3rd Qu.: 5.188  \n",
       " Max.   :0.8710   Max.   :8.780   Max.   :100.00   Max.   :12.127  \n",
       "      rad              tax           ptratio          black       \n",
       " Min.   : 1.000   Min.   :187.0   Min.   :12.60   Min.   :  0.32  \n",
       " 1st Qu.: 4.000   1st Qu.:279.0   1st Qu.:17.40   1st Qu.:375.38  \n",
       " Median : 5.000   Median :330.0   Median :19.05   Median :391.44  \n",
       " Mean   : 9.549   Mean   :408.2   Mean   :18.46   Mean   :356.67  \n",
       " 3rd Qu.:24.000   3rd Qu.:666.0   3rd Qu.:20.20   3rd Qu.:396.23  \n",
       " Max.   :24.000   Max.   :711.0   Max.   :22.00   Max.   :396.90  \n",
       "     lstat            medv      \n",
       " Min.   : 1.73   Min.   : 5.00  \n",
       " 1st Qu.: 6.95   1st Qu.:17.02  \n",
       " Median :11.36   Median :21.20  \n",
       " Mean   :12.65   Mean   :22.53  \n",
       " 3rd Qu.:16.95   3rd Qu.:25.00  \n",
       " Max.   :37.97   Max.   :50.00  "
      ]
     },
     "metadata": {},
     "output_type": "display_data"
    }
   ],
   "source": [
    "summary(Boston)"
   ]
  },
  {
   "cell_type": "markdown",
   "metadata": {},
   "source": [
    "# (f) In this data set, how many of the suburbs average more than seven rooms per dwelling? More than eight rooms per dwelling? Comment on the suburbs that average more than eight rooms per dwelling."
   ]
  },
  {
   "cell_type": "code",
   "execution_count": 191,
   "metadata": {},
   "outputs": [
    {
     "data": {
      "text/html": [
       "64"
      ],
      "text/latex": [
       "64"
      ],
      "text/markdown": [
       "64"
      ],
      "text/plain": [
       "[1] 64"
      ]
     },
     "metadata": {},
     "output_type": "display_data"
    }
   ],
   "source": [
    "selection7 <- subset(Boston, rm>7)\n",
    "nrow(selection7)  "
   ]
  },
  {
   "cell_type": "raw",
   "metadata": {},
   "source": [
    "there are 64 the suburbs average more than seven rooms per dwelling"
   ]
  },
  {
   "cell_type": "code",
   "execution_count": 192,
   "metadata": {},
   "outputs": [
    {
     "data": {
      "text/html": [
       "13"
      ],
      "text/latex": [
       "13"
      ],
      "text/markdown": [
       "13"
      ],
      "text/plain": [
       "[1] 13"
      ]
     },
     "metadata": {},
     "output_type": "display_data"
    }
   ],
   "source": [
    "selection8 <- subset(Boston, rm>8)\n",
    "nrow(selection8)  "
   ]
  },
  {
   "cell_type": "raw",
   "metadata": {},
   "source": [
    "there are 64 the suburbs average more than eight rooms per dwelling"
   ]
  },
  {
   "cell_type": "code",
   "execution_count": 193,
   "metadata": {},
   "outputs": [
    {
     "data": {
      "text/plain": [
       "      crim               zn            indus             chas       \n",
       " Min.   :0.02009   Min.   : 0.00   Min.   : 2.680   Min.   :0.0000  \n",
       " 1st Qu.:0.33147   1st Qu.: 0.00   1st Qu.: 3.970   1st Qu.:0.0000  \n",
       " Median :0.52014   Median : 0.00   Median : 6.200   Median :0.0000  \n",
       " Mean   :0.71879   Mean   :13.62   Mean   : 7.078   Mean   :0.1538  \n",
       " 3rd Qu.:0.57834   3rd Qu.:20.00   3rd Qu.: 6.200   3rd Qu.:0.0000  \n",
       " Max.   :3.47428   Max.   :95.00   Max.   :19.580   Max.   :1.0000  \n",
       "      nox               rm             age             dis       \n",
       " Min.   :0.4161   Min.   :8.034   Min.   : 8.40   Min.   :1.801  \n",
       " 1st Qu.:0.5040   1st Qu.:8.247   1st Qu.:70.40   1st Qu.:2.288  \n",
       " Median :0.5070   Median :8.297   Median :78.30   Median :2.894  \n",
       " Mean   :0.5392   Mean   :8.349   Mean   :71.54   Mean   :3.430  \n",
       " 3rd Qu.:0.6050   3rd Qu.:8.398   3rd Qu.:86.50   3rd Qu.:3.652  \n",
       " Max.   :0.7180   Max.   :8.780   Max.   :93.90   Max.   :8.907  \n",
       "      rad              tax           ptratio          black      \n",
       " Min.   : 2.000   Min.   :224.0   Min.   :13.00   Min.   :354.6  \n",
       " 1st Qu.: 5.000   1st Qu.:264.0   1st Qu.:14.70   1st Qu.:384.5  \n",
       " Median : 7.000   Median :307.0   Median :17.40   Median :386.9  \n",
       " Mean   : 7.462   Mean   :325.1   Mean   :16.36   Mean   :385.2  \n",
       " 3rd Qu.: 8.000   3rd Qu.:307.0   3rd Qu.:17.40   3rd Qu.:389.7  \n",
       " Max.   :24.000   Max.   :666.0   Max.   :20.20   Max.   :396.9  \n",
       "     lstat           medv     \n",
       " Min.   :2.47   Min.   :21.9  \n",
       " 1st Qu.:3.32   1st Qu.:41.7  \n",
       " Median :4.14   Median :48.3  \n",
       " Mean   :4.31   Mean   :44.2  \n",
       " 3rd Qu.:5.12   3rd Qu.:50.0  \n",
       " Max.   :7.44   Max.   :50.0  "
      ]
     },
     "metadata": {},
     "output_type": "display_data"
    }
   ],
   "source": [
    "summary(selection8)"
   ]
  },
  {
   "cell_type": "code",
   "execution_count": null,
   "metadata": {},
   "outputs": [],
   "source": []
  }
 ],
 "metadata": {
  "kernelspec": {
   "display_name": "R",
   "language": "R",
   "name": "ir"
  },
  "language_info": {
   "codemirror_mode": "r",
   "file_extension": ".r",
   "mimetype": "text/x-r-source",
   "name": "R",
   "pygments_lexer": "r",
   "version": "3.6.1"
  }
 },
 "nbformat": 4,
 "nbformat_minor": 4
}
